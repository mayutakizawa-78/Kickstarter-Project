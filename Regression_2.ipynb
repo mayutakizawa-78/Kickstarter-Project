{
 "cells": [
  {
   "cell_type": "markdown",
   "metadata": {},
   "source": [
    "# 通し課題模範解答 回帰編 DAY 2\n",
    "- kaggle の kickstarter project に関して，usd_pledged_real を予測するモデルを作成する\n",
    "    - https://www.kaggle.com/kemical/kickstarter-projects?select=ks-projects-201801.csv\n",
    "- DAY 2 では，以下を行う\n",
    "    - モデルの検証\n",
    "    - 前処理\n",
    "    - 正則化・ハイパーパラメータの探索\n",
    "    - SVM の利用"
   ]
  },
  {
   "cell_type": "code",
   "execution_count": 1,
   "metadata": {},
   "outputs": [],
   "source": [
    "import pandas as pd\n",
    "import numpy as np\n",
    "import matplotlib.pyplot as plt\n",
    "from sklearn.linear_model import LinearRegression, Ridge, Lasso\n",
    "from sklearn.svm import SVR\n",
    "from sklearn.model_selection import train_test_split, cross_validate, KFold, GridSearchCV\n",
    "from sklearn.metrics import mean_absolute_error, mean_squared_error\n",
    "from sklearn.preprocessing import StandardScaler, PolynomialFeatures\n",
    "from sklearn.pipeline import Pipeline"
   ]
  },
  {
   "cell_type": "code",
   "execution_count": 2,
   "metadata": {},
   "outputs": [
    {
     "data": {
      "text/html": [
       "<div>\n",
       "<style scoped>\n",
       "    .dataframe tbody tr th:only-of-type {\n",
       "        vertical-align: middle;\n",
       "    }\n",
       "\n",
       "    .dataframe tbody tr th {\n",
       "        vertical-align: top;\n",
       "    }\n",
       "\n",
       "    .dataframe thead th {\n",
       "        text-align: right;\n",
       "    }\n",
       "</style>\n",
       "<table border=\"1\" class=\"dataframe\">\n",
       "  <thead>\n",
       "    <tr style=\"text-align: right;\">\n",
       "      <th></th>\n",
       "      <th>usd_pledged_real</th>\n",
       "      <th>usd_goal_real</th>\n",
       "      <th>period</th>\n",
       "      <th>log_usd_goal</th>\n",
       "      <th>log_usd_pledged</th>\n",
       "      <th>n_words</th>\n",
       "      <th>main_category_Comics</th>\n",
       "      <th>main_category_Crafts</th>\n",
       "      <th>main_category_Dance</th>\n",
       "      <th>main_category_Design</th>\n",
       "      <th>...</th>\n",
       "      <th>currency_EUR</th>\n",
       "      <th>currency_GBP</th>\n",
       "      <th>currency_HKD</th>\n",
       "      <th>currency_JPY</th>\n",
       "      <th>currency_MXN</th>\n",
       "      <th>currency_NOK</th>\n",
       "      <th>currency_NZD</th>\n",
       "      <th>currency_SEK</th>\n",
       "      <th>currency_SGD</th>\n",
       "      <th>currency_USD</th>\n",
       "    </tr>\n",
       "    <tr>\n",
       "      <th>ID</th>\n",
       "      <th></th>\n",
       "      <th></th>\n",
       "      <th></th>\n",
       "      <th></th>\n",
       "      <th></th>\n",
       "      <th></th>\n",
       "      <th></th>\n",
       "      <th></th>\n",
       "      <th></th>\n",
       "      <th></th>\n",
       "      <th></th>\n",
       "      <th></th>\n",
       "      <th></th>\n",
       "      <th></th>\n",
       "      <th></th>\n",
       "      <th></th>\n",
       "      <th></th>\n",
       "      <th></th>\n",
       "      <th></th>\n",
       "      <th></th>\n",
       "      <th></th>\n",
       "    </tr>\n",
       "  </thead>\n",
       "  <tbody>\n",
       "    <tr>\n",
       "      <th>1000002330</th>\n",
       "      <td>0.0</td>\n",
       "      <td>1533.95</td>\n",
       "      <td>58</td>\n",
       "      <td>3.185811</td>\n",
       "      <td>-5.000000</td>\n",
       "      <td>6</td>\n",
       "      <td>0</td>\n",
       "      <td>0</td>\n",
       "      <td>0</td>\n",
       "      <td>0</td>\n",
       "      <td>...</td>\n",
       "      <td>0</td>\n",
       "      <td>1</td>\n",
       "      <td>0</td>\n",
       "      <td>0</td>\n",
       "      <td>0</td>\n",
       "      <td>0</td>\n",
       "      <td>0</td>\n",
       "      <td>0</td>\n",
       "      <td>0</td>\n",
       "      <td>0</td>\n",
       "    </tr>\n",
       "    <tr>\n",
       "      <th>1000003930</th>\n",
       "      <td>2421.0</td>\n",
       "      <td>30000.00</td>\n",
       "      <td>59</td>\n",
       "      <td>4.477121</td>\n",
       "      <td>3.383995</td>\n",
       "      <td>8</td>\n",
       "      <td>0</td>\n",
       "      <td>0</td>\n",
       "      <td>0</td>\n",
       "      <td>0</td>\n",
       "      <td>...</td>\n",
       "      <td>0</td>\n",
       "      <td>0</td>\n",
       "      <td>0</td>\n",
       "      <td>0</td>\n",
       "      <td>0</td>\n",
       "      <td>0</td>\n",
       "      <td>0</td>\n",
       "      <td>0</td>\n",
       "      <td>0</td>\n",
       "      <td>1</td>\n",
       "    </tr>\n",
       "    <tr>\n",
       "      <th>1000004038</th>\n",
       "      <td>220.0</td>\n",
       "      <td>45000.00</td>\n",
       "      <td>44</td>\n",
       "      <td>4.653213</td>\n",
       "      <td>2.342423</td>\n",
       "      <td>3</td>\n",
       "      <td>0</td>\n",
       "      <td>0</td>\n",
       "      <td>0</td>\n",
       "      <td>0</td>\n",
       "      <td>...</td>\n",
       "      <td>0</td>\n",
       "      <td>0</td>\n",
       "      <td>0</td>\n",
       "      <td>0</td>\n",
       "      <td>0</td>\n",
       "      <td>0</td>\n",
       "      <td>0</td>\n",
       "      <td>0</td>\n",
       "      <td>0</td>\n",
       "      <td>1</td>\n",
       "    </tr>\n",
       "    <tr>\n",
       "      <th>1000007540</th>\n",
       "      <td>1.0</td>\n",
       "      <td>5000.00</td>\n",
       "      <td>29</td>\n",
       "      <td>3.698970</td>\n",
       "      <td>0.000004</td>\n",
       "      <td>7</td>\n",
       "      <td>0</td>\n",
       "      <td>0</td>\n",
       "      <td>0</td>\n",
       "      <td>0</td>\n",
       "      <td>...</td>\n",
       "      <td>0</td>\n",
       "      <td>0</td>\n",
       "      <td>0</td>\n",
       "      <td>0</td>\n",
       "      <td>0</td>\n",
       "      <td>0</td>\n",
       "      <td>0</td>\n",
       "      <td>0</td>\n",
       "      <td>0</td>\n",
       "      <td>1</td>\n",
       "    </tr>\n",
       "    <tr>\n",
       "      <th>1000011046</th>\n",
       "      <td>1283.0</td>\n",
       "      <td>19500.00</td>\n",
       "      <td>55</td>\n",
       "      <td>4.290035</td>\n",
       "      <td>3.108227</td>\n",
       "      <td>8</td>\n",
       "      <td>0</td>\n",
       "      <td>0</td>\n",
       "      <td>0</td>\n",
       "      <td>0</td>\n",
       "      <td>...</td>\n",
       "      <td>0</td>\n",
       "      <td>0</td>\n",
       "      <td>0</td>\n",
       "      <td>0</td>\n",
       "      <td>0</td>\n",
       "      <td>0</td>\n",
       "      <td>0</td>\n",
       "      <td>0</td>\n",
       "      <td>0</td>\n",
       "      <td>1</td>\n",
       "    </tr>\n",
       "  </tbody>\n",
       "</table>\n",
       "<p>5 rows × 33 columns</p>\n",
       "</div>"
      ],
      "text/plain": [
       "            usd_pledged_real  usd_goal_real  period  log_usd_goal  \\\n",
       "ID                                                                  \n",
       "1000002330               0.0        1533.95      58      3.185811   \n",
       "1000003930            2421.0       30000.00      59      4.477121   \n",
       "1000004038             220.0       45000.00      44      4.653213   \n",
       "1000007540               1.0        5000.00      29      3.698970   \n",
       "1000011046            1283.0       19500.00      55      4.290035   \n",
       "\n",
       "            log_usd_pledged  n_words  main_category_Comics  \\\n",
       "ID                                                           \n",
       "1000002330        -5.000000        6                     0   \n",
       "1000003930         3.383995        8                     0   \n",
       "1000004038         2.342423        3                     0   \n",
       "1000007540         0.000004        7                     0   \n",
       "1000011046         3.108227        8                     0   \n",
       "\n",
       "            main_category_Crafts  main_category_Dance  main_category_Design  \\\n",
       "ID                                                                            \n",
       "1000002330                     0                    0                     0   \n",
       "1000003930                     0                    0                     0   \n",
       "1000004038                     0                    0                     0   \n",
       "1000007540                     0                    0                     0   \n",
       "1000011046                     0                    0                     0   \n",
       "\n",
       "            ...  currency_EUR  currency_GBP  currency_HKD  currency_JPY  \\\n",
       "ID          ...                                                           \n",
       "1000002330  ...             0             1             0             0   \n",
       "1000003930  ...             0             0             0             0   \n",
       "1000004038  ...             0             0             0             0   \n",
       "1000007540  ...             0             0             0             0   \n",
       "1000011046  ...             0             0             0             0   \n",
       "\n",
       "            currency_MXN  currency_NOK  currency_NZD  currency_SEK  \\\n",
       "ID                                                                   \n",
       "1000002330             0             0             0             0   \n",
       "1000003930             0             0             0             0   \n",
       "1000004038             0             0             0             0   \n",
       "1000007540             0             0             0             0   \n",
       "1000011046             0             0             0             0   \n",
       "\n",
       "            currency_SGD  currency_USD  \n",
       "ID                                      \n",
       "1000002330             0             0  \n",
       "1000003930             0             1  \n",
       "1000004038             0             1  \n",
       "1000007540             0             1  \n",
       "1000011046             0             1  \n",
       "\n",
       "[5 rows x 33 columns]"
      ]
     },
     "execution_count": 2,
     "metadata": {},
     "output_type": "execute_result"
    }
   ],
   "source": [
    "df = pd.read_csv('../data/df_regression.csv', index_col='ID')\n",
    "df.head()"
   ]
  },
  {
   "cell_type": "markdown",
   "metadata": {},
   "source": [
    "## モデルの検証\n",
    "- ホールドアウト法によるモデルの検証を行う\n",
    "- Day1 で実装した線形回帰を利用する"
   ]
  },
  {
   "cell_type": "code",
   "execution_count": 3,
   "metadata": {},
   "outputs": [],
   "source": [
    "X = df.drop(columns=['log_usd_pledged', 'usd_pledged_real'])\n",
    "y = df['usd_pledged_real']\n",
    "\n",
    "X_train, X_test, y_train, y_test = train_test_split(X, y, test_size=0.3, random_state=1234)"
   ]
  },
  {
   "cell_type": "code",
   "execution_count": 4,
   "metadata": {},
   "outputs": [
    {
     "data": {
      "text/plain": [
       "LinearRegression()"
      ]
     },
     "execution_count": 4,
     "metadata": {},
     "output_type": "execute_result"
    }
   ],
   "source": [
    "lr_reg = LinearRegression()\n",
    "lr_reg.fit(X_train, y_train)"
   ]
  },
  {
   "cell_type": "code",
   "execution_count": 5,
   "metadata": {},
   "outputs": [],
   "source": [
    "y_pred = lr_reg.predict(X_test)"
   ]
  },
  {
   "cell_type": "code",
   "execution_count": 6,
   "metadata": {},
   "outputs": [
    {
     "name": "stdout",
     "output_type": "stream",
     "text": [
      "MAE: 1.4e+04\n",
      "MSE: 4.9e+09\n",
      "RMSE: 7e+04\n"
     ]
    }
   ],
   "source": [
    "mae = mean_absolute_error(y_test, y_pred)\n",
    "mse = mean_squared_error(y_test, y_pred)\n",
    "rmse = np.sqrt(mse)\n",
    "\n",
    "print(f'MAE: {mae:.3}')\n",
    "print(f'MSE: {mse:.3}')\n",
    "print(f'RMSE: {rmse:.3}')"
   ]
  },
  {
   "cell_type": "markdown",
   "metadata": {},
   "source": [
    "- 交差検証法によるモデルの検証を行う\n",
    "- Day1 で実装した線形回帰を利用する"
   ]
  },
  {
   "cell_type": "code",
   "execution_count": 7,
   "metadata": {},
   "outputs": [],
   "source": [
    "lr_reg_cv = LinearRegression()\n",
    "kf = KFold(n_splits=5, shuffle=True, random_state=1234)\n",
    "cv_results = cross_validate(lr_reg_cv, X_train, y_train, cv=kf, return_estimator=True,\n",
    "                            scoring=('neg_mean_squared_error', 'neg_mean_absolute_error'))"
   ]
  },
  {
   "cell_type": "code",
   "execution_count": 8,
   "metadata": {},
   "outputs": [
    {
     "data": {
      "text/plain": [
       "dict_keys(['fit_time', 'score_time', 'estimator', 'test_neg_mean_squared_error', 'test_neg_mean_absolute_error'])"
      ]
     },
     "execution_count": 8,
     "metadata": {},
     "output_type": "execute_result"
    }
   ],
   "source": [
    "cv_results.keys()"
   ]
  },
  {
   "cell_type": "code",
   "execution_count": 9,
   "metadata": {},
   "outputs": [
    {
     "name": "stdout",
     "output_type": "stream",
     "text": [
      "MAE: 1.44e+04\n",
      "MSE: 9.54e+09\n",
      "RMSE: 9.77e+04\n"
     ]
    }
   ],
   "source": [
    "mse = - cv_results['test_neg_mean_squared_error'].mean()\n",
    "mae = - cv_results['test_neg_mean_absolute_error'].mean()\n",
    "rmse = np.sqrt(mse)\n",
    "\n",
    "print(f'MAE: {mae:.3}')\n",
    "print(f'MSE: {mse:.3}')\n",
    "print(f'RMSE: {rmse:.3}')"
   ]
  },
  {
   "cell_type": "markdown",
   "metadata": {},
   "source": [
    "## 前処理\n",
    "- 連続変数に対する標準化を行う"
   ]
  },
  {
   "cell_type": "code",
   "execution_count": 10,
   "metadata": {},
   "outputs": [
    {
     "name": "stderr",
     "output_type": "stream",
     "text": [
      "/Users/mizoguchi/anaconda3/lib/python3.7/site-packages/pandas/core/indexing.py:1736: SettingWithCopyWarning: \n",
      "A value is trying to be set on a copy of a slice from a DataFrame.\n",
      "Try using .loc[row_indexer,col_indexer] = value instead\n",
      "\n",
      "See the caveats in the documentation: https://pandas.pydata.org/pandas-docs/stable/user_guide/indexing.html#returning-a-view-versus-a-copy\n",
      "  isetter(loc, value[:, i].tolist())\n",
      "/Users/mizoguchi/anaconda3/lib/python3.7/site-packages/pandas/core/indexing.py:1736: SettingWithCopyWarning: \n",
      "A value is trying to be set on a copy of a slice from a DataFrame.\n",
      "Try using .loc[row_indexer,col_indexer] = value instead\n",
      "\n",
      "See the caveats in the documentation: https://pandas.pydata.org/pandas-docs/stable/user_guide/indexing.html#returning-a-view-versus-a-copy\n",
      "  isetter(loc, value[:, i].tolist())\n"
     ]
    }
   ],
   "source": [
    "std = StandardScaler()\n",
    "X_train.loc[:, ['log_usd_goal', 'period']] = std.fit_transform(X_train.loc[:, ['log_usd_goal', 'period']])\n",
    "X_test.loc[:, ['log_usd_goal', 'period']] = std.transform(X_test.loc[:, ['log_usd_goal', 'period']])"
   ]
  },
  {
   "cell_type": "code",
   "execution_count": 11,
   "metadata": {},
   "outputs": [
    {
     "name": "stdout",
     "output_type": "stream",
     "text": [
      "MAE: 1.4e+04\n",
      "MSE: 4.9e+09\n",
      "RMSE: 7e+04\n"
     ]
    }
   ],
   "source": [
    "lr_reg = LinearRegression()\n",
    "lr_reg.fit(X_train, y_train)\n",
    "y_pred = lr_reg.predict(X_test)\n",
    "\n",
    "mae = mean_absolute_error(y_test, y_pred)\n",
    "mse = mean_squared_error(y_test, y_pred)\n",
    "rmse = np.sqrt(mse)\n",
    "\n",
    "print(f'MAE: {mae:.3}')\n",
    "print(f'MSE: {mse:.3}')\n",
    "print(f'RMSE: {rmse:.3}')"
   ]
  },
  {
   "cell_type": "markdown",
   "metadata": {},
   "source": [
    "- 線形回帰の場合には，標準化は効果がない（解析的にパラメータを求めるため）"
   ]
  },
  {
   "cell_type": "markdown",
   "metadata": {},
   "source": [
    "##  正則化・ハイパーパラメータ探索\n",
    "- 二次の多項式までを考慮したロジスティック回帰について，以下の正則化を併用する．また，正則化のパラメータをグリッドサーチによって探索する\n",
    "    - L_2 正則化（Ridge）\n",
    "- 以下のクラスを利用する\n",
    "    - Pipeline: 複数のクラスを連結して利用するためのクラス．\n",
    "    - GridSearchCV: グリッドサーチを行うためのクラス．PipeLine を併用する場合には`__`によってインスタンスの名称とパラメータの名称を連結することに注意\n",
    "- 実行には30分程度かかることに注意\n",
    "\n",
    "### Ridge"
   ]
  },
  {
   "cell_type": "code",
   "execution_count": 12,
   "metadata": {
    "scrolled": true
   },
   "outputs": [
    {
     "name": "stdout",
     "output_type": "stream",
     "text": [
      "Fitting 5 folds for each of 5 candidates, totalling 25 fits\n",
      "[CV] reg__alpha=1000000000000.0 ......................................\n"
     ]
    },
    {
     "name": "stderr",
     "output_type": "stream",
     "text": [
      "[Parallel(n_jobs=1)]: Using backend SequentialBackend with 1 concurrent workers.\n",
      "/Users/mizoguchi/anaconda3/lib/python3.7/site-packages/sklearn/linear_model/_ridge.py:148: LinAlgWarning: Ill-conditioned matrix (rcond=3.22302e-22): result may not be accurate.\n",
      "  overwrite_a=True).T\n"
     ]
    },
    {
     "name": "stdout",
     "output_type": "stream",
     "text": [
      "[CV]  reg__alpha=1000000000000.0, score=-5799362813.056, total=   2.9s\n",
      "[CV] reg__alpha=1000000000000.0 ......................................\n"
     ]
    },
    {
     "name": "stderr",
     "output_type": "stream",
     "text": [
      "[Parallel(n_jobs=1)]: Done   1 out of   1 | elapsed:    2.9s remaining:    0.0s\n",
      "/Users/mizoguchi/anaconda3/lib/python3.7/site-packages/sklearn/linear_model/_ridge.py:148: LinAlgWarning: Ill-conditioned matrix (rcond=3.13387e-22): result may not be accurate.\n",
      "  overwrite_a=True).T\n"
     ]
    },
    {
     "name": "stdout",
     "output_type": "stream",
     "text": [
      "[CV]  reg__alpha=1000000000000.0, score=-16058799536.362, total=   2.8s\n",
      "[CV] reg__alpha=1000000000000.0 ......................................\n"
     ]
    },
    {
     "name": "stderr",
     "output_type": "stream",
     "text": [
      "[Parallel(n_jobs=1)]: Done   2 out of   2 | elapsed:    5.8s remaining:    0.0s\n",
      "/Users/mizoguchi/anaconda3/lib/python3.7/site-packages/sklearn/linear_model/_ridge.py:148: LinAlgWarning: Ill-conditioned matrix (rcond=3.53343e-22): result may not be accurate.\n",
      "  overwrite_a=True).T\n"
     ]
    },
    {
     "name": "stdout",
     "output_type": "stream",
     "text": [
      "[CV]  reg__alpha=1000000000000.0, score=-10336964941.643, total=   2.8s\n",
      "[CV] reg__alpha=1000000000000.0 ......................................\n"
     ]
    },
    {
     "name": "stderr",
     "output_type": "stream",
     "text": [
      "/Users/mizoguchi/anaconda3/lib/python3.7/site-packages/sklearn/linear_model/_ridge.py:148: LinAlgWarning: Ill-conditioned matrix (rcond=4.39802e-22): result may not be accurate.\n",
      "  overwrite_a=True).T\n"
     ]
    },
    {
     "name": "stdout",
     "output_type": "stream",
     "text": [
      "[CV]  reg__alpha=1000000000000.0, score=-10946439539.822, total=   2.8s\n",
      "[CV] reg__alpha=1000000000000.0 ......................................\n"
     ]
    },
    {
     "name": "stderr",
     "output_type": "stream",
     "text": [
      "/Users/mizoguchi/anaconda3/lib/python3.7/site-packages/sklearn/linear_model/_ridge.py:148: LinAlgWarning: Ill-conditioned matrix (rcond=3.17524e-22): result may not be accurate.\n",
      "  overwrite_a=True).T\n"
     ]
    },
    {
     "name": "stdout",
     "output_type": "stream",
     "text": [
      "[CV]  reg__alpha=1000000000000.0, score=-5511865594.479, total=   2.8s\n",
      "[CV] reg__alpha=100000000000000.0 ....................................\n"
     ]
    },
    {
     "name": "stderr",
     "output_type": "stream",
     "text": [
      "/Users/mizoguchi/anaconda3/lib/python3.7/site-packages/sklearn/linear_model/_ridge.py:148: LinAlgWarning: Ill-conditioned matrix (rcond=3.22327e-20): result may not be accurate.\n",
      "  overwrite_a=True).T\n"
     ]
    },
    {
     "name": "stdout",
     "output_type": "stream",
     "text": [
      "[CV]  reg__alpha=100000000000000.0, score=-5790802779.586, total=   2.8s\n",
      "[CV] reg__alpha=100000000000000.0 ....................................\n"
     ]
    },
    {
     "name": "stderr",
     "output_type": "stream",
     "text": [
      "/Users/mizoguchi/anaconda3/lib/python3.7/site-packages/sklearn/linear_model/_ridge.py:148: LinAlgWarning: Ill-conditioned matrix (rcond=3.13418e-20): result may not be accurate.\n",
      "  overwrite_a=True).T\n"
     ]
    },
    {
     "name": "stdout",
     "output_type": "stream",
     "text": [
      "[CV]  reg__alpha=100000000000000.0, score=-15874555757.049, total=   2.8s\n",
      "[CV] reg__alpha=100000000000000.0 ....................................\n"
     ]
    },
    {
     "name": "stderr",
     "output_type": "stream",
     "text": [
      "/Users/mizoguchi/anaconda3/lib/python3.7/site-packages/sklearn/linear_model/_ridge.py:148: LinAlgWarning: Ill-conditioned matrix (rcond=3.53375e-20): result may not be accurate.\n",
      "  overwrite_a=True).T\n"
     ]
    },
    {
     "name": "stdout",
     "output_type": "stream",
     "text": [
      "[CV]  reg__alpha=100000000000000.0, score=-10333101951.227, total=   2.8s\n",
      "[CV] reg__alpha=100000000000000.0 ....................................\n"
     ]
    },
    {
     "name": "stderr",
     "output_type": "stream",
     "text": [
      "/Users/mizoguchi/anaconda3/lib/python3.7/site-packages/sklearn/linear_model/_ridge.py:148: LinAlgWarning: Ill-conditioned matrix (rcond=4.3984e-20): result may not be accurate.\n",
      "  overwrite_a=True).T\n"
     ]
    },
    {
     "name": "stdout",
     "output_type": "stream",
     "text": [
      "[CV]  reg__alpha=100000000000000.0, score=-10899686056.289, total=   2.8s\n",
      "[CV] reg__alpha=100000000000000.0 ....................................\n"
     ]
    },
    {
     "name": "stderr",
     "output_type": "stream",
     "text": [
      "/Users/mizoguchi/anaconda3/lib/python3.7/site-packages/sklearn/linear_model/_ridge.py:148: LinAlgWarning: Ill-conditioned matrix (rcond=3.17561e-20): result may not be accurate.\n",
      "  overwrite_a=True).T\n"
     ]
    },
    {
     "name": "stdout",
     "output_type": "stream",
     "text": [
      "[CV]  reg__alpha=100000000000000.0, score=-5399743562.720, total=   2.8s\n",
      "[CV] reg__alpha=1e+16 ................................................\n"
     ]
    },
    {
     "name": "stderr",
     "output_type": "stream",
     "text": [
      "/Users/mizoguchi/anaconda3/lib/python3.7/site-packages/sklearn/linear_model/_ridge.py:148: LinAlgWarning: Ill-conditioned matrix (rcond=2.46879e-18): result may not be accurate.\n",
      "  overwrite_a=True).T\n"
     ]
    },
    {
     "name": "stdout",
     "output_type": "stream",
     "text": [
      "[CV] .......... reg__alpha=1e+16, score=-5781652695.099, total=   2.8s\n",
      "[CV] reg__alpha=1e+16 ................................................\n"
     ]
    },
    {
     "name": "stderr",
     "output_type": "stream",
     "text": [
      "/Users/mizoguchi/anaconda3/lib/python3.7/site-packages/sklearn/linear_model/_ridge.py:148: LinAlgWarning: Ill-conditioned matrix (rcond=3.1344e-18): result may not be accurate.\n",
      "  overwrite_a=True).T\n"
     ]
    },
    {
     "name": "stdout",
     "output_type": "stream",
     "text": [
      "[CV] ......... reg__alpha=1e+16, score=-15896556467.679, total=   2.8s\n",
      "[CV] reg__alpha=1e+16 ................................................\n"
     ]
    },
    {
     "name": "stderr",
     "output_type": "stream",
     "text": [
      "/Users/mizoguchi/anaconda3/lib/python3.7/site-packages/sklearn/linear_model/_ridge.py:148: LinAlgWarning: Ill-conditioned matrix (rcond=3.03526e-18): result may not be accurate.\n",
      "  overwrite_a=True).T\n"
     ]
    },
    {
     "name": "stdout",
     "output_type": "stream",
     "text": [
      "[CV] ......... reg__alpha=1e+16, score=-10386757946.278, total=   2.8s\n",
      "[CV] reg__alpha=1e+16 ................................................\n"
     ]
    },
    {
     "name": "stderr",
     "output_type": "stream",
     "text": [
      "/Users/mizoguchi/anaconda3/lib/python3.7/site-packages/sklearn/linear_model/_ridge.py:148: LinAlgWarning: Ill-conditioned matrix (rcond=3.65737e-18): result may not be accurate.\n",
      "  overwrite_a=True).T\n"
     ]
    },
    {
     "name": "stdout",
     "output_type": "stream",
     "text": [
      "[CV] ......... reg__alpha=1e+16, score=-10889947715.363, total=   2.8s\n",
      "[CV] reg__alpha=1e+16 ................................................\n"
     ]
    },
    {
     "name": "stderr",
     "output_type": "stream",
     "text": [
      "/Users/mizoguchi/anaconda3/lib/python3.7/site-packages/sklearn/linear_model/_ridge.py:148: LinAlgWarning: Ill-conditioned matrix (rcond=2.9024e-18): result may not be accurate.\n",
      "  overwrite_a=True).T\n"
     ]
    },
    {
     "name": "stdout",
     "output_type": "stream",
     "text": [
      "[CV] .......... reg__alpha=1e+16, score=-5384918016.021, total=   2.8s\n",
      "[CV] reg__alpha=1e+18 ................................................\n",
      "[CV] .......... reg__alpha=1e+18, score=-5787400841.859, total=   2.9s\n",
      "[CV] reg__alpha=1e+18 ................................................\n",
      "[CV] ......... reg__alpha=1e+18, score=-15904197624.979, total=   2.9s\n",
      "[CV] reg__alpha=1e+18 ................................................\n",
      "[CV] ......... reg__alpha=1e+18, score=-10388882729.948, total=   2.8s\n",
      "[CV] reg__alpha=1e+18 ................................................\n",
      "[CV] ......... reg__alpha=1e+18, score=-10893719637.084, total=   2.8s\n",
      "[CV] reg__alpha=1e+18 ................................................\n",
      "[CV] .......... reg__alpha=1e+18, score=-5388457739.126, total=   2.8s\n",
      "[CV] reg__alpha=1e+20 ................................................\n",
      "[CV] .......... reg__alpha=1e+20, score=-5788810424.813, total=   2.8s\n",
      "[CV] reg__alpha=1e+20 ................................................\n",
      "[CV] ......... reg__alpha=1e+20, score=-15906691013.792, total=   2.8s\n",
      "[CV] reg__alpha=1e+20 ................................................\n",
      "[CV] ......... reg__alpha=1e+20, score=-10389969897.258, total=   2.9s\n",
      "[CV] reg__alpha=1e+20 ................................................\n",
      "[CV] ......... reg__alpha=1e+20, score=-10893853830.767, total=   2.8s\n",
      "[CV] reg__alpha=1e+20 ................................................\n",
      "[CV] .......... reg__alpha=1e+20, score=-5389150698.871, total=   2.9s\n"
     ]
    },
    {
     "name": "stderr",
     "output_type": "stream",
     "text": [
      "[Parallel(n_jobs=1)]: Done  25 out of  25 | elapsed:  1.2min finished\n",
      "/Users/mizoguchi/anaconda3/lib/python3.7/site-packages/sklearn/linear_model/_ridge.py:148: LinAlgWarning: Ill-conditioned matrix (rcond=2.74999e-20): result may not be accurate.\n",
      "  overwrite_a=True).T\n"
     ]
    },
    {
     "data": {
      "text/plain": [
       "GridSearchCV(cv=KFold(n_splits=5, random_state=1234, shuffle=True),\n",
       "             estimator=Pipeline(steps=[('poly', PolynomialFeatures()),\n",
       "                                       ('reg', Ridge())]),\n",
       "             param_grid={'reg__alpha': [1000000000000.0, 100000000000000.0,\n",
       "                                        1e+16, 1e+18, 1e+20]},\n",
       "             scoring='neg_mean_squared_error', verbose=3)"
      ]
     },
     "execution_count": 12,
     "metadata": {},
     "output_type": "execute_result"
    }
   ],
   "source": [
    "degree = 2\n",
    "poly = PolynomialFeatures(degree)\n",
    "\n",
    "parameters = {'reg__alpha': [1e12, 1e14, 1e16, 1e18, 1e20]}\n",
    "\n",
    "reg_pl = Pipeline([(\"poly\", poly), (\"reg\", Ridge())])\n",
    "\n",
    "grid = GridSearchCV(reg_pl, param_grid=parameters, \n",
    "                         cv=kf, \n",
    "                         scoring='neg_mean_squared_error', \n",
    "                         verbose=3) \n",
    "\n",
    "grid.fit(X_train, y_train)"
   ]
  },
  {
   "cell_type": "code",
   "execution_count": 13,
   "metadata": {},
   "outputs": [
    {
     "name": "stdout",
     "output_type": "stream",
     "text": [
      "MAE: 1.27e+04\n",
      "MSE: 5e+09\n",
      "RMSE: 7.07e+04\n"
     ]
    }
   ],
   "source": [
    "y_pred = grid.predict(X_test)\n",
    "\n",
    "mae = mean_absolute_error(y_test, y_pred)\n",
    "mse = mean_squared_error(y_test, y_pred)\n",
    "rmse = np.sqrt(mse)\n",
    "\n",
    "print(f'MAE: {mae:.3}')\n",
    "print(f'MSE: {mse:.3}')\n",
    "print(f'RMSE: {rmse:.3}')"
   ]
  },
  {
   "cell_type": "code",
   "execution_count": 14,
   "metadata": {},
   "outputs": [
    {
     "data": {
      "text/plain": [
       "Pipeline(steps=[('poly', PolynomialFeatures()),\n",
       "                ('reg', Ridge(alpha=100000000000000.0))])"
      ]
     },
     "execution_count": 14,
     "metadata": {},
     "output_type": "execute_result"
    }
   ],
   "source": [
    "grid.best_estimator_"
   ]
  },
  {
   "cell_type": "markdown",
   "metadata": {},
   "source": [
    "- 通常の線形回帰より少し性能が良くなった\n",
    "- 正則化パラメータは 10^14 付近が良いということがわかった"
   ]
  },
  {
   "cell_type": "markdown",
   "metadata": {},
   "source": [
    "## SVM の利用\n",
    "SVM はスモールデータに適したモデルであり，今回の課題に適用する場合には適宜データを間引かないと計算時間が爆発してしまう"
   ]
  },
  {
   "cell_type": "code",
   "execution_count": 17,
   "metadata": {},
   "outputs": [],
   "source": [
    "n_sample = 1000 # サンプルサイズ\n",
    "y_sampled = y_train.sample(n_sample)\n",
    "X_sampled = X_train.loc[y_sampled.index, :]"
   ]
  },
  {
   "cell_type": "code",
   "execution_count": 18,
   "metadata": {
    "scrolled": true
   },
   "outputs": [
    {
     "name": "stdout",
     "output_type": "stream",
     "text": [
      "Fitting 5 folds for each of 6 candidates, totalling 30 fits\n",
      "[CV] C=1e-05, kernel=linear ..........................................\n",
      "[CV] ............. C=1e-05, kernel=linear, score=-0.079, total=   0.1s\n",
      "[CV] C=1e-05, kernel=linear ..........................................\n",
      "[CV] ............. C=1e-05, kernel=linear, score=-0.017, total=   0.1s\n",
      "[CV] C=1e-05, kernel=linear ..........................................\n",
      "[CV] ............. C=1e-05, kernel=linear, score=-0.026, total=   0.1s\n",
      "[CV] C=1e-05, kernel=linear ..........................................\n"
     ]
    },
    {
     "name": "stderr",
     "output_type": "stream",
     "text": [
      "[Parallel(n_jobs=1)]: Using backend SequentialBackend with 1 concurrent workers.\n",
      "[Parallel(n_jobs=1)]: Done   1 out of   1 | elapsed:    0.1s remaining:    0.0s\n",
      "[Parallel(n_jobs=1)]: Done   2 out of   2 | elapsed:    0.1s remaining:    0.0s\n"
     ]
    },
    {
     "name": "stdout",
     "output_type": "stream",
     "text": [
      "[CV] ............. C=1e-05, kernel=linear, score=-0.069, total=   0.1s\n",
      "[CV] C=1e-05, kernel=linear ..........................................\n",
      "[CV] ............. C=1e-05, kernel=linear, score=-0.072, total=   0.1s\n",
      "[CV] C=1e-05, kernel=rbf .............................................\n",
      "[CV] ................ C=1e-05, kernel=rbf, score=-0.078, total=   0.0s\n",
      "[CV] C=1e-05, kernel=rbf .............................................\n",
      "[CV] ................ C=1e-05, kernel=rbf, score=-0.016, total=   0.0s\n",
      "[CV] C=1e-05, kernel=rbf .............................................\n",
      "[CV] ................ C=1e-05, kernel=rbf, score=-0.026, total=   0.0s\n",
      "[CV] C=1e-05, kernel=rbf .............................................\n",
      "[CV] ................ C=1e-05, kernel=rbf, score=-0.069, total=   0.0s\n",
      "[CV] C=1e-05, kernel=rbf .............................................\n",
      "[CV] ................ C=1e-05, kernel=rbf, score=-0.072, total=   0.0s\n",
      "[CV] C=0.0001, kernel=linear .........................................\n",
      "[CV] ............ C=0.0001, kernel=linear, score=-0.079, total=   0.1s\n",
      "[CV] C=0.0001, kernel=linear .........................................\n",
      "[CV] ............ C=0.0001, kernel=linear, score=-0.017, total=   0.2s\n",
      "[CV] C=0.0001, kernel=linear .........................................\n",
      "[CV] ............ C=0.0001, kernel=linear, score=-0.026, total=   0.1s\n",
      "[CV] C=0.0001, kernel=linear .........................................\n",
      "[CV] ............ C=0.0001, kernel=linear, score=-0.069, total=   0.1s\n",
      "[CV] C=0.0001, kernel=linear .........................................\n",
      "[CV] ............ C=0.0001, kernel=linear, score=-0.072, total=   0.2s\n",
      "[CV] C=0.0001, kernel=rbf ............................................\n",
      "[CV] ............... C=0.0001, kernel=rbf, score=-0.078, total=   0.0s\n",
      "[CV] C=0.0001, kernel=rbf ............................................\n",
      "[CV] ............... C=0.0001, kernel=rbf, score=-0.016, total=   0.0s\n",
      "[CV] C=0.0001, kernel=rbf ............................................\n",
      "[CV] ............... C=0.0001, kernel=rbf, score=-0.026, total=   0.0s\n",
      "[CV] C=0.0001, kernel=rbf ............................................\n",
      "[CV] ............... C=0.0001, kernel=rbf, score=-0.069, total=   0.0s\n",
      "[CV] C=0.0001, kernel=rbf ............................................\n",
      "[CV] ............... C=0.0001, kernel=rbf, score=-0.072, total=   0.0s\n",
      "[CV] C=0.001, kernel=linear ..........................................\n",
      "[CV] ............. C=0.001, kernel=linear, score=-0.079, total=   0.3s\n",
      "[CV] C=0.001, kernel=linear ..........................................\n",
      "[CV] ............. C=0.001, kernel=linear, score=-0.017, total=   0.4s\n",
      "[CV] C=0.001, kernel=linear ..........................................\n",
      "[CV] ............. C=0.001, kernel=linear, score=-0.026, total=  49.8s\n",
      "[CV] C=0.001, kernel=linear ..........................................\n",
      "[CV] ............. C=0.001, kernel=linear, score=-0.069, total=  27.8s\n",
      "[CV] C=0.001, kernel=linear ..........................................\n",
      "[CV] ............. C=0.001, kernel=linear, score=-0.072, total=   0.4s\n",
      "[CV] C=0.001, kernel=rbf .............................................\n",
      "[CV] ................ C=0.001, kernel=rbf, score=-0.078, total=   0.0s\n",
      "[CV] C=0.001, kernel=rbf .............................................\n",
      "[CV] ................ C=0.001, kernel=rbf, score=-0.016, total=   0.0s\n",
      "[CV] C=0.001, kernel=rbf .............................................\n",
      "[CV] ................ C=0.001, kernel=rbf, score=-0.026, total=   0.0s\n",
      "[CV] C=0.001, kernel=rbf .............................................\n",
      "[CV] ................ C=0.001, kernel=rbf, score=-0.069, total=   0.0s\n",
      "[CV] C=0.001, kernel=rbf .............................................\n",
      "[CV] ................ C=0.001, kernel=rbf, score=-0.072, total=   0.0s\n"
     ]
    },
    {
     "name": "stderr",
     "output_type": "stream",
     "text": [
      "[Parallel(n_jobs=1)]: Done  30 out of  30 | elapsed:  1.3min finished\n"
     ]
    },
    {
     "data": {
      "text/plain": [
       "GridSearchCV(cv=KFold(n_splits=5, random_state=1234, shuffle=True),\n",
       "             estimator=SVR(),\n",
       "             param_grid={'C': [1e-05, 0.0001, 0.001],\n",
       "                         'kernel': ['linear', 'rbf']},\n",
       "             verbose=3)"
      ]
     },
     "execution_count": 18,
     "metadata": {},
     "output_type": "execute_result"
    }
   ],
   "source": [
    "parameters = {'kernel':['linear', 'rbf'], 'C':[1e-5, 1e-4, 1e-3]}\n",
    "model = SVR()\n",
    "svr = GridSearchCV(model, parameters, cv=kf, verbose=3)\n",
    "svr.fit(X_sampled, y_sampled)"
   ]
  },
  {
   "cell_type": "code",
   "execution_count": 19,
   "metadata": {},
   "outputs": [
    {
     "name": "stdout",
     "output_type": "stream",
     "text": [
      "MAE: 8.67e+03\n",
      "MSE: 5.08e+09\n",
      "RMSE: 7.13e+04\n"
     ]
    }
   ],
   "source": [
    "y_pred = svr.predict(X_test)\n",
    "\n",
    "mae = mean_absolute_error(y_test, y_pred)\n",
    "mse = mean_squared_error(y_test, y_pred)\n",
    "rmse = np.sqrt(mse)\n",
    "\n",
    "print(f'MAE: {mae:.3}')\n",
    "print(f'MSE: {mse:.3}')\n",
    "print(f'RMSE: {rmse:.3}')"
   ]
  },
  {
   "cell_type": "markdown",
   "metadata": {},
   "source": [
    "線形回帰に比べて MAE は良くなったが MSE・RMSE は悪くなった"
   ]
  },
  {
   "cell_type": "code",
   "execution_count": null,
   "metadata": {},
   "outputs": [],
   "source": []
  }
 ],
 "metadata": {
  "kernelspec": {
   "display_name": "Python 3",
   "language": "python",
   "name": "python3"
  },
  "language_info": {
   "codemirror_mode": {
    "name": "ipython",
    "version": 3
   },
   "file_extension": ".py",
   "mimetype": "text/x-python",
   "name": "python",
   "nbconvert_exporter": "python",
   "pygments_lexer": "ipython3",
   "version": "3.7.3"
  }
 },
 "nbformat": 4,
 "nbformat_minor": 2
}
