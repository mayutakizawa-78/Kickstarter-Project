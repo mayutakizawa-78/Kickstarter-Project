{
 "cells": [
  {
   "cell_type": "markdown",
   "metadata": {},
   "source": [
    "# 通し課題模範解答 分類編 DAY 2\n",
    "- kaggle の kickstarter project に関して，成功・失敗を予測するモデルを作成する\n",
    "    - https://www.kaggle.com/kemical/kickstarter-projects?select=ks-projects-201801.csv\n",
    "- DAY 2 では，以下を行う\n",
    "    - モデルの検証\n",
    "    - 前処理\n",
    "    - 正則化・ハイパーパラメータの探索\n",
    "    - SVM の利用"
   ]
  },
  {
   "cell_type": "code",
   "execution_count": 18,
   "metadata": {},
   "outputs": [],
   "source": [
    "import pandas as pd\n",
    "import numpy as np\n",
    "import matplotlib.pyplot as plt\n",
    "from sklearn.linear_model import SGDClassifier\n",
    "from sklearn.svm import SVC\n",
    "from sklearn.model_selection import train_test_split, cross_validate, KFold, GridSearchCV\n",
    "from sklearn.metrics import accuracy_score, precision_score, recall_score, f1_score\n",
    "from sklearn.preprocessing import StandardScaler, PolynomialFeatures\n",
    "from sklearn.pipeline import Pipeline"
   ]
  },
  {
   "cell_type": "code",
   "execution_count": 2,
   "metadata": {},
   "outputs": [
    {
     "data": {
      "text/html": [
       "<div>\n",
       "<style scoped>\n",
       "    .dataframe tbody tr th:only-of-type {\n",
       "        vertical-align: middle;\n",
       "    }\n",
       "\n",
       "    .dataframe tbody tr th {\n",
       "        vertical-align: top;\n",
       "    }\n",
       "\n",
       "    .dataframe thead th {\n",
       "        text-align: right;\n",
       "    }\n",
       "</style>\n",
       "<table border=\"1\" class=\"dataframe\">\n",
       "  <thead>\n",
       "    <tr style=\"text-align: right;\">\n",
       "      <th></th>\n",
       "      <th>period</th>\n",
       "      <th>log_usd_goal</th>\n",
       "      <th>n_words</th>\n",
       "      <th>main_category_Comics</th>\n",
       "      <th>main_category_Crafts</th>\n",
       "      <th>main_category_Dance</th>\n",
       "      <th>main_category_Design</th>\n",
       "      <th>main_category_Fashion</th>\n",
       "      <th>main_category_Film &amp; Video</th>\n",
       "      <th>main_category_Food</th>\n",
       "      <th>...</th>\n",
       "      <th>currency_GBP</th>\n",
       "      <th>currency_HKD</th>\n",
       "      <th>currency_JPY</th>\n",
       "      <th>currency_MXN</th>\n",
       "      <th>currency_NOK</th>\n",
       "      <th>currency_NZD</th>\n",
       "      <th>currency_SEK</th>\n",
       "      <th>currency_SGD</th>\n",
       "      <th>currency_USD</th>\n",
       "      <th>state_successful</th>\n",
       "    </tr>\n",
       "    <tr>\n",
       "      <th>ID</th>\n",
       "      <th></th>\n",
       "      <th></th>\n",
       "      <th></th>\n",
       "      <th></th>\n",
       "      <th></th>\n",
       "      <th></th>\n",
       "      <th></th>\n",
       "      <th></th>\n",
       "      <th></th>\n",
       "      <th></th>\n",
       "      <th></th>\n",
       "      <th></th>\n",
       "      <th></th>\n",
       "      <th></th>\n",
       "      <th></th>\n",
       "      <th></th>\n",
       "      <th></th>\n",
       "      <th></th>\n",
       "      <th></th>\n",
       "      <th></th>\n",
       "      <th></th>\n",
       "    </tr>\n",
       "  </thead>\n",
       "  <tbody>\n",
       "    <tr>\n",
       "      <th>1000002330</th>\n",
       "      <td>58</td>\n",
       "      <td>3.185811</td>\n",
       "      <td>6</td>\n",
       "      <td>0</td>\n",
       "      <td>0</td>\n",
       "      <td>0</td>\n",
       "      <td>0</td>\n",
       "      <td>0</td>\n",
       "      <td>0</td>\n",
       "      <td>0</td>\n",
       "      <td>...</td>\n",
       "      <td>1</td>\n",
       "      <td>0</td>\n",
       "      <td>0</td>\n",
       "      <td>0</td>\n",
       "      <td>0</td>\n",
       "      <td>0</td>\n",
       "      <td>0</td>\n",
       "      <td>0</td>\n",
       "      <td>0</td>\n",
       "      <td>0</td>\n",
       "    </tr>\n",
       "    <tr>\n",
       "      <th>1000003930</th>\n",
       "      <td>59</td>\n",
       "      <td>4.477121</td>\n",
       "      <td>8</td>\n",
       "      <td>0</td>\n",
       "      <td>0</td>\n",
       "      <td>0</td>\n",
       "      <td>0</td>\n",
       "      <td>0</td>\n",
       "      <td>1</td>\n",
       "      <td>0</td>\n",
       "      <td>...</td>\n",
       "      <td>0</td>\n",
       "      <td>0</td>\n",
       "      <td>0</td>\n",
       "      <td>0</td>\n",
       "      <td>0</td>\n",
       "      <td>0</td>\n",
       "      <td>0</td>\n",
       "      <td>0</td>\n",
       "      <td>1</td>\n",
       "      <td>0</td>\n",
       "    </tr>\n",
       "    <tr>\n",
       "      <th>1000004038</th>\n",
       "      <td>44</td>\n",
       "      <td>4.653213</td>\n",
       "      <td>3</td>\n",
       "      <td>0</td>\n",
       "      <td>0</td>\n",
       "      <td>0</td>\n",
       "      <td>0</td>\n",
       "      <td>0</td>\n",
       "      <td>1</td>\n",
       "      <td>0</td>\n",
       "      <td>...</td>\n",
       "      <td>0</td>\n",
       "      <td>0</td>\n",
       "      <td>0</td>\n",
       "      <td>0</td>\n",
       "      <td>0</td>\n",
       "      <td>0</td>\n",
       "      <td>0</td>\n",
       "      <td>0</td>\n",
       "      <td>1</td>\n",
       "      <td>0</td>\n",
       "    </tr>\n",
       "    <tr>\n",
       "      <th>1000007540</th>\n",
       "      <td>29</td>\n",
       "      <td>3.698970</td>\n",
       "      <td>7</td>\n",
       "      <td>0</td>\n",
       "      <td>0</td>\n",
       "      <td>0</td>\n",
       "      <td>0</td>\n",
       "      <td>0</td>\n",
       "      <td>0</td>\n",
       "      <td>0</td>\n",
       "      <td>...</td>\n",
       "      <td>0</td>\n",
       "      <td>0</td>\n",
       "      <td>0</td>\n",
       "      <td>0</td>\n",
       "      <td>0</td>\n",
       "      <td>0</td>\n",
       "      <td>0</td>\n",
       "      <td>0</td>\n",
       "      <td>1</td>\n",
       "      <td>0</td>\n",
       "    </tr>\n",
       "    <tr>\n",
       "      <th>1000014025</th>\n",
       "      <td>34</td>\n",
       "      <td>4.698970</td>\n",
       "      <td>3</td>\n",
       "      <td>0</td>\n",
       "      <td>0</td>\n",
       "      <td>0</td>\n",
       "      <td>0</td>\n",
       "      <td>0</td>\n",
       "      <td>0</td>\n",
       "      <td>1</td>\n",
       "      <td>...</td>\n",
       "      <td>0</td>\n",
       "      <td>0</td>\n",
       "      <td>0</td>\n",
       "      <td>0</td>\n",
       "      <td>0</td>\n",
       "      <td>0</td>\n",
       "      <td>0</td>\n",
       "      <td>0</td>\n",
       "      <td>1</td>\n",
       "      <td>1</td>\n",
       "    </tr>\n",
       "  </tbody>\n",
       "</table>\n",
       "<p>5 rows × 31 columns</p>\n",
       "</div>"
      ],
      "text/plain": [
       "            period  log_usd_goal  n_words  main_category_Comics  \\\n",
       "ID                                                                \n",
       "1000002330      58      3.185811        6                     0   \n",
       "1000003930      59      4.477121        8                     0   \n",
       "1000004038      44      4.653213        3                     0   \n",
       "1000007540      29      3.698970        7                     0   \n",
       "1000014025      34      4.698970        3                     0   \n",
       "\n",
       "            main_category_Crafts  main_category_Dance  main_category_Design  \\\n",
       "ID                                                                            \n",
       "1000002330                     0                    0                     0   \n",
       "1000003930                     0                    0                     0   \n",
       "1000004038                     0                    0                     0   \n",
       "1000007540                     0                    0                     0   \n",
       "1000014025                     0                    0                     0   \n",
       "\n",
       "            main_category_Fashion  main_category_Film & Video  \\\n",
       "ID                                                              \n",
       "1000002330                      0                           0   \n",
       "1000003930                      0                           1   \n",
       "1000004038                      0                           1   \n",
       "1000007540                      0                           0   \n",
       "1000014025                      0                           0   \n",
       "\n",
       "            main_category_Food  ...  currency_GBP  currency_HKD  currency_JPY  \\\n",
       "ID                              ...                                             \n",
       "1000002330                   0  ...             1             0             0   \n",
       "1000003930                   0  ...             0             0             0   \n",
       "1000004038                   0  ...             0             0             0   \n",
       "1000007540                   0  ...             0             0             0   \n",
       "1000014025                   1  ...             0             0             0   \n",
       "\n",
       "            currency_MXN  currency_NOK  currency_NZD  currency_SEK  \\\n",
       "ID                                                                   \n",
       "1000002330             0             0             0             0   \n",
       "1000003930             0             0             0             0   \n",
       "1000004038             0             0             0             0   \n",
       "1000007540             0             0             0             0   \n",
       "1000014025             0             0             0             0   \n",
       "\n",
       "            currency_SGD  currency_USD  state_successful  \n",
       "ID                                                        \n",
       "1000002330             0             0                 0  \n",
       "1000003930             0             1                 0  \n",
       "1000004038             0             1                 0  \n",
       "1000007540             0             1                 0  \n",
       "1000014025             0             1                 1  \n",
       "\n",
       "[5 rows x 31 columns]"
      ]
     },
     "execution_count": 2,
     "metadata": {},
     "output_type": "execute_result"
    }
   ],
   "source": [
    "df = pd.read_csv('../data/df_classification.csv', index_col='ID')\n",
    "df.head()"
   ]
  },
  {
   "cell_type": "markdown",
   "metadata": {},
   "source": [
    "## モデルの検証\n",
    "- ホールドアウト法によるモデルの検証を行う\n",
    "- Day1 で実装したロジスティック回帰を利用する"
   ]
  },
  {
   "cell_type": "code",
   "execution_count": 3,
   "metadata": {},
   "outputs": [],
   "source": [
    "X = df.drop(columns='state_successful')\n",
    "y = df['state_successful']\n",
    "\n",
    "X_train, X_test, y_train, y_test = train_test_split(X, y, test_size=0.3, random_state=1234)"
   ]
  },
  {
   "cell_type": "code",
   "execution_count": 4,
   "metadata": {},
   "outputs": [
    {
     "data": {
      "text/plain": [
       "SGDClassifier(loss='log', max_iter=10000, random_state=1234)"
      ]
     },
     "execution_count": 4,
     "metadata": {},
     "output_type": "execute_result"
    }
   ],
   "source": [
    "lr_clf = SGDClassifier(loss='log', max_iter=10000, fit_intercept=True, random_state=1234, tol=1e-3)\n",
    "lr_clf.fit(X_train, y_train)"
   ]
  },
  {
   "cell_type": "code",
   "execution_count": 5,
   "metadata": {},
   "outputs": [],
   "source": [
    "y_pred = lr_clf.predict(X_test)"
   ]
  },
  {
   "cell_type": "code",
   "execution_count": 6,
   "metadata": {},
   "outputs": [
    {
     "name": "stdout",
     "output_type": "stream",
     "text": [
      "正解率: 0.653\n",
      "Precision: 0.597\n",
      "Recall: 0.438\n",
      "F1: 0.505\n"
     ]
    }
   ],
   "source": [
    "acc = accuracy_score(y_test, y_pred)\n",
    "precision = precision_score(y_test, y_pred)\n",
    "recall = recall_score(y_test, y_pred)\n",
    "f_1 = f1_score(y_test, y_pred)\n",
    "\n",
    "print(f'正解率: {acc:.3}')\n",
    "print(f'Precision: {precision:.3}')\n",
    "print(f'Recall: {recall:.3}')\n",
    "print(f'F1: {f_1:.3}')"
   ]
  },
  {
   "cell_type": "markdown",
   "metadata": {},
   "source": [
    "- 交差検証法によるモデルの検証を行う\n",
    "- Day1 で実装したロジスティック回帰を利用する"
   ]
  },
  {
   "cell_type": "code",
   "execution_count": 7,
   "metadata": {},
   "outputs": [],
   "source": [
    "lr_clf_cv = SGDClassifier(loss='log', max_iter=10000, fit_intercept=True, random_state=1234, tol=1e-3)\n",
    "kf = KFold(n_splits=5, shuffle=True, random_state=1234)\n",
    "cv_results = cross_validate(lr_clf_cv, X_train, y_train, cv=kf, return_estimator=True,\n",
    "                            scoring=('accuracy', 'precision', 'recall', 'f1'))"
   ]
  },
  {
   "cell_type": "code",
   "execution_count": 8,
   "metadata": {},
   "outputs": [
    {
     "data": {
      "text/plain": [
       "dict_keys(['fit_time', 'score_time', 'estimator', 'test_accuracy', 'test_precision', 'test_recall', 'test_f1'])"
      ]
     },
     "execution_count": 8,
     "metadata": {},
     "output_type": "execute_result"
    }
   ],
   "source": [
    "cv_results.keys()"
   ]
  },
  {
   "cell_type": "code",
   "execution_count": 9,
   "metadata": {},
   "outputs": [
    {
     "name": "stdout",
     "output_type": "stream",
     "text": [
      "正解率: 0.637\n",
      "Precision: 0.65\n",
      "Recall: 0.234\n",
      "F1: 0.326\n"
     ]
    }
   ],
   "source": [
    "acc = cv_results['test_accuracy'].mean()\n",
    "precision = cv_results['test_precision'].mean()\n",
    "recall = cv_results['test_recall'].mean()\n",
    "f_1 = cv_results['test_f1'].mean()\n",
    "\n",
    "print(f'正解率: {acc:.3}')\n",
    "print(f'Precision: {precision:.3}')\n",
    "print(f'Recall: {recall:.3}')\n",
    "print(f'F1: {f_1:.3}')"
   ]
  },
  {
   "cell_type": "markdown",
   "metadata": {},
   "source": [
    "## 前処理\n",
    "- 連続変数に対する標準化を行う"
   ]
  },
  {
   "cell_type": "code",
   "execution_count": 10,
   "metadata": {},
   "outputs": [
    {
     "name": "stderr",
     "output_type": "stream",
     "text": [
      "/Users/mizoguchi/anaconda3/lib/python3.7/site-packages/pandas/core/indexing.py:1736: SettingWithCopyWarning: \n",
      "A value is trying to be set on a copy of a slice from a DataFrame.\n",
      "Try using .loc[row_indexer,col_indexer] = value instead\n",
      "\n",
      "See the caveats in the documentation: https://pandas.pydata.org/pandas-docs/stable/user_guide/indexing.html#returning-a-view-versus-a-copy\n",
      "  isetter(loc, value[:, i].tolist())\n",
      "/Users/mizoguchi/anaconda3/lib/python3.7/site-packages/pandas/core/indexing.py:1736: SettingWithCopyWarning: \n",
      "A value is trying to be set on a copy of a slice from a DataFrame.\n",
      "Try using .loc[row_indexer,col_indexer] = value instead\n",
      "\n",
      "See the caveats in the documentation: https://pandas.pydata.org/pandas-docs/stable/user_guide/indexing.html#returning-a-view-versus-a-copy\n",
      "  isetter(loc, value[:, i].tolist())\n"
     ]
    }
   ],
   "source": [
    "std = StandardScaler()\n",
    "X_train.loc[:, ['log_usd_goal', 'period']] = std.fit_transform(X_train.loc[:, ['log_usd_goal', 'period']])\n",
    "X_test.loc[:, ['log_usd_goal', 'period']] = std.transform(X_test.loc[:, ['log_usd_goal', 'period']])"
   ]
  },
  {
   "cell_type": "code",
   "execution_count": 11,
   "metadata": {},
   "outputs": [
    {
     "name": "stdout",
     "output_type": "stream",
     "text": [
      "正解率: 0.647\n",
      "Precision: 0.565\n",
      "Recall: 0.545\n",
      "F1: 0.555\n"
     ]
    }
   ],
   "source": [
    "lr_clf = SGDClassifier(loss='log', max_iter=10000, fit_intercept=True, random_state=1234, tol=1e-3)\n",
    "lr_clf.fit(X_train, y_train)\n",
    "y_pred = lr_clf.predict(X_test)\n",
    "\n",
    "acc = accuracy_score(y_test, y_pred)\n",
    "precision = precision_score(y_test, y_pred)\n",
    "recall = recall_score(y_test, y_pred)\n",
    "f_1 = f1_score(y_test, y_pred)\n",
    "\n",
    "print(f'正解率: {acc:.3}')\n",
    "print(f'Precision: {precision:.3}')\n",
    "print(f'Recall: {recall:.3}')\n",
    "print(f'F1: {f_1:.3}')"
   ]
  },
  {
   "cell_type": "markdown",
   "metadata": {},
   "source": [
    "- 正解率，precision はわずかに下がった\n",
    "- recall，f1 は上がった"
   ]
  },
  {
   "cell_type": "markdown",
   "metadata": {},
   "source": [
    "##  正則化・ハイパーパラメータ探索\n",
    "- 二次の多項式までを考慮したロジスティック回帰について，以下の正則化を併用する．また，正則化の種類とパラメータをグリッドサーチによって探索する\n",
    "    - L_2 正則化\n",
    "    - L_1 正則化\n",
    "- 以下のクラスを利用する\n",
    "    - Pipeline: 複数のクラスを連結して利用するためのクラス．\n",
    "    - GridSearchCV: グリッドサーチを行うためのクラス．PipeLine を併用する場合には`__`によってインスタンスの名称とパラメータの名称を連結することに注意\n",
    "- 実行には30分程度かかることに注意"
   ]
  },
  {
   "cell_type": "code",
   "execution_count": 15,
   "metadata": {},
   "outputs": [
    {
     "name": "stdout",
     "output_type": "stream",
     "text": [
      "Fitting 5 folds for each of 10 candidates, totalling 50 fits\n",
      "[CV] clf__alpha=0.1, clf__penalty=l1 .................................\n"
     ]
    },
    {
     "name": "stderr",
     "output_type": "stream",
     "text": [
      "[Parallel(n_jobs=1)]: Using backend SequentialBackend with 1 concurrent workers.\n"
     ]
    },
    {
     "name": "stdout",
     "output_type": "stream",
     "text": [
      "[CV] ..... clf__alpha=0.1, clf__penalty=l1, score=0.620, total=   5.0s\n",
      "[CV] clf__alpha=0.1, clf__penalty=l1 .................................\n"
     ]
    },
    {
     "name": "stderr",
     "output_type": "stream",
     "text": [
      "[Parallel(n_jobs=1)]: Done   1 out of   1 | elapsed:    5.0s remaining:    0.0s\n"
     ]
    },
    {
     "name": "stdout",
     "output_type": "stream",
     "text": [
      "[CV] ..... clf__alpha=0.1, clf__penalty=l1, score=0.623, total=   4.8s\n",
      "[CV] clf__alpha=0.1, clf__penalty=l1 .................................\n"
     ]
    },
    {
     "name": "stderr",
     "output_type": "stream",
     "text": [
      "[Parallel(n_jobs=1)]: Done   2 out of   2 | elapsed:    9.8s remaining:    0.0s\n"
     ]
    },
    {
     "name": "stdout",
     "output_type": "stream",
     "text": [
      "[CV] ..... clf__alpha=0.1, clf__penalty=l1, score=0.617, total=   5.2s\n",
      "[CV] clf__alpha=0.1, clf__penalty=l1 .................................\n",
      "[CV] ..... clf__alpha=0.1, clf__penalty=l1, score=0.618, total=   4.8s\n",
      "[CV] clf__alpha=0.1, clf__penalty=l1 .................................\n",
      "[CV] ..... clf__alpha=0.1, clf__penalty=l1, score=0.619, total=   5.1s\n",
      "[CV] clf__alpha=0.1, clf__penalty=l2 .................................\n",
      "[CV] ..... clf__alpha=0.1, clf__penalty=l2, score=0.649, total=   3.7s\n",
      "[CV] clf__alpha=0.1, clf__penalty=l2 .................................\n",
      "[CV] ..... clf__alpha=0.1, clf__penalty=l2, score=0.650, total=   3.8s\n",
      "[CV] clf__alpha=0.1, clf__penalty=l2 .................................\n",
      "[CV] ..... clf__alpha=0.1, clf__penalty=l2, score=0.650, total=   3.7s\n",
      "[CV] clf__alpha=0.1, clf__penalty=l2 .................................\n",
      "[CV] ..... clf__alpha=0.1, clf__penalty=l2, score=0.649, total=   3.5s\n",
      "[CV] clf__alpha=0.1, clf__penalty=l2 .................................\n",
      "[CV] ..... clf__alpha=0.1, clf__penalty=l2, score=0.643, total=   3.7s\n",
      "[CV] clf__alpha=0.01, clf__penalty=l1 ................................\n",
      "[CV] .... clf__alpha=0.01, clf__penalty=l1, score=0.643, total=   5.7s\n",
      "[CV] clf__alpha=0.01, clf__penalty=l1 ................................\n",
      "[CV] .... clf__alpha=0.01, clf__penalty=l1, score=0.644, total=  10.2s\n",
      "[CV] clf__alpha=0.01, clf__penalty=l1 ................................\n",
      "[CV] .... clf__alpha=0.01, clf__penalty=l1, score=0.647, total=   6.2s\n",
      "[CV] clf__alpha=0.01, clf__penalty=l1 ................................\n",
      "[CV] .... clf__alpha=0.01, clf__penalty=l1, score=0.643, total=   7.2s\n",
      "[CV] clf__alpha=0.01, clf__penalty=l1 ................................\n",
      "[CV] .... clf__alpha=0.01, clf__penalty=l1, score=0.638, total=   5.7s\n",
      "[CV] clf__alpha=0.01, clf__penalty=l2 ................................\n",
      "[CV] .... clf__alpha=0.01, clf__penalty=l2, score=0.651, total=   5.6s\n",
      "[CV] clf__alpha=0.01, clf__penalty=l2 ................................\n",
      "[CV] .... clf__alpha=0.01, clf__penalty=l2, score=0.656, total=   5.4s\n",
      "[CV] clf__alpha=0.01, clf__penalty=l2 ................................\n",
      "[CV] .... clf__alpha=0.01, clf__penalty=l2, score=0.654, total=   5.6s\n",
      "[CV] clf__alpha=0.01, clf__penalty=l2 ................................\n",
      "[CV] .... clf__alpha=0.01, clf__penalty=l2, score=0.655, total=   6.4s\n",
      "[CV] clf__alpha=0.01, clf__penalty=l2 ................................\n",
      "[CV] .... clf__alpha=0.01, clf__penalty=l2, score=0.648, total=   5.8s\n",
      "[CV] clf__alpha=0.001, clf__penalty=l1 ...............................\n",
      "[CV] ... clf__alpha=0.001, clf__penalty=l1, score=0.647, total=  20.5s\n",
      "[CV] clf__alpha=0.001, clf__penalty=l1 ...............................\n",
      "[CV] ... clf__alpha=0.001, clf__penalty=l1, score=0.620, total=  22.4s\n",
      "[CV] clf__alpha=0.001, clf__penalty=l1 ...............................\n",
      "[CV] ... clf__alpha=0.001, clf__penalty=l1, score=0.612, total=  21.9s\n",
      "[CV] clf__alpha=0.001, clf__penalty=l1 ...............................\n",
      "[CV] ... clf__alpha=0.001, clf__penalty=l1, score=0.635, total=  21.9s\n",
      "[CV] clf__alpha=0.001, clf__penalty=l1 ...............................\n",
      "[CV] ... clf__alpha=0.001, clf__penalty=l1, score=0.652, total=  20.1s\n",
      "[CV] clf__alpha=0.001, clf__penalty=l2 ...............................\n",
      "[CV] ... clf__alpha=0.001, clf__penalty=l2, score=0.628, total=  15.0s\n",
      "[CV] clf__alpha=0.001, clf__penalty=l2 ...............................\n",
      "[CV] ... clf__alpha=0.001, clf__penalty=l2, score=0.657, total=  16.1s\n",
      "[CV] clf__alpha=0.001, clf__penalty=l2 ...............................\n",
      "[CV] ... clf__alpha=0.001, clf__penalty=l2, score=0.662, total=  14.1s\n",
      "[CV] clf__alpha=0.001, clf__penalty=l2 ...............................\n",
      "[CV] ... clf__alpha=0.001, clf__penalty=l2, score=0.624, total=  15.4s\n",
      "[CV] clf__alpha=0.001, clf__penalty=l2 ...............................\n",
      "[CV] ... clf__alpha=0.001, clf__penalty=l2, score=0.653, total=  13.9s\n",
      "[CV] clf__alpha=0.0001, clf__penalty=l1 ..............................\n",
      "[CV] .. clf__alpha=0.0001, clf__penalty=l1, score=0.625, total=  44.1s\n",
      "[CV] clf__alpha=0.0001, clf__penalty=l1 ..............................\n",
      "[CV] .. clf__alpha=0.0001, clf__penalty=l1, score=0.643, total=  49.0s\n",
      "[CV] clf__alpha=0.0001, clf__penalty=l1 ..............................\n",
      "[CV] .. clf__alpha=0.0001, clf__penalty=l1, score=0.607, total=  46.9s\n",
      "[CV] clf__alpha=0.0001, clf__penalty=l1 ..............................\n",
      "[CV] .. clf__alpha=0.0001, clf__penalty=l1, score=0.632, total=  54.9s\n",
      "[CV] clf__alpha=0.0001, clf__penalty=l1 ..............................\n",
      "[CV] .. clf__alpha=0.0001, clf__penalty=l1, score=0.627, total=  41.5s\n",
      "[CV] clf__alpha=0.0001, clf__penalty=l2 ..............................\n",
      "[CV] .. clf__alpha=0.0001, clf__penalty=l2, score=0.631, total=  48.9s\n",
      "[CV] clf__alpha=0.0001, clf__penalty=l2 ..............................\n",
      "[CV] .. clf__alpha=0.0001, clf__penalty=l2, score=0.611, total=  54.4s\n",
      "[CV] clf__alpha=0.0001, clf__penalty=l2 ..............................\n",
      "[CV] .. clf__alpha=0.0001, clf__penalty=l2, score=0.580, total=  41.8s\n",
      "[CV] clf__alpha=0.0001, clf__penalty=l2 ..............................\n",
      "[CV] .. clf__alpha=0.0001, clf__penalty=l2, score=0.591, total=  51.7s\n",
      "[CV] clf__alpha=0.0001, clf__penalty=l2 ..............................\n",
      "[CV] .. clf__alpha=0.0001, clf__penalty=l2, score=0.611, total=  51.1s\n",
      "[CV] clf__alpha=1e-05, clf__penalty=l1 ...............................\n",
      "[CV] ... clf__alpha=1e-05, clf__penalty=l1, score=0.593, total=  30.8s\n",
      "[CV] clf__alpha=1e-05, clf__penalty=l1 ...............................\n",
      "[CV] ... clf__alpha=1e-05, clf__penalty=l1, score=0.639, total=  23.1s\n",
      "[CV] clf__alpha=1e-05, clf__penalty=l1 ...............................\n",
      "[CV] ... clf__alpha=1e-05, clf__penalty=l1, score=0.608, total=  11.1s\n",
      "[CV] clf__alpha=1e-05, clf__penalty=l1 ...............................\n",
      "[CV] ... clf__alpha=1e-05, clf__penalty=l1, score=0.507, total=  35.6s\n",
      "[CV] clf__alpha=1e-05, clf__penalty=l1 ...............................\n",
      "[CV] ... clf__alpha=1e-05, clf__penalty=l1, score=0.603, total=  25.3s\n",
      "[CV] clf__alpha=1e-05, clf__penalty=l2 ...............................\n",
      "[CV] ... clf__alpha=1e-05, clf__penalty=l2, score=0.604, total= 1.6min\n",
      "[CV] clf__alpha=1e-05, clf__penalty=l2 ...............................\n",
      "[CV] ... clf__alpha=1e-05, clf__penalty=l2, score=0.578, total= 1.3min\n",
      "[CV] clf__alpha=1e-05, clf__penalty=l2 ...............................\n",
      "[CV] ... clf__alpha=1e-05, clf__penalty=l2, score=0.605, total= 1.9min\n",
      "[CV] clf__alpha=1e-05, clf__penalty=l2 ...............................\n",
      "[CV] ... clf__alpha=1e-05, clf__penalty=l2, score=0.550, total= 1.5min\n",
      "[CV] clf__alpha=1e-05, clf__penalty=l2 ...............................\n",
      "[CV] ... clf__alpha=1e-05, clf__penalty=l2, score=0.608, total= 1.8min\n"
     ]
    },
    {
     "name": "stderr",
     "output_type": "stream",
     "text": [
      "[Parallel(n_jobs=1)]: Done  50 out of  50 | elapsed: 23.1min finished\n"
     ]
    },
    {
     "data": {
      "text/plain": [
       "GridSearchCV(cv=KFold(n_splits=5, random_state=1234, shuffle=True),\n",
       "             estimator=Pipeline(steps=[('poly', PolynomialFeatures()),\n",
       "                                       ('clf',\n",
       "                                        SGDClassifier(loss='log',\n",
       "                                                      max_iter=10000,\n",
       "                                                      random_state=1234))]),\n",
       "             param_grid={'clf__alpha': [0.1, 0.01, 0.001, 0.0001, 1e-05],\n",
       "                         'clf__penalty': ['l1', 'l2']},\n",
       "             scoring='accuracy', verbose=3)"
      ]
     },
     "execution_count": 15,
     "metadata": {},
     "output_type": "execute_result"
    }
   ],
   "source": [
    "degree = 2\n",
    "poly = PolynomialFeatures(degree)\n",
    "\n",
    "parameters = {'clf__alpha': [1e-1, 1e-2, 1e-3, 1e-4, 1e-5], 'clf__penalty': ['l1', 'l2']}\n",
    "\n",
    "clf_pl = Pipeline([(\"poly\", poly), (\"clf\", SGDClassifier(loss='log', max_iter=10000, fit_intercept=True, random_state=1234, tol=1e-3))])\n",
    "\n",
    "grid = GridSearchCV(clf_pl, param_grid=parameters, \n",
    "                         cv=kf, \n",
    "                         scoring='accuracy', \n",
    "                         verbose=3) \n",
    "\n",
    "grid.fit(X_train, y_train)"
   ]
  },
  {
   "cell_type": "code",
   "execution_count": 17,
   "metadata": {},
   "outputs": [
    {
     "name": "stdout",
     "output_type": "stream",
     "text": [
      "正解率: 0.652\n",
      "Precision: 0.621\n",
      "Recall: 0.355\n",
      "F1: 0.452\n"
     ]
    }
   ],
   "source": [
    "y_pred = grid.predict(X_test)\n",
    "\n",
    "acc = accuracy_score(y_test, y_pred)\n",
    "precision = precision_score(y_test, y_pred)\n",
    "recall = recall_score(y_test, y_pred)\n",
    "f_1 = f1_score(y_test, y_pred)\n",
    "\n",
    "print(f'正解率: {acc:.3}')\n",
    "print(f'Precision: {precision:.3}')\n",
    "print(f'Recall: {recall:.3}')\n",
    "print(f'F1: {f_1:.3}')"
   ]
  },
  {
   "cell_type": "markdown",
   "metadata": {},
   "source": [
    "通常のロジスティック回帰と性能はさほど変わらない様子"
   ]
  },
  {
   "cell_type": "markdown",
   "metadata": {},
   "source": [
    "## SVM の利用\n",
    "SVM はスモールデータに適したモデルであり，今回の課題に適用する場合には適宜データを間引かないと計算時間が爆発してしまう"
   ]
  },
  {
   "cell_type": "code",
   "execution_count": 26,
   "metadata": {},
   "outputs": [],
   "source": [
    "n_sample = 10000 # サンプルサイズ\n",
    "y_sampled = y_train.sample(n_sample)\n",
    "X_sampled = X_train.loc[y_sampled.index, :]"
   ]
  },
  {
   "cell_type": "code",
   "execution_count": 27,
   "metadata": {},
   "outputs": [
    {
     "name": "stdout",
     "output_type": "stream",
     "text": [
      "Fitting 5 folds for each of 6 candidates, totalling 30 fits\n",
      "[CV] C=1e-05, kernel=linear ..........................................\n"
     ]
    },
    {
     "name": "stderr",
     "output_type": "stream",
     "text": [
      "[Parallel(n_jobs=1)]: Using backend SequentialBackend with 1 concurrent workers.\n"
     ]
    },
    {
     "name": "stdout",
     "output_type": "stream",
     "text": [
      "[CV] .............. C=1e-05, kernel=linear, score=0.578, total=   2.8s\n",
      "[CV] C=1e-05, kernel=linear ..........................................\n"
     ]
    },
    {
     "name": "stderr",
     "output_type": "stream",
     "text": [
      "[Parallel(n_jobs=1)]: Done   1 out of   1 | elapsed:    2.8s remaining:    0.0s\n"
     ]
    },
    {
     "name": "stdout",
     "output_type": "stream",
     "text": [
      "[CV] .............. C=1e-05, kernel=linear, score=0.595, total=   2.6s\n",
      "[CV] C=1e-05, kernel=linear ..........................................\n"
     ]
    },
    {
     "name": "stderr",
     "output_type": "stream",
     "text": [
      "[Parallel(n_jobs=1)]: Done   2 out of   2 | elapsed:    5.3s remaining:    0.0s\n"
     ]
    },
    {
     "name": "stdout",
     "output_type": "stream",
     "text": [
      "[CV] .............. C=1e-05, kernel=linear, score=0.609, total=   2.5s\n",
      "[CV] C=1e-05, kernel=linear ..........................................\n",
      "[CV] .............. C=1e-05, kernel=linear, score=0.602, total=   2.5s\n",
      "[CV] C=1e-05, kernel=linear ..........................................\n",
      "[CV] .............. C=1e-05, kernel=linear, score=0.586, total=   2.4s\n",
      "[CV] C=1e-05, kernel=rbf .............................................\n",
      "[CV] ................. C=1e-05, kernel=rbf, score=0.578, total=   3.1s\n",
      "[CV] C=1e-05, kernel=rbf .............................................\n",
      "[CV] ................. C=1e-05, kernel=rbf, score=0.595, total=   3.2s\n",
      "[CV] C=1e-05, kernel=rbf .............................................\n",
      "[CV] ................. C=1e-05, kernel=rbf, score=0.609, total=   3.3s\n",
      "[CV] C=1e-05, kernel=rbf .............................................\n",
      "[CV] ................. C=1e-05, kernel=rbf, score=0.602, total=   3.2s\n",
      "[CV] C=1e-05, kernel=rbf .............................................\n",
      "[CV] ................. C=1e-05, kernel=rbf, score=0.586, total=   3.4s\n",
      "[CV] C=0.0001, kernel=linear .........................................\n",
      "[CV] ............. C=0.0001, kernel=linear, score=0.578, total=   2.7s\n",
      "[CV] C=0.0001, kernel=linear .........................................\n",
      "[CV] ............. C=0.0001, kernel=linear, score=0.595, total=   2.8s\n",
      "[CV] C=0.0001, kernel=linear .........................................\n",
      "[CV] ............. C=0.0001, kernel=linear, score=0.609, total=   2.7s\n",
      "[CV] C=0.0001, kernel=linear .........................................\n",
      "[CV] ............. C=0.0001, kernel=linear, score=0.602, total=   2.7s\n",
      "[CV] C=0.0001, kernel=linear .........................................\n",
      "[CV] ............. C=0.0001, kernel=linear, score=0.586, total=   2.7s\n",
      "[CV] C=0.0001, kernel=rbf ............................................\n",
      "[CV] ................ C=0.0001, kernel=rbf, score=0.578, total=   3.4s\n",
      "[CV] C=0.0001, kernel=rbf ............................................\n",
      "[CV] ................ C=0.0001, kernel=rbf, score=0.595, total=   3.4s\n",
      "[CV] C=0.0001, kernel=rbf ............................................\n",
      "[CV] ................ C=0.0001, kernel=rbf, score=0.609, total=   3.5s\n",
      "[CV] C=0.0001, kernel=rbf ............................................\n",
      "[CV] ................ C=0.0001, kernel=rbf, score=0.602, total=   3.2s\n",
      "[CV] C=0.0001, kernel=rbf ............................................\n",
      "[CV] ................ C=0.0001, kernel=rbf, score=0.586, total=   3.1s\n",
      "[CV] C=0.001, kernel=linear ..........................................\n",
      "[CV] .............. C=0.001, kernel=linear, score=0.579, total=   2.4s\n",
      "[CV] C=0.001, kernel=linear ..........................................\n",
      "[CV] .............. C=0.001, kernel=linear, score=0.599, total=   2.6s\n",
      "[CV] C=0.001, kernel=linear ..........................................\n",
      "[CV] .............. C=0.001, kernel=linear, score=0.616, total=   2.6s\n",
      "[CV] C=0.001, kernel=linear ..........................................\n",
      "[CV] .............. C=0.001, kernel=linear, score=0.619, total=   2.6s\n",
      "[CV] C=0.001, kernel=linear ..........................................\n",
      "[CV] .............. C=0.001, kernel=linear, score=0.589, total=   2.6s\n",
      "[CV] C=0.001, kernel=rbf .............................................\n",
      "[CV] ................. C=0.001, kernel=rbf, score=0.578, total=   3.4s\n",
      "[CV] C=0.001, kernel=rbf .............................................\n",
      "[CV] ................. C=0.001, kernel=rbf, score=0.595, total=   3.3s\n",
      "[CV] C=0.001, kernel=rbf .............................................\n",
      "[CV] ................. C=0.001, kernel=rbf, score=0.609, total=   3.4s\n",
      "[CV] C=0.001, kernel=rbf .............................................\n",
      "[CV] ................. C=0.001, kernel=rbf, score=0.602, total=   3.4s\n",
      "[CV] C=0.001, kernel=rbf .............................................\n",
      "[CV] ................. C=0.001, kernel=rbf, score=0.586, total=   3.5s\n"
     ]
    },
    {
     "name": "stderr",
     "output_type": "stream",
     "text": [
      "[Parallel(n_jobs=1)]: Done  30 out of  30 | elapsed:  1.5min finished\n"
     ]
    },
    {
     "data": {
      "text/plain": [
       "GridSearchCV(cv=KFold(n_splits=5, random_state=1234, shuffle=True),\n",
       "             estimator=SVC(),\n",
       "             param_grid={'C': [1e-05, 0.0001, 0.001],\n",
       "                         'kernel': ['linear', 'rbf']},\n",
       "             verbose=3)"
      ]
     },
     "execution_count": 27,
     "metadata": {},
     "output_type": "execute_result"
    }
   ],
   "source": [
    "parameters = {'kernel':['linear', 'rbf'], 'C':[1e-5, 1e-4, 1e-3]} # ここを編集する\n",
    "model = SVC()\n",
    "svc = GridSearchCV(model, parameters, cv=kf, verbose=3)\n",
    "svc.fit(X_sampled, y_sampled)"
   ]
  },
  {
   "cell_type": "code",
   "execution_count": 29,
   "metadata": {},
   "outputs": [
    {
     "name": "stdout",
     "output_type": "stream",
     "text": [
      "正解率: 0.606\n",
      "Precision: 0.682\n",
      "Recall: 0.047\n",
      "F1: 0.0879\n"
     ]
    }
   ],
   "source": [
    "y_pred = svc.predict(X_test)\n",
    "\n",
    "acc = accuracy_score(y_test, y_pred)\n",
    "precision = precision_score(y_test, y_pred)\n",
    "recall = recall_score(y_test, y_pred)\n",
    "f_1 = f1_score(y_test, y_pred)\n",
    "\n",
    "print(f'正解率: {acc:.3}')\n",
    "print(f'Precision: {precision:.3}')\n",
    "print(f'Recall: {recall:.3}')\n",
    "print(f'F1: {f_1:.3}')"
   ]
  },
  {
   "cell_type": "markdown",
   "metadata": {},
   "source": [
    "ロジスティック回帰と比較して Recall が低い結果が得られた"
   ]
  },
  {
   "cell_type": "code",
   "execution_count": null,
   "metadata": {},
   "outputs": [],
   "source": []
  }
 ],
 "metadata": {
  "kernelspec": {
   "display_name": "Python 3",
   "language": "python",
   "name": "python3"
  },
  "language_info": {
   "codemirror_mode": {
    "name": "ipython",
    "version": 3
   },
   "file_extension": ".py",
   "mimetype": "text/x-python",
   "name": "python",
   "nbconvert_exporter": "python",
   "pygments_lexer": "ipython3",
   "version": "3.7.3"
  }
 },
 "nbformat": 4,
 "nbformat_minor": 2
}
