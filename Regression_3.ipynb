{
 "cells": [
  {
   "cell_type": "markdown",
   "metadata": {},
   "source": [
    "# 通し課題模範解答 回帰編 DAY 3\n",
    "- kaggle の kickstarter project に関して，usd_pledged_real を予測するモデルを作成する\n",
    "    - https://www.kaggle.com/kemical/kickstarter-projects?select=ks-projects-201801.csv\n",
    "- DAY 3 では，以下を行う\n",
    "    - 特徴選択\n",
    "        - フィルタ法\n",
    "        - ラッパー法\n",
    "        - 埋め込み法\n",
    "    - 木モデルの利用\n",
    "        - 決定木\n",
    "        - ランダムフォレスト\n",
    "        - アダブースト\n",
    "    - ニューラルネットワークの利用"
   ]
  },
  {
   "cell_type": "code",
   "execution_count": 1,
   "metadata": {},
   "outputs": [],
   "source": [
    "import pandas as pd\n",
    "import numpy as np\n",
    "import matplotlib.pyplot as plt\n",
    "import seaborn as sns\n",
    "from sklearn.linear_model import LinearRegression, LassoCV\n",
    "from sklearn.tree import DecisionTreeRegressor\n",
    "from sklearn.ensemble import RandomForestRegressor, AdaBoostRegressor\n",
    "from sklearn.feature_selection import RFECV, SelectFromModel\n",
    "from sklearn.model_selection import train_test_split, KFold, GridSearchCV\n",
    "from sklearn.metrics import mean_absolute_error, mean_squared_error\n",
    "from sklearn.preprocessing import StandardScaler, PolynomialFeatures\n",
    "from sklearn.pipeline import Pipeline"
   ]
  },
  {
   "cell_type": "code",
   "execution_count": 3,
   "metadata": {},
   "outputs": [
    {
     "data": {
      "text/html": [
       "<div>\n",
       "<style scoped>\n",
       "    .dataframe tbody tr th:only-of-type {\n",
       "        vertical-align: middle;\n",
       "    }\n",
       "\n",
       "    .dataframe tbody tr th {\n",
       "        vertical-align: top;\n",
       "    }\n",
       "\n",
       "    .dataframe thead th {\n",
       "        text-align: right;\n",
       "    }\n",
       "</style>\n",
       "<table border=\"1\" class=\"dataframe\">\n",
       "  <thead>\n",
       "    <tr style=\"text-align: right;\">\n",
       "      <th></th>\n",
       "      <th>usd_pledged_real</th>\n",
       "      <th>usd_goal_real</th>\n",
       "      <th>period</th>\n",
       "      <th>log_usd_goal</th>\n",
       "      <th>log_usd_pledged</th>\n",
       "      <th>n_words</th>\n",
       "      <th>main_category_Comics</th>\n",
       "      <th>main_category_Crafts</th>\n",
       "      <th>main_category_Dance</th>\n",
       "      <th>main_category_Design</th>\n",
       "      <th>...</th>\n",
       "      <th>currency_EUR</th>\n",
       "      <th>currency_GBP</th>\n",
       "      <th>currency_HKD</th>\n",
       "      <th>currency_JPY</th>\n",
       "      <th>currency_MXN</th>\n",
       "      <th>currency_NOK</th>\n",
       "      <th>currency_NZD</th>\n",
       "      <th>currency_SEK</th>\n",
       "      <th>currency_SGD</th>\n",
       "      <th>currency_USD</th>\n",
       "    </tr>\n",
       "    <tr>\n",
       "      <th>ID</th>\n",
       "      <th></th>\n",
       "      <th></th>\n",
       "      <th></th>\n",
       "      <th></th>\n",
       "      <th></th>\n",
       "      <th></th>\n",
       "      <th></th>\n",
       "      <th></th>\n",
       "      <th></th>\n",
       "      <th></th>\n",
       "      <th></th>\n",
       "      <th></th>\n",
       "      <th></th>\n",
       "      <th></th>\n",
       "      <th></th>\n",
       "      <th></th>\n",
       "      <th></th>\n",
       "      <th></th>\n",
       "      <th></th>\n",
       "      <th></th>\n",
       "      <th></th>\n",
       "    </tr>\n",
       "  </thead>\n",
       "  <tbody>\n",
       "    <tr>\n",
       "      <th>1000002330</th>\n",
       "      <td>0.0</td>\n",
       "      <td>1533.95</td>\n",
       "      <td>58</td>\n",
       "      <td>3.185811</td>\n",
       "      <td>-5.000000</td>\n",
       "      <td>6</td>\n",
       "      <td>0</td>\n",
       "      <td>0</td>\n",
       "      <td>0</td>\n",
       "      <td>0</td>\n",
       "      <td>...</td>\n",
       "      <td>0</td>\n",
       "      <td>1</td>\n",
       "      <td>0</td>\n",
       "      <td>0</td>\n",
       "      <td>0</td>\n",
       "      <td>0</td>\n",
       "      <td>0</td>\n",
       "      <td>0</td>\n",
       "      <td>0</td>\n",
       "      <td>0</td>\n",
       "    </tr>\n",
       "    <tr>\n",
       "      <th>1000003930</th>\n",
       "      <td>2421.0</td>\n",
       "      <td>30000.00</td>\n",
       "      <td>59</td>\n",
       "      <td>4.477121</td>\n",
       "      <td>3.383995</td>\n",
       "      <td>8</td>\n",
       "      <td>0</td>\n",
       "      <td>0</td>\n",
       "      <td>0</td>\n",
       "      <td>0</td>\n",
       "      <td>...</td>\n",
       "      <td>0</td>\n",
       "      <td>0</td>\n",
       "      <td>0</td>\n",
       "      <td>0</td>\n",
       "      <td>0</td>\n",
       "      <td>0</td>\n",
       "      <td>0</td>\n",
       "      <td>0</td>\n",
       "      <td>0</td>\n",
       "      <td>1</td>\n",
       "    </tr>\n",
       "    <tr>\n",
       "      <th>1000004038</th>\n",
       "      <td>220.0</td>\n",
       "      <td>45000.00</td>\n",
       "      <td>44</td>\n",
       "      <td>4.653213</td>\n",
       "      <td>2.342423</td>\n",
       "      <td>3</td>\n",
       "      <td>0</td>\n",
       "      <td>0</td>\n",
       "      <td>0</td>\n",
       "      <td>0</td>\n",
       "      <td>...</td>\n",
       "      <td>0</td>\n",
       "      <td>0</td>\n",
       "      <td>0</td>\n",
       "      <td>0</td>\n",
       "      <td>0</td>\n",
       "      <td>0</td>\n",
       "      <td>0</td>\n",
       "      <td>0</td>\n",
       "      <td>0</td>\n",
       "      <td>1</td>\n",
       "    </tr>\n",
       "    <tr>\n",
       "      <th>1000007540</th>\n",
       "      <td>1.0</td>\n",
       "      <td>5000.00</td>\n",
       "      <td>29</td>\n",
       "      <td>3.698970</td>\n",
       "      <td>0.000004</td>\n",
       "      <td>7</td>\n",
       "      <td>0</td>\n",
       "      <td>0</td>\n",
       "      <td>0</td>\n",
       "      <td>0</td>\n",
       "      <td>...</td>\n",
       "      <td>0</td>\n",
       "      <td>0</td>\n",
       "      <td>0</td>\n",
       "      <td>0</td>\n",
       "      <td>0</td>\n",
       "      <td>0</td>\n",
       "      <td>0</td>\n",
       "      <td>0</td>\n",
       "      <td>0</td>\n",
       "      <td>1</td>\n",
       "    </tr>\n",
       "    <tr>\n",
       "      <th>1000011046</th>\n",
       "      <td>1283.0</td>\n",
       "      <td>19500.00</td>\n",
       "      <td>55</td>\n",
       "      <td>4.290035</td>\n",
       "      <td>3.108227</td>\n",
       "      <td>8</td>\n",
       "      <td>0</td>\n",
       "      <td>0</td>\n",
       "      <td>0</td>\n",
       "      <td>0</td>\n",
       "      <td>...</td>\n",
       "      <td>0</td>\n",
       "      <td>0</td>\n",
       "      <td>0</td>\n",
       "      <td>0</td>\n",
       "      <td>0</td>\n",
       "      <td>0</td>\n",
       "      <td>0</td>\n",
       "      <td>0</td>\n",
       "      <td>0</td>\n",
       "      <td>1</td>\n",
       "    </tr>\n",
       "  </tbody>\n",
       "</table>\n",
       "<p>5 rows × 33 columns</p>\n",
       "</div>"
      ],
      "text/plain": [
       "            usd_pledged_real  usd_goal_real  period  log_usd_goal  \\\n",
       "ID                                                                  \n",
       "1000002330               0.0        1533.95      58      3.185811   \n",
       "1000003930            2421.0       30000.00      59      4.477121   \n",
       "1000004038             220.0       45000.00      44      4.653213   \n",
       "1000007540               1.0        5000.00      29      3.698970   \n",
       "1000011046            1283.0       19500.00      55      4.290035   \n",
       "\n",
       "            log_usd_pledged  n_words  main_category_Comics  \\\n",
       "ID                                                           \n",
       "1000002330        -5.000000        6                     0   \n",
       "1000003930         3.383995        8                     0   \n",
       "1000004038         2.342423        3                     0   \n",
       "1000007540         0.000004        7                     0   \n",
       "1000011046         3.108227        8                     0   \n",
       "\n",
       "            main_category_Crafts  main_category_Dance  main_category_Design  \\\n",
       "ID                                                                            \n",
       "1000002330                     0                    0                     0   \n",
       "1000003930                     0                    0                     0   \n",
       "1000004038                     0                    0                     0   \n",
       "1000007540                     0                    0                     0   \n",
       "1000011046                     0                    0                     0   \n",
       "\n",
       "            ...  currency_EUR  currency_GBP  currency_HKD  currency_JPY  \\\n",
       "ID          ...                                                           \n",
       "1000002330  ...             0             1             0             0   \n",
       "1000003930  ...             0             0             0             0   \n",
       "1000004038  ...             0             0             0             0   \n",
       "1000007540  ...             0             0             0             0   \n",
       "1000011046  ...             0             0             0             0   \n",
       "\n",
       "            currency_MXN  currency_NOK  currency_NZD  currency_SEK  \\\n",
       "ID                                                                   \n",
       "1000002330             0             0             0             0   \n",
       "1000003930             0             0             0             0   \n",
       "1000004038             0             0             0             0   \n",
       "1000007540             0             0             0             0   \n",
       "1000011046             0             0             0             0   \n",
       "\n",
       "            currency_SGD  currency_USD  \n",
       "ID                                      \n",
       "1000002330             0             0  \n",
       "1000003930             0             1  \n",
       "1000004038             0             1  \n",
       "1000007540             0             1  \n",
       "1000011046             0             1  \n",
       "\n",
       "[5 rows x 33 columns]"
      ]
     },
     "execution_count": 3,
     "metadata": {},
     "output_type": "execute_result"
    }
   ],
   "source": [
    "df = pd.read_csv('../data/df_regression.csv', index_col='ID')\n",
    "df.head()"
   ]
  },
  {
   "cell_type": "code",
   "execution_count": 4,
   "metadata": {},
   "outputs": [],
   "source": [
    "X = df.drop(columns=['log_usd_pledged', 'usd_pledged_real'])\n",
    "y = df['usd_pledged_real']\n",
    "log_y = df['log_usd_pledged']\n",
    "\n",
    "X_train, X_test, y_train, y_test, log_y_train, log_y_test = train_test_split(X, y, log_y, test_size=0.3, random_state=1234)"
   ]
  },
  {
   "cell_type": "code",
   "execution_count": 5,
   "metadata": {},
   "outputs": [
    {
     "name": "stderr",
     "output_type": "stream",
     "text": [
      "/Users/Mayu.T/anaconda3/lib/python3.7/site-packages/sklearn/preprocessing/data.py:645: DataConversionWarning: Data with input dtype int64, float64 were all converted to float64 by StandardScaler.\n",
      "  return self.partial_fit(X, y)\n",
      "/Users/Mayu.T/anaconda3/lib/python3.7/site-packages/sklearn/base.py:464: DataConversionWarning: Data with input dtype int64, float64 were all converted to float64 by StandardScaler.\n",
      "  return self.fit(X, **fit_params).transform(X)\n",
      "/Users/Mayu.T/anaconda3/lib/python3.7/site-packages/pandas/core/indexing.py:543: SettingWithCopyWarning: \n",
      "A value is trying to be set on a copy of a slice from a DataFrame.\n",
      "Try using .loc[row_indexer,col_indexer] = value instead\n",
      "\n",
      "See the caveats in the documentation: http://pandas.pydata.org/pandas-docs/stable/indexing.html#indexing-view-versus-copy\n",
      "  self.obj[item] = s\n",
      "/Users/Mayu.T/anaconda3/lib/python3.7/site-packages/ipykernel_launcher.py:3: DataConversionWarning: Data with input dtype int64, float64 were all converted to float64 by StandardScaler.\n",
      "  This is separate from the ipykernel package so we can avoid doing imports until\n",
      "/Users/Mayu.T/anaconda3/lib/python3.7/site-packages/pandas/core/indexing.py:543: SettingWithCopyWarning: \n",
      "A value is trying to be set on a copy of a slice from a DataFrame.\n",
      "Try using .loc[row_indexer,col_indexer] = value instead\n",
      "\n",
      "See the caveats in the documentation: http://pandas.pydata.org/pandas-docs/stable/indexing.html#indexing-view-versus-copy\n",
      "  self.obj[item] = s\n"
     ]
    }
   ],
   "source": [
    "std = StandardScaler()\n",
    "X_train.loc[:, ['log_usd_goal', 'period']] = std.fit_transform(X_train.loc[:, ['log_usd_goal', 'period']])\n",
    "X_test.loc[:, ['log_usd_goal', 'period']] = std.transform(X_test.loc[:, ['log_usd_goal', 'period']])"
   ]
  },
  {
   "cell_type": "markdown",
   "metadata": {},
   "source": [
    "## 特徴選択\n",
    "### フィルタ法\n",
    "- 相関係数による特徴選択を検討する"
   ]
  },
  {
   "cell_type": "code",
   "execution_count": 6,
   "metadata": {},
   "outputs": [
    {
     "data": {
      "text/plain": [
       "<matplotlib.axes._subplots.AxesSubplot at 0x7f91109b0390>"
      ]
     },
     "execution_count": 6,
     "metadata": {},
     "output_type": "execute_result"
    },
    {
     "data": {
      "image/png": "[encoded data removed]",
      "text/plain": [
       "<Figure size 1080x864 with 2 Axes>"
      ]
     },
     "metadata": {
      "needs_background": "light"
     },
     "output_type": "display_data"
    }
   ],
   "source": [
    "fig, ax = plt.subplots(1, 1, figsize=(15, 12))\n",
    "sns.heatmap(X_train.corr(), center=0, vmax=1, vmin=-1, ax=ax)"
   ]
  },
  {
   "cell_type": "code",
   "execution_count": 6,
   "metadata": {},
   "outputs": [
    {
     "data": {
      "text/plain": [
       "currency_CAD  currency_USD    0.382326\n",
       "currency_USD  currency_CAD    0.382326\n",
       "              currency_EUR    0.413907\n",
       "currency_EUR  currency_USD    0.413907\n",
       "currency_USD  currency_GBP    0.592161\n",
       "currency_GBP  currency_USD    0.592161\n",
       "dtype: float64"
      ]
     },
     "execution_count": 6,
     "metadata": {},
     "output_type": "execute_result"
    }
   ],
   "source": [
    "# 相関係数の絶対値が 0.3 以上 1.0 未満であるものを列挙\n",
    "X_corr = X_train.corr().abs()\n",
    "X_corr = X_corr.unstack()\n",
    "X_corr = X_corr.sort_values(kind=\"quicksort\")\n",
    "X_corr[(0.2 < X_corr) & (X_corr < 1)]"
   ]
  },
  {
   "cell_type": "markdown",
   "metadata": {},
   "source": [
    "最大で相関係数の絶対値が 0.6 程度であるため高いとは言えず，変数の削除の必要性はないと判断できる\n",
    "\n",
    "### ラッパー法\n",
    "- ステップワイズ法による特徴選択を行う"
   ]
  },
  {
   "cell_type": "code",
   "execution_count": 7,
   "metadata": {},
   "outputs": [],
   "source": [
    "kf = KFold(n_splits=5, shuffle=True, random_state=1234)"
   ]
  },
  {
   "cell_type": "code",
   "execution_count": 8,
   "metadata": {
    "scrolled": true
   },
   "outputs": [
    {
     "name": "stdout",
     "output_type": "stream",
     "text": [
      "Fitting estimator with 31 features.\n",
      "Fitting estimator with 30 features.\n",
      "Fitting estimator with 29 features.\n",
      "Fitting estimator with 28 features.\n",
      "Fitting estimator with 27 features.\n",
      "Fitting estimator with 26 features.\n",
      "Fitting estimator with 25 features.\n",
      "Fitting estimator with 24 features.\n",
      "Fitting estimator with 23 features.\n",
      "Fitting estimator with 22 features.\n",
      "Fitting estimator with 21 features.\n",
      "Fitting estimator with 20 features.\n",
      "Fitting estimator with 19 features.\n",
      "Fitting estimator with 18 features.\n",
      "Fitting estimator with 17 features.\n",
      "Fitting estimator with 16 features.\n",
      "Fitting estimator with 15 features.\n",
      "Fitting estimator with 14 features.\n",
      "Fitting estimator with 13 features.\n",
      "Fitting estimator with 12 features.\n",
      "Fitting estimator with 11 features.\n",
      "Fitting estimator with 10 features.\n",
      "Fitting estimator with 9 features.\n",
      "Fitting estimator with 8 features.\n",
      "Fitting estimator with 7 features.\n",
      "Fitting estimator with 6 features.\n",
      "Fitting estimator with 5 features.\n",
      "Fitting estimator with 4 features.\n",
      "Fitting estimator with 3 features.\n",
      "Fitting estimator with 2 features.\n",
      "Fitting estimator with 31 features.\n",
      "Fitting estimator with 30 features.\n",
      "Fitting estimator with 29 features.\n",
      "Fitting estimator with 28 features.\n",
      "Fitting estimator with 27 features.\n",
      "Fitting estimator with 26 features.\n",
      "Fitting estimator with 25 features.\n",
      "Fitting estimator with 24 features.\n",
      "Fitting estimator with 23 features.\n",
      "Fitting estimator with 22 features.\n",
      "Fitting estimator with 21 features.\n",
      "Fitting estimator with 20 features.\n",
      "Fitting estimator with 19 features.\n",
      "Fitting estimator with 18 features.\n",
      "Fitting estimator with 17 features.\n",
      "Fitting estimator with 16 features.\n",
      "Fitting estimator with 15 features.\n",
      "Fitting estimator with 14 features.\n",
      "Fitting estimator with 13 features.\n",
      "Fitting estimator with 12 features.\n",
      "Fitting estimator with 11 features.\n",
      "Fitting estimator with 10 features.\n",
      "Fitting estimator with 9 features.\n",
      "Fitting estimator with 8 features.\n",
      "Fitting estimator with 7 features.\n",
      "Fitting estimator with 6 features.\n",
      "Fitting estimator with 5 features.\n",
      "Fitting estimator with 4 features.\n",
      "Fitting estimator with 3 features.\n",
      "Fitting estimator with 2 features.\n",
      "Fitting estimator with 31 features.\n",
      "Fitting estimator with 30 features.\n",
      "Fitting estimator with 29 features.\n",
      "Fitting estimator with 28 features.\n",
      "Fitting estimator with 27 features.\n",
      "Fitting estimator with 26 features.\n",
      "Fitting estimator with 25 features.\n",
      "Fitting estimator with 24 features.\n",
      "Fitting estimator with 23 features.\n",
      "Fitting estimator with 22 features.\n",
      "Fitting estimator with 21 features.\n",
      "Fitting estimator with 20 features.\n",
      "Fitting estimator with 19 features.\n",
      "Fitting estimator with 18 features.\n",
      "Fitting estimator with 17 features.\n",
      "Fitting estimator with 16 features.\n",
      "Fitting estimator with 15 features.\n",
      "Fitting estimator with 14 features.\n",
      "Fitting estimator with 13 features.\n",
      "Fitting estimator with 12 features.\n",
      "Fitting estimator with 11 features.\n",
      "Fitting estimator with 10 features.\n",
      "Fitting estimator with 9 features.\n",
      "Fitting estimator with 8 features.\n",
      "Fitting estimator with 7 features.\n",
      "Fitting estimator with 6 features.\n",
      "Fitting estimator with 5 features.\n",
      "Fitting estimator with 4 features.\n",
      "Fitting estimator with 3 features.\n",
      "Fitting estimator with 2 features.\n",
      "Fitting estimator with 31 features.\n",
      "Fitting estimator with 30 features.\n",
      "Fitting estimator with 29 features.\n",
      "Fitting estimator with 28 features.\n",
      "Fitting estimator with 27 features.\n",
      "Fitting estimator with 26 features.\n",
      "Fitting estimator with 25 features.\n",
      "Fitting estimator with 24 features.\n",
      "Fitting estimator with 23 features.\n",
      "Fitting estimator with 22 features.\n",
      "Fitting estimator with 21 features.\n",
      "Fitting estimator with 20 features.\n",
      "Fitting estimator with 19 features.\n",
      "Fitting estimator with 18 features.\n",
      "Fitting estimator with 17 features.\n",
      "Fitting estimator with 16 features.\n",
      "Fitting estimator with 15 features.\n",
      "Fitting estimator with 14 features.\n",
      "Fitting estimator with 13 features.\n",
      "Fitting estimator with 12 features.\n",
      "Fitting estimator with 11 features.\n",
      "Fitting estimator with 10 features.\n",
      "Fitting estimator with 9 features.\n",
      "Fitting estimator with 8 features.\n",
      "Fitting estimator with 7 features.\n",
      "Fitting estimator with 6 features.\n",
      "Fitting estimator with 5 features.\n",
      "Fitting estimator with 4 features.\n",
      "Fitting estimator with 3 features.\n",
      "Fitting estimator with 2 features.\n",
      "Fitting estimator with 31 features.\n",
      "Fitting estimator with 30 features.\n",
      "Fitting estimator with 29 features.\n",
      "Fitting estimator with 28 features.\n",
      "Fitting estimator with 27 features.\n",
      "Fitting estimator with 26 features.\n",
      "Fitting estimator with 25 features.\n",
      "Fitting estimator with 24 features.\n",
      "Fitting estimator with 23 features.\n",
      "Fitting estimator with 22 features.\n",
      "Fitting estimator with 21 features.\n",
      "Fitting estimator with 20 features.\n",
      "Fitting estimator with 19 features.\n",
      "Fitting estimator with 18 features.\n",
      "Fitting estimator with 17 features.\n",
      "Fitting estimator with 16 features.\n",
      "Fitting estimator with 15 features.\n",
      "Fitting estimator with 14 features.\n",
      "Fitting estimator with 13 features.\n",
      "Fitting estimator with 12 features.\n",
      "Fitting estimator with 11 features.\n",
      "Fitting estimator with 10 features.\n",
      "Fitting estimator with 9 features.\n",
      "Fitting estimator with 8 features.\n",
      "Fitting estimator with 7 features.\n",
      "Fitting estimator with 6 features.\n",
      "Fitting estimator with 5 features.\n",
      "Fitting estimator with 4 features.\n",
      "Fitting estimator with 3 features.\n",
      "Fitting estimator with 2 features.\n"
     ]
    },
    {
     "data": {
      "text/plain": [
       "RFECV(cv=KFold(n_splits=5, random_state=1234, shuffle=True),\n",
       "      estimator=LinearRegression(), scoring='neg_mean_squared_error',\n",
       "      verbose=3)"
      ]
     },
     "execution_count": 8,
     "metadata": {},
     "output_type": "execute_result"
    }
   ],
   "source": [
    "lr_reg = LinearRegression()\n",
    "rfecv = RFECV(lr_reg, cv=kf, scoring='neg_mean_squared_error', verbose=3)\n",
    "rfecv.fit(X_train, y_train)"
   ]
  },
  {
   "cell_type": "code",
   "execution_count": 9,
   "metadata": {},
   "outputs": [
    {
     "name": "stdout",
     "output_type": "stream",
     "text": [
      "Feature ranking: \n",
      "[1 1 1 1 1 1 1 1 1 1 1 1 1 1 1 1 1 1 1 1 1 1 1 1 1 1 1 1 1 1 1]\n"
     ]
    }
   ],
   "source": [
    "# 特徴のランキングを表示（1が最も重要な特徴）\n",
    "print('Feature ranking: \\n{}'.format(rfecv.ranking_))"
   ]
  },
  {
   "cell_type": "code",
   "execution_count": 10,
   "metadata": {},
   "outputs": [
    {
     "name": "stdout",
     "output_type": "stream",
     "text": [
      "MAE: 1.4e+04\n",
      "MSE: 4.9e+09\n",
      "RMSE: 7e+04\n"
     ]
    }
   ],
   "source": [
    "y_pred = rfecv.predict(X_test)\n",
    "\n",
    "mae = mean_absolute_error(y_test, y_pred)\n",
    "mse = mean_squared_error(y_test, y_pred)\n",
    "rmse = np.sqrt(mse)\n",
    "\n",
    "print(f'MAE: {mae:.3}')\n",
    "print(f'MSE: {mse:.3}')\n",
    "print(f'RMSE: {rmse:.3}')"
   ]
  },
  {
   "cell_type": "markdown",
   "metadata": {},
   "source": [
    "すべての変数が選ばれてしまった．\n",
    "対数領域で試してみる．"
   ]
  },
  {
   "cell_type": "code",
   "execution_count": 11,
   "metadata": {
    "scrolled": true
   },
   "outputs": [
    {
     "name": "stdout",
     "output_type": "stream",
     "text": [
      "Fitting estimator with 31 features.\n",
      "Fitting estimator with 30 features.\n",
      "Fitting estimator with 29 features.\n",
      "Fitting estimator with 28 features.\n",
      "Fitting estimator with 27 features.\n",
      "Fitting estimator with 26 features.\n",
      "Fitting estimator with 25 features.\n",
      "Fitting estimator with 24 features.\n",
      "Fitting estimator with 23 features.\n",
      "Fitting estimator with 22 features.\n",
      "Fitting estimator with 21 features.\n",
      "Fitting estimator with 20 features.\n",
      "Fitting estimator with 19 features.\n",
      "Fitting estimator with 18 features.\n",
      "Fitting estimator with 17 features.\n",
      "Fitting estimator with 16 features.\n",
      "Fitting estimator with 15 features.\n",
      "Fitting estimator with 14 features.\n",
      "Fitting estimator with 13 features.\n",
      "Fitting estimator with 12 features.\n",
      "Fitting estimator with 11 features.\n",
      "Fitting estimator with 10 features.\n",
      "Fitting estimator with 9 features.\n",
      "Fitting estimator with 8 features.\n",
      "Fitting estimator with 7 features.\n",
      "Fitting estimator with 6 features.\n",
      "Fitting estimator with 5 features.\n",
      "Fitting estimator with 4 features.\n",
      "Fitting estimator with 3 features.\n",
      "Fitting estimator with 2 features.\n",
      "Fitting estimator with 31 features.\n",
      "Fitting estimator with 30 features.\n",
      "Fitting estimator with 29 features.\n",
      "Fitting estimator with 28 features.\n",
      "Fitting estimator with 27 features.\n",
      "Fitting estimator with 26 features.\n",
      "Fitting estimator with 25 features.\n",
      "Fitting estimator with 24 features.\n",
      "Fitting estimator with 23 features.\n",
      "Fitting estimator with 22 features.\n",
      "Fitting estimator with 21 features.\n",
      "Fitting estimator with 20 features.\n",
      "Fitting estimator with 19 features.\n",
      "Fitting estimator with 18 features.\n",
      "Fitting estimator with 17 features.\n",
      "Fitting estimator with 16 features.\n",
      "Fitting estimator with 15 features.\n",
      "Fitting estimator with 14 features.\n",
      "Fitting estimator with 13 features.\n",
      "Fitting estimator with 12 features.\n",
      "Fitting estimator with 11 features.\n",
      "Fitting estimator with 10 features.\n",
      "Fitting estimator with 9 features.\n",
      "Fitting estimator with 8 features.\n",
      "Fitting estimator with 7 features.\n",
      "Fitting estimator with 6 features.\n",
      "Fitting estimator with 5 features.\n",
      "Fitting estimator with 4 features.\n",
      "Fitting estimator with 3 features.\n",
      "Fitting estimator with 2 features.\n",
      "Fitting estimator with 31 features.\n",
      "Fitting estimator with 30 features.\n",
      "Fitting estimator with 29 features.\n",
      "Fitting estimator with 28 features.\n",
      "Fitting estimator with 27 features.\n",
      "Fitting estimator with 26 features.\n",
      "Fitting estimator with 25 features.\n",
      "Fitting estimator with 24 features.\n",
      "Fitting estimator with 23 features.\n",
      "Fitting estimator with 22 features.\n",
      "Fitting estimator with 21 features.\n",
      "Fitting estimator with 20 features.\n",
      "Fitting estimator with 19 features.\n",
      "Fitting estimator with 18 features.\n",
      "Fitting estimator with 17 features.\n",
      "Fitting estimator with 16 features.\n",
      "Fitting estimator with 15 features.\n",
      "Fitting estimator with 14 features.\n",
      "Fitting estimator with 13 features.\n",
      "Fitting estimator with 12 features.\n",
      "Fitting estimator with 11 features.\n",
      "Fitting estimator with 10 features.\n",
      "Fitting estimator with 9 features.\n",
      "Fitting estimator with 8 features.\n",
      "Fitting estimator with 7 features.\n",
      "Fitting estimator with 6 features.\n",
      "Fitting estimator with 5 features.\n",
      "Fitting estimator with 4 features.\n",
      "Fitting estimator with 3 features.\n",
      "Fitting estimator with 2 features.\n",
      "Fitting estimator with 31 features.\n",
      "Fitting estimator with 30 features.\n",
      "Fitting estimator with 29 features.\n",
      "Fitting estimator with 28 features.\n",
      "Fitting estimator with 27 features.\n",
      "Fitting estimator with 26 features.\n",
      "Fitting estimator with 25 features.\n",
      "Fitting estimator with 24 features.\n",
      "Fitting estimator with 23 features.\n",
      "Fitting estimator with 22 features.\n",
      "Fitting estimator with 21 features.\n",
      "Fitting estimator with 20 features.\n",
      "Fitting estimator with 19 features.\n",
      "Fitting estimator with 18 features.\n",
      "Fitting estimator with 17 features.\n",
      "Fitting estimator with 16 features.\n",
      "Fitting estimator with 15 features.\n",
      "Fitting estimator with 14 features.\n",
      "Fitting estimator with 13 features.\n",
      "Fitting estimator with 12 features.\n",
      "Fitting estimator with 11 features.\n",
      "Fitting estimator with 10 features.\n",
      "Fitting estimator with 9 features.\n",
      "Fitting estimator with 8 features.\n",
      "Fitting estimator with 7 features.\n",
      "Fitting estimator with 6 features.\n",
      "Fitting estimator with 5 features.\n",
      "Fitting estimator with 4 features.\n",
      "Fitting estimator with 3 features.\n",
      "Fitting estimator with 2 features.\n",
      "Fitting estimator with 31 features.\n",
      "Fitting estimator with 30 features.\n",
      "Fitting estimator with 29 features.\n",
      "Fitting estimator with 28 features.\n",
      "Fitting estimator with 27 features.\n",
      "Fitting estimator with 26 features.\n",
      "Fitting estimator with 25 features.\n",
      "Fitting estimator with 24 features.\n",
      "Fitting estimator with 23 features.\n",
      "Fitting estimator with 22 features.\n",
      "Fitting estimator with 21 features.\n",
      "Fitting estimator with 20 features.\n",
      "Fitting estimator with 19 features.\n",
      "Fitting estimator with 18 features.\n",
      "Fitting estimator with 17 features.\n",
      "Fitting estimator with 16 features.\n",
      "Fitting estimator with 15 features.\n",
      "Fitting estimator with 14 features.\n",
      "Fitting estimator with 13 features.\n",
      "Fitting estimator with 12 features.\n",
      "Fitting estimator with 11 features.\n",
      "Fitting estimator with 10 features.\n",
      "Fitting estimator with 9 features.\n",
      "Fitting estimator with 8 features.\n",
      "Fitting estimator with 7 features.\n",
      "Fitting estimator with 6 features.\n",
      "Fitting estimator with 5 features.\n",
      "Fitting estimator with 4 features.\n",
      "Fitting estimator with 3 features.\n",
      "Fitting estimator with 2 features.\n"
     ]
    },
    {
     "data": {
      "text/plain": [
       "RFECV(cv=KFold(n_splits=5, random_state=1234, shuffle=True),\n",
       "      estimator=LinearRegression(), scoring='neg_mean_squared_error',\n",
       "      verbose=3)"
      ]
     },
     "execution_count": 11,
     "metadata": {},
     "output_type": "execute_result"
    }
   ],
   "source": [
    "lr_reg = LinearRegression()\n",
    "rfecv = RFECV(lr_reg, cv=kf, scoring='neg_mean_squared_error', verbose=3)\n",
    "rfecv.fit(X_train, log_y_train)"
   ]
  },
  {
   "cell_type": "code",
   "execution_count": 12,
   "metadata": {},
   "outputs": [
    {
     "name": "stdout",
     "output_type": "stream",
     "text": [
      "Feature ranking: \n",
      "[1 1 1 1 1 1 1 1 1 1 1 1 1 1 1 1 1 1 1 1 1 1 1 1 1 1 1 1 1 1 1]\n"
     ]
    }
   ],
   "source": [
    "# 特徴のランキングを表示（1が最も重要な特徴）\n",
    "print('Feature ranking: \\n{}'.format(rfecv.ranking_))"
   ]
  },
  {
   "cell_type": "code",
   "execution_count": 13,
   "metadata": {},
   "outputs": [
    {
     "name": "stdout",
     "output_type": "stream",
     "text": [
      "対数領域 MAE: 2.04\n",
      "対数領域 MSE: 8.01\n",
      "対数領域 RMSE: 2.83\n",
      "MAE: 8.71e+03\n",
      "MSE: 5.14e+09\n",
      "RMSE: 7.17e+04\n"
     ]
    }
   ],
   "source": [
    "log_y_pred = rfecv.predict(X_test)\n",
    "\n",
    "mae_log = mean_absolute_error(log_y_test, log_y_pred)\n",
    "mse_log = mean_squared_error(log_y_test, log_y_pred)\n",
    "rmse_log = np.sqrt(mse_log)\n",
    "\n",
    "mae = mean_absolute_error(10**log_y_test, 10**log_y_pred)\n",
    "mse = mean_squared_error(10**log_y_test, 10**log_y_pred)\n",
    "rmse = np.sqrt(mse)\n",
    "\n",
    "print(f'対数領域 MAE: {mae_log:.3}')\n",
    "print(f'対数領域 MSE: {mse_log:.3}')\n",
    "print(f'対数領域 RMSE: {rmse_log:.3}')\n",
    "\n",
    "print(f'MAE: {mae:.3}')\n",
    "print(f'MSE: {mse:.3}')\n",
    "print(f'RMSE: {rmse:.3}')"
   ]
  },
  {
   "cell_type": "markdown",
   "metadata": {},
   "source": [
    "すべての変数が選ばれてしまった．"
   ]
  },
  {
   "cell_type": "markdown",
   "metadata": {},
   "source": [
    "### 埋め込み法\n",
    "- L_1 正則化によって特徴選択を行う"
   ]
  },
  {
   "cell_type": "code",
   "execution_count": 14,
   "metadata": {},
   "outputs": [
    {
     "name": "stderr",
     "output_type": "stream",
     "text": [
      "[Parallel(n_jobs=1)]: Using backend SequentialBackend with 1 concurrent workers.\n",
      "....................................................................................................................................................................................................................................................................................................................................................................................................................................................................................................................[Parallel(n_jobs=1)]: Done   5 out of   5 | elapsed:    2.0s finished\n"
     ]
    },
    {
     "data": {
      "text/plain": [
       "SelectFromModel(estimator=LassoCV(cv=KFold(n_splits=5, random_state=1234, shuffle=True),\n",
       "                                  max_iter=10000, normalize=True,\n",
       "                                  random_state=1234, tol=0.001, verbose=1),\n",
       "                threshold=1e-05)"
      ]
     },
     "execution_count": 14,
     "metadata": {},
     "output_type": "execute_result"
    }
   ],
   "source": [
    "lr_cv = LassoCV(normalize=True, cv=kf, max_iter=10000, random_state=1234, tol=1e-3, verbose=1)\n",
    "sfm = SelectFromModel(lr_cv, threshold=1e-5)\n",
    "sfm.fit(X_train, y_train)"
   ]
  },
  {
   "cell_type": "code",
   "execution_count": 15,
   "metadata": {},
   "outputs": [
    {
     "data": {
      "text/plain": [
       "array([ True,  True,  True,  True,  True, False,  True,  True,  True,\n",
       "        True,  True,  True,  True,  True,  True,  True,  True,  True,\n",
       "        True,  True,  True,  True,  True,  True,  True,  True,  True,\n",
       "        True,  True,  True,  True])"
      ]
     },
     "execution_count": 15,
     "metadata": {},
     "output_type": "execute_result"
    }
   ],
   "source": [
    "sfm.get_support()"
   ]
  },
  {
   "cell_type": "code",
   "execution_count": 16,
   "metadata": {},
   "outputs": [],
   "source": [
    "X_train_l1 = X_train.loc[:, sfm.get_support()]\n",
    "X_test_l1 = X_test.loc[:, sfm.get_support()]"
   ]
  },
  {
   "cell_type": "code",
   "execution_count": 17,
   "metadata": {},
   "outputs": [
    {
     "name": "stdout",
     "output_type": "stream",
     "text": [
      "MAE: 1.4e+04\n",
      "MSE: 4.9e+09\n",
      "RMSE: 7e+04\n"
     ]
    }
   ],
   "source": [
    "lr_reg = LinearRegression()\n",
    "lr_reg.fit(X_train_l1, y_train)\n",
    "y_pred = lr_reg.predict(X_test_l1)\n",
    "\n",
    "mae = mean_absolute_error(y_test, y_pred)\n",
    "mse = mean_squared_error(y_test, y_pred)\n",
    "rmse = np.sqrt(mse)\n",
    "\n",
    "print(f'MAE: {mae:.3}')\n",
    "print(f'MSE: {mse:.3}')\n",
    "print(f'RMSE: {rmse:.3}')"
   ]
  },
  {
   "cell_type": "markdown",
   "metadata": {},
   "source": [
    "変数選択前と性能に変化なし．対数領域で試してみる．"
   ]
  },
  {
   "cell_type": "code",
   "execution_count": 18,
   "metadata": {},
   "outputs": [
    {
     "name": "stderr",
     "output_type": "stream",
     "text": [
      "[Parallel(n_jobs=1)]: Using backend SequentialBackend with 1 concurrent workers.\n",
      "....................................................................................................................................................................................................................................................................................................................................................................................................................................................................................................................[Parallel(n_jobs=1)]: Done   5 out of   5 | elapsed:    2.0s finished\n"
     ]
    },
    {
     "data": {
      "text/plain": [
       "SelectFromModel(estimator=LassoCV(cv=KFold(n_splits=5, random_state=1234, shuffle=True),\n",
       "                                  max_iter=10000, normalize=True,\n",
       "                                  random_state=1234, tol=0.001, verbose=1),\n",
       "                threshold=1e-05)"
      ]
     },
     "execution_count": 18,
     "metadata": {},
     "output_type": "execute_result"
    }
   ],
   "source": [
    "lr_cv = LassoCV(normalize=True, cv=kf, max_iter=10000, random_state=1234, tol=1e-3, verbose=1)\n",
    "sfm = SelectFromModel(lr_cv, threshold=1e-5)\n",
    "sfm.fit(X_train, log_y_train)"
   ]
  },
  {
   "cell_type": "code",
   "execution_count": 19,
   "metadata": {},
   "outputs": [
    {
     "data": {
      "text/plain": [
       "array([False,  True,  True,  True,  True,  True,  True,  True,  True,\n",
       "        True,  True,  True,  True,  True,  True,  True,  True,  True,\n",
       "        True,  True,  True,  True,  True,  True,  True,  True,  True,\n",
       "        True,  True,  True,  True])"
      ]
     },
     "execution_count": 19,
     "metadata": {},
     "output_type": "execute_result"
    }
   ],
   "source": [
    "sfm.get_support()"
   ]
  },
  {
   "cell_type": "code",
   "execution_count": 20,
   "metadata": {},
   "outputs": [],
   "source": [
    "X_train_l1 = X_train.loc[:, sfm.get_support()]\n",
    "X_test_l1 = X_test.loc[:, sfm.get_support()]"
   ]
  },
  {
   "cell_type": "code",
   "execution_count": 21,
   "metadata": {},
   "outputs": [
    {
     "name": "stdout",
     "output_type": "stream",
     "text": [
      "対数領域 MAE: 2.04\n",
      "対数領域 MSE: 8.02\n",
      "対数領域 RMSE: 2.83\n",
      "MAE: 8.71e+03\n",
      "MSE: 5.14e+09\n",
      "RMSE: 7.17e+04\n"
     ]
    }
   ],
   "source": [
    "lr_reg = LinearRegression()\n",
    "lr_reg.fit(X_train_l1, log_y_train)\n",
    "log_y_pred = lr_reg.predict(X_test_l1)\n",
    "\n",
    "mae_log = mean_absolute_error(log_y_test, log_y_pred)\n",
    "mse_log = mean_squared_error(log_y_test, log_y_pred)\n",
    "rmse_log = np.sqrt(mse_log)\n",
    "\n",
    "mae = mean_absolute_error(10**log_y_test, 10**log_y_pred)\n",
    "mse = mean_squared_error(10**log_y_test, 10**log_y_pred)\n",
    "rmse = np.sqrt(mse)\n",
    "\n",
    "print(f'対数領域 MAE: {mae_log:.3}')\n",
    "print(f'対数領域 MSE: {mse_log:.3}')\n",
    "print(f'対数領域 RMSE: {rmse_log:.3}')\n",
    "\n",
    "print(f'MAE: {mae:.3}')\n",
    "print(f'MSE: {mse:.3}')\n",
    "print(f'RMSE: {rmse:.3}')"
   ]
  },
  {
   "cell_type": "markdown",
   "metadata": {},
   "source": [
    "精度に変化なし．"
   ]
  },
  {
   "cell_type": "markdown",
   "metadata": {},
   "source": [
    "##  木モデルの利用\n",
    "### 決定木\n",
    "以下をチューニングしつつ学習\n",
    "- max_depth: 木の深さの最大値\n",
    "- min_samples_leaf: 1つのノードに許される最小サンプルサイズ"
   ]
  },
  {
   "cell_type": "code",
   "execution_count": 22,
   "metadata": {
    "scrolled": true
   },
   "outputs": [
    {
     "name": "stdout",
     "output_type": "stream",
     "text": [
      "Fitting 5 folds for each of 20 candidates, totalling 100 fits\n",
      "[CV] max_depth=10, min_samples_leaf=1 ................................\n"
     ]
    },
    {
     "name": "stderr",
     "output_type": "stream",
     "text": [
      "[Parallel(n_jobs=1)]: Using backend SequentialBackend with 1 concurrent workers.\n"
     ]
    },
    {
     "name": "stdout",
     "output_type": "stream",
     "text": [
      "[CV]  max_depth=10, min_samples_leaf=1, score=-6340889979.629, total=   0.8s\n",
      "[CV] max_depth=10, min_samples_leaf=1 ................................\n"
     ]
    },
    {
     "name": "stderr",
     "output_type": "stream",
     "text": [
      "[Parallel(n_jobs=1)]: Done   1 out of   1 | elapsed:    0.8s remaining:    0.0s\n"
     ]
    },
    {
     "name": "stdout",
     "output_type": "stream",
     "text": [
      "[CV]  max_depth=10, min_samples_leaf=1, score=-16537565987.812, total=   0.9s\n",
      "[CV] max_depth=10, min_samples_leaf=1 ................................\n"
     ]
    },
    {
     "name": "stderr",
     "output_type": "stream",
     "text": [
      "[Parallel(n_jobs=1)]: Done   2 out of   2 | elapsed:    1.7s remaining:    0.0s\n"
     ]
    },
    {
     "name": "stdout",
     "output_type": "stream",
     "text": [
      "[CV]  max_depth=10, min_samples_leaf=1, score=-14982835243.122, total=   0.8s\n",
      "[CV] max_depth=10, min_samples_leaf=1 ................................\n",
      "[CV]  max_depth=10, min_samples_leaf=1, score=-17787836076.654, total=   0.8s\n",
      "[CV] max_depth=10, min_samples_leaf=1 ................................\n",
      "[CV]  max_depth=10, min_samples_leaf=1, score=-17435899694.974, total=   0.8s\n",
      "[CV] max_depth=10, min_samples_leaf=2 ................................\n",
      "[CV]  max_depth=10, min_samples_leaf=2, score=-8957056024.900, total=   0.8s\n",
      "[CV] max_depth=10, min_samples_leaf=2 ................................\n",
      "[CV]  max_depth=10, min_samples_leaf=2, score=-16124993874.239, total=   0.8s\n",
      "[CV] max_depth=10, min_samples_leaf=2 ................................\n",
      "[CV]  max_depth=10, min_samples_leaf=2, score=-12706370778.319, total=   0.9s\n",
      "[CV] max_depth=10, min_samples_leaf=2 ................................\n",
      "[CV]  max_depth=10, min_samples_leaf=2, score=-14127739349.339, total=   0.8s\n",
      "[CV] max_depth=10, min_samples_leaf=2 ................................\n",
      "[CV]  max_depth=10, min_samples_leaf=2, score=-12323826815.068, total=   0.8s\n",
      "[CV] max_depth=10, min_samples_leaf=3 ................................\n",
      "[CV]  max_depth=10, min_samples_leaf=3, score=-7239292272.697, total=   0.8s\n",
      "[CV] max_depth=10, min_samples_leaf=3 ................................\n",
      "[CV]  max_depth=10, min_samples_leaf=3, score=-15994546197.175, total=   0.8s\n",
      "[CV] max_depth=10, min_samples_leaf=3 ................................\n",
      "[CV]  max_depth=10, min_samples_leaf=3, score=-13531018578.456, total=   0.8s\n",
      "[CV] max_depth=10, min_samples_leaf=3 ................................\n",
      "[CV]  max_depth=10, min_samples_leaf=3, score=-13782593591.667, total=   0.8s\n",
      "[CV] max_depth=10, min_samples_leaf=3 ................................\n",
      "[CV]  max_depth=10, min_samples_leaf=3, score=-9910303215.931, total=   0.8s\n",
      "[CV] max_depth=10, min_samples_leaf=4 ................................\n",
      "[CV]  max_depth=10, min_samples_leaf=4, score=-6895975747.084, total=   0.8s\n",
      "[CV] max_depth=10, min_samples_leaf=4 ................................\n",
      "[CV]  max_depth=10, min_samples_leaf=4, score=-16308315764.887, total=   0.8s\n",
      "[CV] max_depth=10, min_samples_leaf=4 ................................\n",
      "[CV]  max_depth=10, min_samples_leaf=4, score=-11958198470.537, total=   0.8s\n",
      "[CV] max_depth=10, min_samples_leaf=4 ................................\n",
      "[CV]  max_depth=10, min_samples_leaf=4, score=-13000625507.009, total=   0.8s\n",
      "[CV] max_depth=10, min_samples_leaf=4 ................................\n",
      "[CV]  max_depth=10, min_samples_leaf=4, score=-7831377374.564, total=   0.8s\n",
      "[CV] max_depth=11, min_samples_leaf=1 ................................\n",
      "[CV]  max_depth=11, min_samples_leaf=1, score=-7750754447.851, total=   0.9s\n",
      "[CV] max_depth=11, min_samples_leaf=1 ................................\n",
      "[CV]  max_depth=11, min_samples_leaf=1, score=-17432075323.164, total=   0.9s\n",
      "[CV] max_depth=11, min_samples_leaf=1 ................................\n",
      "[CV]  max_depth=11, min_samples_leaf=1, score=-30889188762.889, total=   0.9s\n",
      "[CV] max_depth=11, min_samples_leaf=1 ................................\n",
      "[CV]  max_depth=11, min_samples_leaf=1, score=-18014522497.150, total=   0.8s\n",
      "[CV] max_depth=11, min_samples_leaf=1 ................................\n",
      "[CV]  max_depth=11, min_samples_leaf=1, score=-18429179684.280, total=   0.9s\n",
      "[CV] max_depth=11, min_samples_leaf=2 ................................\n",
      "[CV]  max_depth=11, min_samples_leaf=2, score=-9430370143.869, total=   0.9s\n",
      "[CV] max_depth=11, min_samples_leaf=2 ................................\n",
      "[CV]  max_depth=11, min_samples_leaf=2, score=-16087744885.983, total=   0.9s\n",
      "[CV] max_depth=11, min_samples_leaf=2 ................................\n",
      "[CV]  max_depth=11, min_samples_leaf=2, score=-13043023098.663, total=   0.9s\n",
      "[CV] max_depth=11, min_samples_leaf=2 ................................\n",
      "[CV]  max_depth=11, min_samples_leaf=2, score=-14540245515.334, total=   0.9s\n",
      "[CV] max_depth=11, min_samples_leaf=2 ................................\n",
      "[CV]  max_depth=11, min_samples_leaf=2, score=-13763840671.248, total=   0.9s\n",
      "[CV] max_depth=11, min_samples_leaf=3 ................................\n",
      "[CV]  max_depth=11, min_samples_leaf=3, score=-7399786678.376, total=   0.9s\n",
      "[CV] max_depth=11, min_samples_leaf=3 ................................\n",
      "[CV]  max_depth=11, min_samples_leaf=3, score=-16055058287.697, total=   0.9s\n",
      "[CV] max_depth=11, min_samples_leaf=3 ................................\n",
      "[CV]  max_depth=11, min_samples_leaf=3, score=-13711331538.819, total=   0.9s\n",
      "[CV] max_depth=11, min_samples_leaf=3 ................................\n",
      "[CV]  max_depth=11, min_samples_leaf=3, score=-13866889774.657, total=   0.9s\n",
      "[CV] max_depth=11, min_samples_leaf=3 ................................\n",
      "[CV]  max_depth=11, min_samples_leaf=3, score=-10103270462.746, total=   0.9s\n",
      "[CV] max_depth=11, min_samples_leaf=4 ................................\n",
      "[CV]  max_depth=11, min_samples_leaf=4, score=-7039177875.554, total=   0.9s\n",
      "[CV] max_depth=11, min_samples_leaf=4 ................................\n",
      "[CV]  max_depth=11, min_samples_leaf=4, score=-16361412122.557, total=   0.9s\n",
      "[CV] max_depth=11, min_samples_leaf=4 ................................\n",
      "[CV]  max_depth=11, min_samples_leaf=4, score=-12037891926.323, total=   0.7s\n",
      "[CV] max_depth=11, min_samples_leaf=4 ................................\n",
      "[CV]  max_depth=11, min_samples_leaf=4, score=-13076390739.612, total=   0.9s\n",
      "[CV] max_depth=11, min_samples_leaf=4 ................................\n",
      "[CV]  max_depth=11, min_samples_leaf=4, score=-8146804929.009, total=   0.9s\n",
      "[CV] max_depth=12, min_samples_leaf=1 ................................\n",
      "[CV]  max_depth=12, min_samples_leaf=1, score=-7603163403.120, total=   0.9s\n",
      "[CV] max_depth=12, min_samples_leaf=1 ................................\n",
      "[CV]  max_depth=12, min_samples_leaf=1, score=-16687380071.786, total=   0.9s\n",
      "[CV] max_depth=12, min_samples_leaf=1 ................................\n",
      "[CV]  max_depth=12, min_samples_leaf=1, score=-16591217337.864, total=   1.0s\n",
      "[CV] max_depth=12, min_samples_leaf=1 ................................\n",
      "[CV]  max_depth=12, min_samples_leaf=1, score=-18335672922.862, total=   1.0s\n",
      "[CV] max_depth=12, min_samples_leaf=1 ................................\n",
      "[CV]  max_depth=12, min_samples_leaf=1, score=-20324762703.492, total=   1.0s\n",
      "[CV] max_depth=12, min_samples_leaf=2 ................................\n",
      "[CV]  max_depth=12, min_samples_leaf=2, score=-9537686394.528, total=   0.9s\n",
      "[CV] max_depth=12, min_samples_leaf=2 ................................\n",
      "[CV]  max_depth=12, min_samples_leaf=2, score=-16916556668.356, total=   0.9s\n",
      "[CV] max_depth=12, min_samples_leaf=2 ................................\n",
      "[CV]  max_depth=12, min_samples_leaf=2, score=-13149832139.135, total=   0.9s\n",
      "[CV] max_depth=12, min_samples_leaf=2 ................................\n",
      "[CV]  max_depth=12, min_samples_leaf=2, score=-14641126092.141, total=   0.9s\n",
      "[CV] max_depth=12, min_samples_leaf=2 ................................\n",
      "[CV]  max_depth=12, min_samples_leaf=2, score=-14175792066.478, total=   1.0s\n",
      "[CV] max_depth=12, min_samples_leaf=3 ................................\n",
      "[CV]  max_depth=12, min_samples_leaf=3, score=-7508783310.658, total=   0.9s\n",
      "[CV] max_depth=12, min_samples_leaf=3 ................................\n",
      "[CV]  max_depth=12, min_samples_leaf=3, score=-16132291189.732, total=   0.9s\n",
      "[CV] max_depth=12, min_samples_leaf=3 ................................\n",
      "[CV]  max_depth=12, min_samples_leaf=3, score=-13844815533.915, total=   0.9s\n",
      "[CV] max_depth=12, min_samples_leaf=3 ................................\n",
      "[CV]  max_depth=12, min_samples_leaf=3, score=-13932239242.920, total=   1.0s\n",
      "[CV] max_depth=12, min_samples_leaf=3 ................................\n",
      "[CV]  max_depth=12, min_samples_leaf=3, score=-10228946474.528, total=   0.9s\n",
      "[CV] max_depth=12, min_samples_leaf=4 ................................\n",
      "[CV]  max_depth=12, min_samples_leaf=4, score=-7101897142.699, total=   0.9s\n",
      "[CV] max_depth=12, min_samples_leaf=4 ................................\n",
      "[CV]  max_depth=12, min_samples_leaf=4, score=-16396910513.004, total=   1.0s\n",
      "[CV] max_depth=12, min_samples_leaf=4 ................................\n",
      "[CV]  max_depth=12, min_samples_leaf=4, score=-12130617546.360, total=   0.9s\n",
      "[CV] max_depth=12, min_samples_leaf=4 ................................\n"
     ]
    },
    {
     "name": "stdout",
     "output_type": "stream",
     "text": [
      "[CV]  max_depth=12, min_samples_leaf=4, score=-13137200088.825, total=   1.0s\n",
      "[CV] max_depth=12, min_samples_leaf=4 ................................\n",
      "[CV]  max_depth=12, min_samples_leaf=4, score=-8357323523.064, total=   1.0s\n",
      "[CV] max_depth=13, min_samples_leaf=1 ................................\n",
      "[CV]  max_depth=13, min_samples_leaf=1, score=-8056623806.328, total=   1.0s\n",
      "[CV] max_depth=13, min_samples_leaf=1 ................................\n",
      "[CV]  max_depth=13, min_samples_leaf=1, score=-17349506072.898, total=   1.1s\n",
      "[CV] max_depth=13, min_samples_leaf=1 ................................\n",
      "[CV]  max_depth=13, min_samples_leaf=1, score=-32929595494.927, total=   1.0s\n",
      "[CV] max_depth=13, min_samples_leaf=1 ................................\n",
      "[CV]  max_depth=13, min_samples_leaf=1, score=-18552421372.047, total=   1.0s\n",
      "[CV] max_depth=13, min_samples_leaf=1 ................................\n",
      "[CV]  max_depth=13, min_samples_leaf=1, score=-18370445678.369, total=   1.0s\n",
      "[CV] max_depth=13, min_samples_leaf=2 ................................\n",
      "[CV]  max_depth=13, min_samples_leaf=2, score=-9698320061.427, total=   1.0s\n",
      "[CV] max_depth=13, min_samples_leaf=2 ................................\n",
      "[CV]  max_depth=13, min_samples_leaf=2, score=-17134759810.241, total=   1.0s\n",
      "[CV] max_depth=13, min_samples_leaf=2 ................................\n",
      "[CV]  max_depth=13, min_samples_leaf=2, score=-13362395741.229, total=   1.0s\n",
      "[CV] max_depth=13, min_samples_leaf=2 ................................\n",
      "[CV]  max_depth=13, min_samples_leaf=2, score=-14731252082.061, total=   1.0s\n",
      "[CV] max_depth=13, min_samples_leaf=2 ................................\n",
      "[CV]  max_depth=13, min_samples_leaf=2, score=-14097961852.272, total=   1.0s\n",
      "[CV] max_depth=13, min_samples_leaf=3 ................................\n",
      "[CV]  max_depth=13, min_samples_leaf=3, score=-7562545152.096, total=   1.0s\n",
      "[CV] max_depth=13, min_samples_leaf=3 ................................\n",
      "[CV]  max_depth=13, min_samples_leaf=3, score=-16235776513.793, total=   1.0s\n",
      "[CV] max_depth=13, min_samples_leaf=3 ................................\n",
      "[CV]  max_depth=13, min_samples_leaf=3, score=-13942256424.589, total=   0.9s\n",
      "[CV] max_depth=13, min_samples_leaf=3 ................................\n",
      "[CV]  max_depth=13, min_samples_leaf=3, score=-14019371167.063, total=   1.0s\n",
      "[CV] max_depth=13, min_samples_leaf=3 ................................\n",
      "[CV]  max_depth=13, min_samples_leaf=3, score=-10318581555.646, total=   1.2s\n",
      "[CV] max_depth=13, min_samples_leaf=4 ................................\n",
      "[CV]  max_depth=13, min_samples_leaf=4, score=-7163579018.432, total=   1.1s\n",
      "[CV] max_depth=13, min_samples_leaf=4 ................................\n",
      "[CV]  max_depth=13, min_samples_leaf=4, score=-16505568081.034, total=   1.4s\n",
      "[CV] max_depth=13, min_samples_leaf=4 ................................\n",
      "[CV]  max_depth=13, min_samples_leaf=4, score=-12194674545.198, total=   1.3s\n",
      "[CV] max_depth=13, min_samples_leaf=4 ................................\n",
      "[CV]  max_depth=13, min_samples_leaf=4, score=-13203070612.827, total=   1.2s\n",
      "[CV] max_depth=13, min_samples_leaf=4 ................................\n",
      "[CV]  max_depth=13, min_samples_leaf=4, score=-8405846854.640, total=   1.1s\n",
      "[CV] max_depth=14, min_samples_leaf=1 ................................\n",
      "[CV]  max_depth=14, min_samples_leaf=1, score=-8106290424.489, total=   1.2s\n",
      "[CV] max_depth=14, min_samples_leaf=1 ................................\n",
      "[CV]  max_depth=14, min_samples_leaf=1, score=-17705483623.959, total=   1.2s\n",
      "[CV] max_depth=14, min_samples_leaf=1 ................................\n",
      "[CV]  max_depth=14, min_samples_leaf=1, score=-33206164089.886, total=   1.3s\n",
      "[CV] max_depth=14, min_samples_leaf=1 ................................\n",
      "[CV]  max_depth=14, min_samples_leaf=1, score=-17981357537.611, total=   1.2s\n",
      "[CV] max_depth=14, min_samples_leaf=1 ................................\n",
      "[CV]  max_depth=14, min_samples_leaf=1, score=-19282425995.220, total=   1.1s\n",
      "[CV] max_depth=14, min_samples_leaf=2 ................................\n",
      "[CV]  max_depth=14, min_samples_leaf=2, score=-9784068237.474, total=   1.1s\n",
      "[CV] max_depth=14, min_samples_leaf=2 ................................\n",
      "[CV]  max_depth=14, min_samples_leaf=2, score=-16527334705.621, total=   1.1s\n",
      "[CV] max_depth=14, min_samples_leaf=2 ................................\n",
      "[CV]  max_depth=14, min_samples_leaf=2, score=-13517920614.351, total=   1.2s\n",
      "[CV] max_depth=14, min_samples_leaf=2 ................................\n",
      "[CV]  max_depth=14, min_samples_leaf=2, score=-14830522027.350, total=   1.1s\n",
      "[CV] max_depth=14, min_samples_leaf=2 ................................\n",
      "[CV]  max_depth=14, min_samples_leaf=2, score=-14324572786.103, total=   1.1s\n",
      "[CV] max_depth=14, min_samples_leaf=3 ................................\n",
      "[CV]  max_depth=14, min_samples_leaf=3, score=-7670704675.902, total=   1.1s\n",
      "[CV] max_depth=14, min_samples_leaf=3 ................................\n",
      "[CV]  max_depth=14, min_samples_leaf=3, score=-16323672896.273, total=   1.1s\n",
      "[CV] max_depth=14, min_samples_leaf=3 ................................\n",
      "[CV]  max_depth=14, min_samples_leaf=3, score=-13998566863.348, total=   1.1s\n",
      "[CV] max_depth=14, min_samples_leaf=3 ................................\n",
      "[CV]  max_depth=14, min_samples_leaf=3, score=-14076984746.442, total=   1.1s\n",
      "[CV] max_depth=14, min_samples_leaf=3 ................................\n",
      "[CV]  max_depth=14, min_samples_leaf=3, score=-10369511050.470, total=   1.4s\n",
      "[CV] max_depth=14, min_samples_leaf=4 ................................\n",
      "[CV]  max_depth=14, min_samples_leaf=4, score=-7230776306.281, total=   1.4s\n",
      "[CV] max_depth=14, min_samples_leaf=4 ................................\n",
      "[CV]  max_depth=14, min_samples_leaf=4, score=-16553580708.943, total=   1.3s\n",
      "[CV] max_depth=14, min_samples_leaf=4 ................................\n",
      "[CV]  max_depth=14, min_samples_leaf=4, score=-12261511027.011, total=   1.3s\n",
      "[CV] max_depth=14, min_samples_leaf=4 ................................\n",
      "[CV]  max_depth=14, min_samples_leaf=4, score=-13266323877.653, total=   1.1s\n",
      "[CV] max_depth=14, min_samples_leaf=4 ................................\n",
      "[CV]  max_depth=14, min_samples_leaf=4, score=-8378018689.587, total=   1.1s\n"
     ]
    },
    {
     "name": "stderr",
     "output_type": "stream",
     "text": [
      "[Parallel(n_jobs=1)]: Done 100 out of 100 | elapsed:  1.6min finished\n"
     ]
    },
    {
     "data": {
      "text/plain": [
       "GridSearchCV(cv=KFold(n_splits=5, random_state=1234, shuffle=True),\n",
       "             estimator=DecisionTreeRegressor(random_state=1234),\n",
       "             param_grid={'max_depth': range(10, 15),\n",
       "                         'min_samples_leaf': range(1, 5)},\n",
       "             scoring='neg_mean_squared_error', verbose=3)"
      ]
     },
     "execution_count": 22,
     "metadata": {},
     "output_type": "execute_result"
    }
   ],
   "source": [
    "parameters = {'max_depth': range(10, 15), 'min_samples_leaf': range(1, 5)}\n",
    "\n",
    "dtr = DecisionTreeRegressor(criterion='mse', random_state=1234)\n",
    "grid = GridSearchCV(dtr, param_grid=parameters, \n",
    "                         cv=kf, \n",
    "                         scoring='neg_mean_squared_error', \n",
    "                         verbose=3) \n",
    "\n",
    "grid.fit(X_train, y_train)"
   ]
  },
  {
   "cell_type": "code",
   "execution_count": 23,
   "metadata": {},
   "outputs": [
    {
     "name": "stdout",
     "output_type": "stream",
     "text": [
      "MAE: 1.18e+04\n",
      "MSE: 5.6e+09\n",
      "RMSE: 7.48e+04\n"
     ]
    }
   ],
   "source": [
    "y_pred = grid.predict(X_test)\n",
    "\n",
    "mae = mean_absolute_error(y_test, y_pred)\n",
    "mse = mean_squared_error(y_test, y_pred)\n",
    "rmse = np.sqrt(mse)\n",
    "\n",
    "print(f'MAE: {mae:.3}')\n",
    "print(f'MSE: {mse:.3}')\n",
    "print(f'RMSE: {rmse:.3}')"
   ]
  },
  {
   "cell_type": "code",
   "execution_count": 24,
   "metadata": {},
   "outputs": [
    {
     "data": {
      "text/plain": [
       "DecisionTreeRegressor(max_depth=10, min_samples_leaf=4, random_state=1234)"
      ]
     },
     "execution_count": 24,
     "metadata": {},
     "output_type": "execute_result"
    }
   ],
   "source": [
    "grid.best_estimator_"
   ]
  },
  {
   "cell_type": "markdown",
   "metadata": {},
   "source": [
    "線形モデルより性能は良くなった．対数領域で試してみる"
   ]
  },
  {
   "cell_type": "code",
   "execution_count": 25,
   "metadata": {
    "scrolled": true
   },
   "outputs": [
    {
     "name": "stdout",
     "output_type": "stream",
     "text": [
      "Fitting 5 folds for each of 20 candidates, totalling 100 fits\n",
      "[CV] max_depth=10, min_samples_leaf=1 ................................\n"
     ]
    },
    {
     "name": "stderr",
     "output_type": "stream",
     "text": [
      "[Parallel(n_jobs=1)]: Using backend SequentialBackend with 1 concurrent workers.\n"
     ]
    },
    {
     "name": "stdout",
     "output_type": "stream",
     "text": [
      "[CV] ... max_depth=10, min_samples_leaf=1, score=-7.929, total=   0.7s\n",
      "[CV] max_depth=10, min_samples_leaf=1 ................................\n"
     ]
    },
    {
     "name": "stderr",
     "output_type": "stream",
     "text": [
      "[Parallel(n_jobs=1)]: Done   1 out of   1 | elapsed:    0.7s remaining:    0.0s\n"
     ]
    },
    {
     "name": "stdout",
     "output_type": "stream",
     "text": [
      "[CV] ... max_depth=10, min_samples_leaf=1, score=-7.921, total=   0.8s\n",
      "[CV] max_depth=10, min_samples_leaf=1 ................................\n"
     ]
    },
    {
     "name": "stderr",
     "output_type": "stream",
     "text": [
      "[Parallel(n_jobs=1)]: Done   2 out of   2 | elapsed:    1.6s remaining:    0.0s\n"
     ]
    },
    {
     "name": "stdout",
     "output_type": "stream",
     "text": [
      "[CV] ... max_depth=10, min_samples_leaf=1, score=-7.919, total=   0.8s\n",
      "[CV] max_depth=10, min_samples_leaf=1 ................................\n",
      "[CV] ... max_depth=10, min_samples_leaf=1, score=-7.975, total=   0.8s\n",
      "[CV] max_depth=10, min_samples_leaf=1 ................................\n",
      "[CV] ... max_depth=10, min_samples_leaf=1, score=-7.930, total=   0.8s\n",
      "[CV] max_depth=10, min_samples_leaf=2 ................................\n",
      "[CV] ... max_depth=10, min_samples_leaf=2, score=-7.913, total=   0.8s\n",
      "[CV] max_depth=10, min_samples_leaf=2 ................................\n",
      "[CV] ... max_depth=10, min_samples_leaf=2, score=-7.915, total=   0.8s\n",
      "[CV] max_depth=10, min_samples_leaf=2 ................................\n",
      "[CV] ... max_depth=10, min_samples_leaf=2, score=-7.905, total=   0.8s\n",
      "[CV] max_depth=10, min_samples_leaf=2 ................................\n",
      "[CV] ... max_depth=10, min_samples_leaf=2, score=-7.969, total=   0.8s\n",
      "[CV] max_depth=10, min_samples_leaf=2 ................................\n",
      "[CV] ... max_depth=10, min_samples_leaf=2, score=-7.917, total=   0.8s\n",
      "[CV] max_depth=10, min_samples_leaf=3 ................................\n",
      "[CV] ... max_depth=10, min_samples_leaf=3, score=-7.916, total=   0.8s\n",
      "[CV] max_depth=10, min_samples_leaf=3 ................................\n",
      "[CV] ... max_depth=10, min_samples_leaf=3, score=-7.905, total=   0.8s\n",
      "[CV] max_depth=10, min_samples_leaf=3 ................................\n",
      "[CV] ... max_depth=10, min_samples_leaf=3, score=-7.891, total=   0.8s\n",
      "[CV] max_depth=10, min_samples_leaf=3 ................................\n",
      "[CV] ... max_depth=10, min_samples_leaf=3, score=-7.966, total=   0.8s\n",
      "[CV] max_depth=10, min_samples_leaf=3 ................................\n",
      "[CV] ... max_depth=10, min_samples_leaf=3, score=-7.911, total=   0.8s\n",
      "[CV] max_depth=10, min_samples_leaf=4 ................................\n",
      "[CV] ... max_depth=10, min_samples_leaf=4, score=-7.911, total=   0.8s\n",
      "[CV] max_depth=10, min_samples_leaf=4 ................................\n",
      "[CV] ... max_depth=10, min_samples_leaf=4, score=-7.905, total=   0.8s\n",
      "[CV] max_depth=10, min_samples_leaf=4 ................................\n",
      "[CV] ... max_depth=10, min_samples_leaf=4, score=-7.883, total=   0.8s\n",
      "[CV] max_depth=10, min_samples_leaf=4 ................................\n",
      "[CV] ... max_depth=10, min_samples_leaf=4, score=-7.962, total=   0.8s\n",
      "[CV] max_depth=10, min_samples_leaf=4 ................................\n",
      "[CV] ... max_depth=10, min_samples_leaf=4, score=-7.912, total=   0.8s\n",
      "[CV] max_depth=11, min_samples_leaf=1 ................................\n",
      "[CV] ... max_depth=11, min_samples_leaf=1, score=-7.947, total=   0.9s\n",
      "[CV] max_depth=11, min_samples_leaf=1 ................................\n",
      "[CV] ... max_depth=11, min_samples_leaf=1, score=-7.953, total=   0.9s\n",
      "[CV] max_depth=11, min_samples_leaf=1 ................................\n",
      "[CV] ... max_depth=11, min_samples_leaf=1, score=-7.958, total=   0.9s\n",
      "[CV] max_depth=11, min_samples_leaf=1 ................................\n",
      "[CV] ... max_depth=11, min_samples_leaf=1, score=-7.990, total=   0.9s\n",
      "[CV] max_depth=11, min_samples_leaf=1 ................................\n",
      "[CV] ... max_depth=11, min_samples_leaf=1, score=-7.951, total=   0.9s\n",
      "[CV] max_depth=11, min_samples_leaf=2 ................................\n",
      "[CV] ... max_depth=11, min_samples_leaf=2, score=-7.939, total=   0.9s\n",
      "[CV] max_depth=11, min_samples_leaf=2 ................................\n",
      "[CV] ... max_depth=11, min_samples_leaf=2, score=-7.940, total=   0.9s\n",
      "[CV] max_depth=11, min_samples_leaf=2 ................................\n",
      "[CV] ... max_depth=11, min_samples_leaf=2, score=-7.929, total=   0.8s\n",
      "[CV] max_depth=11, min_samples_leaf=2 ................................\n",
      "[CV] ... max_depth=11, min_samples_leaf=2, score=-7.987, total=   0.9s\n",
      "[CV] max_depth=11, min_samples_leaf=2 ................................\n",
      "[CV] ... max_depth=11, min_samples_leaf=2, score=-7.929, total=   0.9s\n",
      "[CV] max_depth=11, min_samples_leaf=3 ................................\n",
      "[CV] ... max_depth=11, min_samples_leaf=3, score=-7.936, total=   0.9s\n",
      "[CV] max_depth=11, min_samples_leaf=3 ................................\n",
      "[CV] ... max_depth=11, min_samples_leaf=3, score=-7.917, total=   0.9s\n",
      "[CV] max_depth=11, min_samples_leaf=3 ................................\n",
      "[CV] ... max_depth=11, min_samples_leaf=3, score=-7.916, total=   0.8s\n",
      "[CV] max_depth=11, min_samples_leaf=3 ................................\n",
      "[CV] ... max_depth=11, min_samples_leaf=3, score=-7.973, total=   0.9s\n",
      "[CV] max_depth=11, min_samples_leaf=3 ................................\n",
      "[CV] ... max_depth=11, min_samples_leaf=3, score=-7.914, total=   0.9s\n",
      "[CV] max_depth=11, min_samples_leaf=4 ................................\n",
      "[CV] ... max_depth=11, min_samples_leaf=4, score=-7.919, total=   0.9s\n",
      "[CV] max_depth=11, min_samples_leaf=4 ................................\n",
      "[CV] ... max_depth=11, min_samples_leaf=4, score=-7.918, total=   0.9s\n",
      "[CV] max_depth=11, min_samples_leaf=4 ................................\n",
      "[CV] ... max_depth=11, min_samples_leaf=4, score=-7.895, total=   0.9s\n",
      "[CV] max_depth=11, min_samples_leaf=4 ................................\n",
      "[CV] ... max_depth=11, min_samples_leaf=4, score=-7.965, total=   0.9s\n",
      "[CV] max_depth=11, min_samples_leaf=4 ................................\n",
      "[CV] ... max_depth=11, min_samples_leaf=4, score=-7.915, total=   0.9s\n",
      "[CV] max_depth=12, min_samples_leaf=1 ................................\n",
      "[CV] ... max_depth=12, min_samples_leaf=1, score=-8.014, total=   0.9s\n",
      "[CV] max_depth=12, min_samples_leaf=1 ................................\n",
      "[CV] ... max_depth=12, min_samples_leaf=1, score=-7.995, total=   0.9s\n",
      "[CV] max_depth=12, min_samples_leaf=1 ................................\n",
      "[CV] ... max_depth=12, min_samples_leaf=1, score=-7.990, total=   0.9s\n",
      "[CV] max_depth=12, min_samples_leaf=1 ................................\n",
      "[CV] ... max_depth=12, min_samples_leaf=1, score=-8.048, total=   0.9s\n",
      "[CV] max_depth=12, min_samples_leaf=1 ................................\n",
      "[CV] ... max_depth=12, min_samples_leaf=1, score=-8.001, total=   0.9s\n",
      "[CV] max_depth=12, min_samples_leaf=2 ................................\n",
      "[CV] ... max_depth=12, min_samples_leaf=2, score=-7.988, total=   0.9s\n",
      "[CV] max_depth=12, min_samples_leaf=2 ................................\n",
      "[CV] ... max_depth=12, min_samples_leaf=2, score=-7.967, total=   0.9s\n",
      "[CV] max_depth=12, min_samples_leaf=2 ................................\n",
      "[CV] ... max_depth=12, min_samples_leaf=2, score=-7.952, total=   0.9s\n",
      "[CV] max_depth=12, min_samples_leaf=2 ................................\n",
      "[CV] ... max_depth=12, min_samples_leaf=2, score=-8.022, total=   0.9s\n",
      "[CV] max_depth=12, min_samples_leaf=2 ................................\n",
      "[CV] ... max_depth=12, min_samples_leaf=2, score=-7.957, total=   0.9s\n",
      "[CV] max_depth=12, min_samples_leaf=3 ................................\n",
      "[CV] ... max_depth=12, min_samples_leaf=3, score=-7.969, total=   0.9s\n",
      "[CV] max_depth=12, min_samples_leaf=3 ................................\n",
      "[CV] ... max_depth=12, min_samples_leaf=3, score=-7.942, total=   0.9s\n",
      "[CV] max_depth=12, min_samples_leaf=3 ................................\n",
      "[CV] ... max_depth=12, min_samples_leaf=3, score=-7.942, total=   0.9s\n",
      "[CV] max_depth=12, min_samples_leaf=3 ................................\n",
      "[CV] ... max_depth=12, min_samples_leaf=3, score=-8.000, total=   0.9s\n",
      "[CV] max_depth=12, min_samples_leaf=3 ................................\n",
      "[CV] ... max_depth=12, min_samples_leaf=3, score=-7.937, total=   0.9s\n",
      "[CV] max_depth=12, min_samples_leaf=4 ................................\n",
      "[CV] ... max_depth=12, min_samples_leaf=4, score=-7.942, total=   0.9s\n",
      "[CV] max_depth=12, min_samples_leaf=4 ................................\n",
      "[CV] ... max_depth=12, min_samples_leaf=4, score=-7.930, total=   0.9s\n",
      "[CV] max_depth=12, min_samples_leaf=4 ................................\n",
      "[CV] ... max_depth=12, min_samples_leaf=4, score=-7.912, total=   0.9s\n",
      "[CV] max_depth=12, min_samples_leaf=4 ................................\n",
      "[CV] ... max_depth=12, min_samples_leaf=4, score=-7.992, total=   0.9s\n",
      "[CV] max_depth=12, min_samples_leaf=4 ................................\n",
      "[CV] ... max_depth=12, min_samples_leaf=4, score=-7.932, total=   0.9s\n",
      "[CV] max_depth=13, min_samples_leaf=1 ................................\n"
     ]
    },
    {
     "name": "stdout",
     "output_type": "stream",
     "text": [
      "[CV] ... max_depth=13, min_samples_leaf=1, score=-8.057, total=   0.9s\n",
      "[CV] max_depth=13, min_samples_leaf=1 ................................\n",
      "[CV] ... max_depth=13, min_samples_leaf=1, score=-8.081, total=   1.0s\n",
      "[CV] max_depth=13, min_samples_leaf=1 ................................\n",
      "[CV] ... max_depth=13, min_samples_leaf=1, score=-8.077, total=   0.9s\n",
      "[CV] max_depth=13, min_samples_leaf=1 ................................\n",
      "[CV] ... max_depth=13, min_samples_leaf=1, score=-8.116, total=   1.0s\n",
      "[CV] max_depth=13, min_samples_leaf=1 ................................\n",
      "[CV] ... max_depth=13, min_samples_leaf=1, score=-8.051, total=   1.0s\n",
      "[CV] max_depth=13, min_samples_leaf=2 ................................\n",
      "[CV] ... max_depth=13, min_samples_leaf=2, score=-8.036, total=   1.0s\n",
      "[CV] max_depth=13, min_samples_leaf=2 ................................\n",
      "[CV] ... max_depth=13, min_samples_leaf=2, score=-8.033, total=   1.0s\n",
      "[CV] max_depth=13, min_samples_leaf=2 ................................\n",
      "[CV] ... max_depth=13, min_samples_leaf=2, score=-8.005, total=   0.9s\n",
      "[CV] max_depth=13, min_samples_leaf=2 ................................\n",
      "[CV] ... max_depth=13, min_samples_leaf=2, score=-8.092, total=   1.0s\n",
      "[CV] max_depth=13, min_samples_leaf=2 ................................\n",
      "[CV] ... max_depth=13, min_samples_leaf=2, score=-8.002, total=   1.0s\n",
      "[CV] max_depth=13, min_samples_leaf=3 ................................\n",
      "[CV] ... max_depth=13, min_samples_leaf=3, score=-8.006, total=   1.0s\n",
      "[CV] max_depth=13, min_samples_leaf=3 ................................\n",
      "[CV] ... max_depth=13, min_samples_leaf=3, score=-8.001, total=   1.0s\n",
      "[CV] max_depth=13, min_samples_leaf=3 ................................\n",
      "[CV] ... max_depth=13, min_samples_leaf=3, score=-7.981, total=   1.0s\n",
      "[CV] max_depth=13, min_samples_leaf=3 ................................\n",
      "[CV] ... max_depth=13, min_samples_leaf=3, score=-8.062, total=   1.0s\n",
      "[CV] max_depth=13, min_samples_leaf=3 ................................\n",
      "[CV] ... max_depth=13, min_samples_leaf=3, score=-7.977, total=   0.9s\n",
      "[CV] max_depth=13, min_samples_leaf=4 ................................\n",
      "[CV] ... max_depth=13, min_samples_leaf=4, score=-7.973, total=   0.9s\n",
      "[CV] max_depth=13, min_samples_leaf=4 ................................\n",
      "[CV] ... max_depth=13, min_samples_leaf=4, score=-7.980, total=   1.0s\n",
      "[CV] max_depth=13, min_samples_leaf=4 ................................\n",
      "[CV] ... max_depth=13, min_samples_leaf=4, score=-7.950, total=   0.9s\n",
      "[CV] max_depth=13, min_samples_leaf=4 ................................\n",
      "[CV] ... max_depth=13, min_samples_leaf=4, score=-8.028, total=   1.0s\n",
      "[CV] max_depth=13, min_samples_leaf=4 ................................\n",
      "[CV] ... max_depth=13, min_samples_leaf=4, score=-7.974, total=   1.0s\n",
      "[CV] max_depth=14, min_samples_leaf=1 ................................\n",
      "[CV] ... max_depth=14, min_samples_leaf=1, score=-8.147, total=   1.0s\n",
      "[CV] max_depth=14, min_samples_leaf=1 ................................\n",
      "[CV] ... max_depth=14, min_samples_leaf=1, score=-8.204, total=   1.0s\n",
      "[CV] max_depth=14, min_samples_leaf=1 ................................\n",
      "[CV] ... max_depth=14, min_samples_leaf=1, score=-8.185, total=   1.0s\n",
      "[CV] max_depth=14, min_samples_leaf=1 ................................\n",
      "[CV] ... max_depth=14, min_samples_leaf=1, score=-8.226, total=   0.9s\n",
      "[CV] max_depth=14, min_samples_leaf=1 ................................\n",
      "[CV] ... max_depth=14, min_samples_leaf=1, score=-8.128, total=   1.0s\n",
      "[CV] max_depth=14, min_samples_leaf=2 ................................\n",
      "[CV] ... max_depth=14, min_samples_leaf=2, score=-8.118, total=   0.9s\n",
      "[CV] max_depth=14, min_samples_leaf=2 ................................\n",
      "[CV] ... max_depth=14, min_samples_leaf=2, score=-8.129, total=   1.0s\n",
      "[CV] max_depth=14, min_samples_leaf=2 ................................\n",
      "[CV] ... max_depth=14, min_samples_leaf=2, score=-8.091, total=   1.0s\n",
      "[CV] max_depth=14, min_samples_leaf=2 ................................\n",
      "[CV] ... max_depth=14, min_samples_leaf=2, score=-8.182, total=   1.0s\n",
      "[CV] max_depth=14, min_samples_leaf=2 ................................\n",
      "[CV] ... max_depth=14, min_samples_leaf=2, score=-8.065, total=   1.0s\n",
      "[CV] max_depth=14, min_samples_leaf=3 ................................\n",
      "[CV] ... max_depth=14, min_samples_leaf=3, score=-8.079, total=   1.0s\n",
      "[CV] max_depth=14, min_samples_leaf=3 ................................\n",
      "[CV] ... max_depth=14, min_samples_leaf=3, score=-8.065, total=   1.0s\n",
      "[CV] max_depth=14, min_samples_leaf=3 ................................\n",
      "[CV] ... max_depth=14, min_samples_leaf=3, score=-8.036, total=   1.0s\n",
      "[CV] max_depth=14, min_samples_leaf=3 ................................\n",
      "[CV] ... max_depth=14, min_samples_leaf=3, score=-8.099, total=   1.0s\n",
      "[CV] max_depth=14, min_samples_leaf=3 ................................\n",
      "[CV] ... max_depth=14, min_samples_leaf=3, score=-8.041, total=   1.0s\n",
      "[CV] max_depth=14, min_samples_leaf=4 ................................\n",
      "[CV] ... max_depth=14, min_samples_leaf=4, score=-8.027, total=   1.0s\n",
      "[CV] max_depth=14, min_samples_leaf=4 ................................\n",
      "[CV] ... max_depth=14, min_samples_leaf=4, score=-8.029, total=   1.0s\n",
      "[CV] max_depth=14, min_samples_leaf=4 ................................\n",
      "[CV] ... max_depth=14, min_samples_leaf=4, score=-7.997, total=   0.9s\n",
      "[CV] max_depth=14, min_samples_leaf=4 ................................\n",
      "[CV] ... max_depth=14, min_samples_leaf=4, score=-8.065, total=   1.0s\n",
      "[CV] max_depth=14, min_samples_leaf=4 ................................\n",
      "[CV] ... max_depth=14, min_samples_leaf=4, score=-8.017, total=   1.0s\n"
     ]
    },
    {
     "name": "stderr",
     "output_type": "stream",
     "text": [
      "[Parallel(n_jobs=1)]: Done 100 out of 100 | elapsed:  1.5min finished\n"
     ]
    },
    {
     "data": {
      "text/plain": [
       "GridSearchCV(cv=KFold(n_splits=5, random_state=1234, shuffle=True),\n",
       "             estimator=DecisionTreeRegressor(random_state=1234),\n",
       "             param_grid={'max_depth': range(10, 15),\n",
       "                         'min_samples_leaf': range(1, 5)},\n",
       "             scoring='neg_mean_squared_error', verbose=3)"
      ]
     },
     "execution_count": 25,
     "metadata": {},
     "output_type": "execute_result"
    }
   ],
   "source": [
    "dtr = DecisionTreeRegressor(criterion='mse', random_state=1234)\n",
    "grid = GridSearchCV(dtr, param_grid=parameters, \n",
    "                         cv=kf, \n",
    "                         scoring='neg_mean_squared_error', \n",
    "                         verbose=3) \n",
    "\n",
    "grid.fit(X_train, log_y_train)"
   ]
  },
  {
   "cell_type": "code",
   "execution_count": 26,
   "metadata": {},
   "outputs": [
    {
     "name": "stdout",
     "output_type": "stream",
     "text": [
      "対数領域 MAE: 2.01\n",
      "対数領域 MSE: 7.86\n",
      "対数領域 RMSE: 2.8\n",
      "MAE: 8.62e+03\n",
      "MSE: 5.06e+09\n",
      "RMSE: 7.12e+04\n"
     ]
    }
   ],
   "source": [
    "log_y_pred = grid.predict(X_test)\n",
    "\n",
    "mae_log = mean_absolute_error(log_y_test, log_y_pred)\n",
    "mse_log = mean_squared_error(log_y_test, log_y_pred)\n",
    "rmse_log = np.sqrt(mse_log)\n",
    "\n",
    "mae = mean_absolute_error(10**log_y_test, 10**log_y_pred)\n",
    "mse = mean_squared_error(10**log_y_test, 10**log_y_pred)\n",
    "rmse = np.sqrt(mse)\n",
    "\n",
    "print(f'対数領域 MAE: {mae_log:.3}')\n",
    "print(f'対数領域 MSE: {mse_log:.3}')\n",
    "print(f'対数領域 RMSE: {rmse_log:.3}')\n",
    "\n",
    "print(f'MAE: {mae:.3}')\n",
    "print(f'MSE: {mse:.3}')\n",
    "print(f'RMSE: {rmse:.3}')"
   ]
  },
  {
   "cell_type": "markdown",
   "metadata": {},
   "source": [
    "対数変換前にくらべてさらに性能は良くなった．\n",
    "右に歪んだ目的変数を持つデータに対して，目的変数の対数変換は有用である．以後，対数領域で学習を実行する．\n",
    "\n",
    "### ランダムフォレスト\n",
    "以下をチューニングしつつ学習．実行に30分ほどかかるので注意する\n",
    "- n_estimators: 弱学習器の数"
   ]
  },
  {
   "cell_type": "code",
   "execution_count": 27,
   "metadata": {
    "scrolled": true
   },
   "outputs": [
    {
     "name": "stdout",
     "output_type": "stream",
     "text": [
      "Fitting 5 folds for each of 5 candidates, totalling 25 fits\n",
      "[CV] n_estimators=50 .................................................\n"
     ]
    },
    {
     "name": "stderr",
     "output_type": "stream",
     "text": [
      "[Parallel(n_jobs=1)]: Using backend SequentialBackend with 1 concurrent workers.\n"
     ]
    },
    {
     "name": "stdout",
     "output_type": "stream",
     "text": [
      "[CV] .................... n_estimators=50, score=-8.881, total=  48.1s\n",
      "[CV] n_estimators=50 .................................................\n"
     ]
    },
    {
     "name": "stderr",
     "output_type": "stream",
     "text": [
      "[Parallel(n_jobs=1)]: Done   1 out of   1 | elapsed:   48.1s remaining:    0.0s\n"
     ]
    },
    {
     "name": "stdout",
     "output_type": "stream",
     "text": [
      "[CV] .................... n_estimators=50, score=-8.850, total=  48.6s\n",
      "[CV] n_estimators=50 .................................................\n"
     ]
    },
    {
     "name": "stderr",
     "output_type": "stream",
     "text": [
      "[Parallel(n_jobs=1)]: Done   2 out of   2 | elapsed:  1.6min remaining:    0.0s\n"
     ]
    },
    {
     "name": "stdout",
     "output_type": "stream",
     "text": [
      "[CV] .................... n_estimators=50, score=-8.878, total=  51.1s\n",
      "[CV] n_estimators=50 .................................................\n",
      "[CV] .................... n_estimators=50, score=-8.929, total=  48.0s\n",
      "[CV] n_estimators=50 .................................................\n",
      "[CV] .................... n_estimators=50, score=-8.830, total=  52.4s\n",
      "[CV] n_estimators=60 .................................................\n",
      "[CV] .................... n_estimators=60, score=-8.872, total=  57.6s\n",
      "[CV] n_estimators=60 .................................................\n",
      "[CV] .................... n_estimators=60, score=-8.836, total=  58.3s\n",
      "[CV] n_estimators=60 .................................................\n",
      "[CV] .................... n_estimators=60, score=-8.863, total=  56.9s\n",
      "[CV] n_estimators=60 .................................................\n",
      "[CV] .................... n_estimators=60, score=-8.914, total=  57.4s\n",
      "[CV] n_estimators=60 .................................................\n",
      "[CV] .................... n_estimators=60, score=-8.820, total=  58.8s\n",
      "[CV] n_estimators=70 .................................................\n",
      "[CV] .................... n_estimators=70, score=-8.864, total= 1.1min\n",
      "[CV] n_estimators=70 .................................................\n",
      "[CV] .................... n_estimators=70, score=-8.823, total= 1.1min\n",
      "[CV] n_estimators=70 .................................................\n",
      "[CV] .................... n_estimators=70, score=-8.846, total= 1.1min\n",
      "[CV] n_estimators=70 .................................................\n",
      "[CV] .................... n_estimators=70, score=-8.906, total= 1.1min\n",
      "[CV] n_estimators=70 .................................................\n",
      "[CV] .................... n_estimators=70, score=-8.803, total= 1.1min\n",
      "[CV] n_estimators=80 .................................................\n",
      "[CV] .................... n_estimators=80, score=-8.856, total= 1.3min\n",
      "[CV] n_estimators=80 .................................................\n",
      "[CV] .................... n_estimators=80, score=-8.818, total= 1.2min\n",
      "[CV] n_estimators=80 .................................................\n",
      "[CV] .................... n_estimators=80, score=-8.837, total= 1.2min\n",
      "[CV] n_estimators=80 .................................................\n",
      "[CV] .................... n_estimators=80, score=-8.898, total= 1.2min\n",
      "[CV] n_estimators=80 .................................................\n",
      "[CV] .................... n_estimators=80, score=-8.791, total= 1.2min\n",
      "[CV] n_estimators=90 .................................................\n",
      "[CV] .................... n_estimators=90, score=-8.851, total= 1.4min\n",
      "[CV] n_estimators=90 .................................................\n",
      "[CV] .................... n_estimators=90, score=-8.812, total= 1.4min\n",
      "[CV] n_estimators=90 .................................................\n",
      "[CV] .................... n_estimators=90, score=-8.830, total= 1.4min\n",
      "[CV] n_estimators=90 .................................................\n",
      "[CV] .................... n_estimators=90, score=-8.890, total= 1.3min\n",
      "[CV] n_estimators=90 .................................................\n",
      "[CV] .................... n_estimators=90, score=-8.784, total= 1.4min\n"
     ]
    },
    {
     "name": "stderr",
     "output_type": "stream",
     "text": [
      "[Parallel(n_jobs=1)]: Done  25 out of  25 | elapsed: 27.5min finished\n"
     ]
    },
    {
     "data": {
      "text/plain": [
       "GridSearchCV(cv=KFold(n_splits=5, random_state=1234, shuffle=True),\n",
       "             estimator=RandomForestRegressor(random_state=1234),\n",
       "             param_grid={'n_estimators': range(50, 100, 10)},\n",
       "             scoring='neg_mean_squared_error', verbose=3)"
      ]
     },
     "execution_count": 27,
     "metadata": {},
     "output_type": "execute_result"
    }
   ],
   "source": [
    "parameters = {'n_estimators': range(50, 100, 10)}\n",
    "\n",
    "rfr = RandomForestRegressor(criterion='mse', random_state=1234)\n",
    "grid = GridSearchCV(rfr, param_grid=parameters, \n",
    "                         cv=kf, \n",
    "                         scoring='neg_mean_squared_error', \n",
    "                         verbose=3) \n",
    "\n",
    "grid.fit(X_train, log_y_train)"
   ]
  },
  {
   "cell_type": "code",
   "execution_count": 28,
   "metadata": {},
   "outputs": [
    {
     "name": "stdout",
     "output_type": "stream",
     "text": [
      "対数領域 MAE: 2.13\n",
      "対数領域 MSE: 8.8\n",
      "対数領域 RMSE: 2.97\n",
      "MAE: 8.67e+03\n",
      "MSE: 5.03e+09\n",
      "RMSE: 7.09e+04\n"
     ]
    }
   ],
   "source": [
    "log_y_pred = grid.predict(X_test)\n",
    "\n",
    "mae_log = mean_absolute_error(log_y_test, log_y_pred)\n",
    "mse_log = mean_squared_error(log_y_test, log_y_pred)\n",
    "rmse_log = np.sqrt(mse_log)\n",
    "\n",
    "mae = mean_absolute_error(10**log_y_test, 10**log_y_pred)\n",
    "mse = mean_squared_error(10**log_y_test, 10**log_y_pred)\n",
    "rmse = np.sqrt(mse)\n",
    "\n",
    "print(f'対数領域 MAE: {mae_log:.3}')\n",
    "print(f'対数領域 MSE: {mse_log:.3}')\n",
    "print(f'対数領域 RMSE: {rmse_log:.3}')\n",
    "\n",
    "print(f'MAE: {mae:.3}')\n",
    "print(f'MSE: {mse:.3}')\n",
    "print(f'RMSE: {rmse:.3}')"
   ]
  },
  {
   "cell_type": "code",
   "execution_count": 29,
   "metadata": {},
   "outputs": [
    {
     "data": {
      "text/plain": [
       "RandomForestRegressor(n_estimators=90, random_state=1234)"
      ]
     },
     "execution_count": 29,
     "metadata": {},
     "output_type": "execute_result"
    }
   ],
   "source": [
    "grid.best_estimator_"
   ]
  },
  {
   "cell_type": "markdown",
   "metadata": {},
   "source": [
    "- 決定木と性能は大差ない\n",
    "- CV のスコアを見る限り，`n_estimators`に対してロバストであると推察できる\n",
    "\n",
    "### アダブースト\n",
    "決定木を弱学習器としたアダブーストを，以下をチューニングしながら学習\n",
    "- n_estimators: 弱学習器の数"
   ]
  },
  {
   "cell_type": "code",
   "execution_count": 30,
   "metadata": {
    "scrolled": true
   },
   "outputs": [
    {
     "name": "stdout",
     "output_type": "stream",
     "text": [
      "Fitting 5 folds for each of 5 candidates, totalling 25 fits\n",
      "[CV] n_estimators=50 .................................................\n"
     ]
    },
    {
     "name": "stderr",
     "output_type": "stream",
     "text": [
      "[Parallel(n_jobs=1)]: Using backend SequentialBackend with 1 concurrent workers.\n"
     ]
    },
    {
     "name": "stdout",
     "output_type": "stream",
     "text": [
      "[CV] .................... n_estimators=50, score=-8.524, total=   5.9s\n",
      "[CV] n_estimators=50 .................................................\n"
     ]
    },
    {
     "name": "stderr",
     "output_type": "stream",
     "text": [
      "[Parallel(n_jobs=1)]: Done   1 out of   1 | elapsed:    5.9s remaining:    0.0s\n"
     ]
    },
    {
     "name": "stdout",
     "output_type": "stream",
     "text": [
      "[CV] .................... n_estimators=50, score=-8.576, total=   5.9s\n",
      "[CV] n_estimators=50 .................................................\n"
     ]
    },
    {
     "name": "stderr",
     "output_type": "stream",
     "text": [
      "[Parallel(n_jobs=1)]: Done   2 out of   2 | elapsed:   11.8s remaining:    0.0s\n"
     ]
    },
    {
     "name": "stdout",
     "output_type": "stream",
     "text": [
      "[CV] .................... n_estimators=50, score=-8.547, total=   5.8s\n",
      "[CV] n_estimators=50 .................................................\n",
      "[CV] .................... n_estimators=50, score=-8.635, total=   6.5s\n",
      "[CV] n_estimators=50 .................................................\n",
      "[CV] .................... n_estimators=50, score=-8.590, total=   4.6s\n",
      "[CV] n_estimators=60 .................................................\n",
      "[CV] .................... n_estimators=60, score=-8.524, total=   5.9s\n",
      "[CV] n_estimators=60 .................................................\n",
      "[CV] .................... n_estimators=60, score=-8.576, total=   5.9s\n",
      "[CV] n_estimators=60 .................................................\n",
      "[CV] .................... n_estimators=60, score=-8.547, total=   5.9s\n",
      "[CV] n_estimators=60 .................................................\n",
      "[CV] .................... n_estimators=60, score=-8.635, total=   6.5s\n",
      "[CV] n_estimators=60 .................................................\n",
      "[CV] .................... n_estimators=60, score=-8.590, total=   4.5s\n",
      "[CV] n_estimators=70 .................................................\n",
      "[CV] .................... n_estimators=70, score=-8.524, total=   5.8s\n",
      "[CV] n_estimators=70 .................................................\n",
      "[CV] .................... n_estimators=70, score=-8.576, total=   5.9s\n",
      "[CV] n_estimators=70 .................................................\n",
      "[CV] .................... n_estimators=70, score=-8.547, total=   5.9s\n",
      "[CV] n_estimators=70 .................................................\n",
      "[CV] .................... n_estimators=70, score=-8.635, total=   6.5s\n",
      "[CV] n_estimators=70 .................................................\n",
      "[CV] .................... n_estimators=70, score=-8.590, total=   4.6s\n",
      "[CV] n_estimators=80 .................................................\n",
      "[CV] .................... n_estimators=80, score=-8.524, total=   5.8s\n",
      "[CV] n_estimators=80 .................................................\n",
      "[CV] .................... n_estimators=80, score=-8.576, total=   5.7s\n",
      "[CV] n_estimators=80 .................................................\n",
      "[CV] .................... n_estimators=80, score=-8.547, total=   5.9s\n",
      "[CV] n_estimators=80 .................................................\n",
      "[CV] .................... n_estimators=80, score=-8.635, total=   6.6s\n",
      "[CV] n_estimators=80 .................................................\n",
      "[CV] .................... n_estimators=80, score=-8.590, total=   4.6s\n",
      "[CV] n_estimators=90 .................................................\n",
      "[CV] .................... n_estimators=90, score=-8.524, total=   5.8s\n",
      "[CV] n_estimators=90 .................................................\n",
      "[CV] .................... n_estimators=90, score=-8.576, total=   5.9s\n",
      "[CV] n_estimators=90 .................................................\n",
      "[CV] .................... n_estimators=90, score=-8.547, total=   5.6s\n",
      "[CV] n_estimators=90 .................................................\n",
      "[CV] .................... n_estimators=90, score=-8.635, total=   6.5s\n",
      "[CV] n_estimators=90 .................................................\n",
      "[CV] .................... n_estimators=90, score=-8.590, total=   4.6s\n"
     ]
    },
    {
     "name": "stderr",
     "output_type": "stream",
     "text": [
      "[Parallel(n_jobs=1)]: Done  25 out of  25 | elapsed:  2.4min finished\n"
     ]
    },
    {
     "data": {
      "text/plain": [
       "GridSearchCV(cv=KFold(n_splits=5, random_state=1234, shuffle=True),\n",
       "             estimator=AdaBoostRegressor(random_state=1234),\n",
       "             param_grid={'n_estimators': range(50, 100, 10)},\n",
       "             scoring='neg_mean_squared_error', verbose=3)"
      ]
     },
     "execution_count": 30,
     "metadata": {},
     "output_type": "execute_result"
    }
   ],
   "source": [
    "parameters = {'n_estimators': range(50, 100, 10)}\n",
    "\n",
    "abr = AdaBoostRegressor(random_state=1234)\n",
    "grid = GridSearchCV(estimator=abr, param_grid=parameters, \n",
    "                         cv=kf, \n",
    "                         scoring='neg_mean_squared_error', \n",
    "                         verbose=3) \n",
    "\n",
    "grid.fit(X_train, log_y_train)"
   ]
  },
  {
   "cell_type": "code",
   "execution_count": 31,
   "metadata": {},
   "outputs": [
    {
     "name": "stdout",
     "output_type": "stream",
     "text": [
      "対数領域 MAE: 2.38\n",
      "対数領域 MSE: 8.53\n",
      "対数領域 RMSE: 2.92\n",
      "MAE: 8.75e+03\n",
      "MSE: 5.09e+09\n",
      "RMSE: 7.13e+04\n"
     ]
    }
   ],
   "source": [
    "log_y_pred = grid.predict(X_test)\n",
    "\n",
    "mae_log = mean_absolute_error(log_y_test, log_y_pred)\n",
    "mse_log = mean_squared_error(log_y_test, log_y_pred)\n",
    "rmse_log = np.sqrt(mse_log)\n",
    "\n",
    "mae = mean_absolute_error(10**log_y_test, 10**log_y_pred)\n",
    "mse = mean_squared_error(10**log_y_test, 10**log_y_pred)\n",
    "rmse = np.sqrt(mse)\n",
    "\n",
    "print(f'対数領域 MAE: {mae_log:.3}')\n",
    "print(f'対数領域 MSE: {mse_log:.3}')\n",
    "print(f'対数領域 RMSE: {rmse_log:.3}')\n",
    "\n",
    "print(f'MAE: {mae:.3}')\n",
    "print(f'MSE: {mse:.3}')\n",
    "print(f'RMSE: {rmse:.3}')"
   ]
  },
  {
   "cell_type": "code",
   "execution_count": 32,
   "metadata": {},
   "outputs": [
    {
     "data": {
      "text/plain": [
       "AdaBoostRegressor(random_state=1234)"
      ]
     },
     "execution_count": 32,
     "metadata": {},
     "output_type": "execute_result"
    }
   ],
   "source": [
    "grid.best_estimator_"
   ]
  },
  {
   "cell_type": "markdown",
   "metadata": {},
   "source": [
    "決定木・ランダムフォレストと大差ない性能である"
   ]
  },
  {
   "cell_type": "markdown",
   "metadata": {},
   "source": [
    "## ニューラルネットワークの利用\n",
    "- FutureWarning は無視して良い"
   ]
  },
  {
   "cell_type": "code",
   "execution_count": 33,
   "metadata": {},
   "outputs": [
    {
     "name": "stderr",
     "output_type": "stream",
     "text": [
      "/Users/mizoguchi/anaconda3/lib/python3.7/site-packages/tensorflow/python/framework/dtypes.py:516: FutureWarning: Passing (type, 1) or '1type' as a synonym of type is deprecated; in a future version of numpy, it will be understood as (type, (1,)) / '(1,)type'.\n",
      "  _np_qint8 = np.dtype([(\"qint8\", np.int8, 1)])\n",
      "/Users/mizoguchi/anaconda3/lib/python3.7/site-packages/tensorflow/python/framework/dtypes.py:517: FutureWarning: Passing (type, 1) or '1type' as a synonym of type is deprecated; in a future version of numpy, it will be understood as (type, (1,)) / '(1,)type'.\n",
      "  _np_quint8 = np.dtype([(\"quint8\", np.uint8, 1)])\n",
      "/Users/mizoguchi/anaconda3/lib/python3.7/site-packages/tensorflow/python/framework/dtypes.py:518: FutureWarning: Passing (type, 1) or '1type' as a synonym of type is deprecated; in a future version of numpy, it will be understood as (type, (1,)) / '(1,)type'.\n",
      "  _np_qint16 = np.dtype([(\"qint16\", np.int16, 1)])\n",
      "/Users/mizoguchi/anaconda3/lib/python3.7/site-packages/tensorflow/python/framework/dtypes.py:519: FutureWarning: Passing (type, 1) or '1type' as a synonym of type is deprecated; in a future version of numpy, it will be understood as (type, (1,)) / '(1,)type'.\n",
      "  _np_quint16 = np.dtype([(\"quint16\", np.uint16, 1)])\n",
      "/Users/mizoguchi/anaconda3/lib/python3.7/site-packages/tensorflow/python/framework/dtypes.py:520: FutureWarning: Passing (type, 1) or '1type' as a synonym of type is deprecated; in a future version of numpy, it will be understood as (type, (1,)) / '(1,)type'.\n",
      "  _np_qint32 = np.dtype([(\"qint32\", np.int32, 1)])\n",
      "/Users/mizoguchi/anaconda3/lib/python3.7/site-packages/tensorflow/python/framework/dtypes.py:525: FutureWarning: Passing (type, 1) or '1type' as a synonym of type is deprecated; in a future version of numpy, it will be understood as (type, (1,)) / '(1,)type'.\n",
      "  np_resource = np.dtype([(\"resource\", np.ubyte, 1)])\n",
      "/Users/mizoguchi/anaconda3/lib/python3.7/site-packages/tensorboard/compat/tensorflow_stub/dtypes.py:541: FutureWarning: Passing (type, 1) or '1type' as a synonym of type is deprecated; in a future version of numpy, it will be understood as (type, (1,)) / '(1,)type'.\n",
      "  _np_qint8 = np.dtype([(\"qint8\", np.int8, 1)])\n",
      "/Users/mizoguchi/anaconda3/lib/python3.7/site-packages/tensorboard/compat/tensorflow_stub/dtypes.py:542: FutureWarning: Passing (type, 1) or '1type' as a synonym of type is deprecated; in a future version of numpy, it will be understood as (type, (1,)) / '(1,)type'.\n",
      "  _np_quint8 = np.dtype([(\"quint8\", np.uint8, 1)])\n",
      "/Users/mizoguchi/anaconda3/lib/python3.7/site-packages/tensorboard/compat/tensorflow_stub/dtypes.py:543: FutureWarning: Passing (type, 1) or '1type' as a synonym of type is deprecated; in a future version of numpy, it will be understood as (type, (1,)) / '(1,)type'.\n",
      "  _np_qint16 = np.dtype([(\"qint16\", np.int16, 1)])\n",
      "/Users/mizoguchi/anaconda3/lib/python3.7/site-packages/tensorboard/compat/tensorflow_stub/dtypes.py:544: FutureWarning: Passing (type, 1) or '1type' as a synonym of type is deprecated; in a future version of numpy, it will be understood as (type, (1,)) / '(1,)type'.\n",
      "  _np_quint16 = np.dtype([(\"quint16\", np.uint16, 1)])\n",
      "/Users/mizoguchi/anaconda3/lib/python3.7/site-packages/tensorboard/compat/tensorflow_stub/dtypes.py:545: FutureWarning: Passing (type, 1) or '1type' as a synonym of type is deprecated; in a future version of numpy, it will be understood as (type, (1,)) / '(1,)type'.\n",
      "  _np_qint32 = np.dtype([(\"qint32\", np.int32, 1)])\n",
      "/Users/mizoguchi/anaconda3/lib/python3.7/site-packages/tensorboard/compat/tensorflow_stub/dtypes.py:550: FutureWarning: Passing (type, 1) or '1type' as a synonym of type is deprecated; in a future version of numpy, it will be understood as (type, (1,)) / '(1,)type'.\n",
      "  np_resource = np.dtype([(\"resource\", np.ubyte, 1)])\n"
     ]
    }
   ],
   "source": [
    "from tensorflow.keras import Sequential, Input\n",
    "from tensorflow.keras.layers import Dense, BatchNormalization\n",
    "from tensorflow.keras.regularizers import l2\n",
    "from tensorflow.keras.optimizers import SGD, Adam\n",
    "from tensorflow.keras.losses import MeanSquaredError\n",
    "from tensorflow.keras.metrics import MeanAbsoluteError, RootMeanSquaredError"
   ]
  },
  {
   "cell_type": "code",
   "execution_count": 34,
   "metadata": {},
   "outputs": [
    {
     "name": "stderr",
     "output_type": "stream",
     "text": [
      "WARNING - From /Users/mizoguchi/anaconda3/lib/python3.7/site-packages/tensorflow/python/ops/init_ops.py:1251: calling VarianceScaling.__init__ (from tensorflow.python.ops.init_ops) with dtype is deprecated and will be removed in a future version.\n",
      "Instructions for updating:\n",
      "Call initializer instance with the dtype argument instead of passing it to the constructor\n"
     ]
    }
   ],
   "source": [
    "model = Sequential()\n",
    "model.add(Input(shape=(len(X_train.columns),)))\n",
    "model.add(Dense(100, activation='relu', kernel_regularizer=l2(0.01)))\n",
    "model.add(BatchNormalization())\n",
    "model.add(Dense(100, activation='relu', kernel_regularizer=l2(0.01)))\n",
    "model.add(BatchNormalization())\n",
    "model.add(Dense(100, activation='relu', kernel_regularizer=l2(0.01)))\n",
    "model.add(BatchNormalization())\n",
    "model.add(Dense(100, activation='relu', kernel_regularizer=l2(0.01)))\n",
    "model.add(BatchNormalization())\n",
    "model.add(Dense(1, activation='linear'))\n",
    "\n",
    "model.compile(\n",
    "    optimizer=Adam(),\n",
    "    loss=MeanSquaredError(),\n",
    "    metrics=[RootMeanSquaredError(), MeanAbsoluteError()],\n",
    "    \n",
    ")"
   ]
  },
  {
   "cell_type": "code",
   "execution_count": 35,
   "metadata": {},
   "outputs": [
    {
     "name": "stdout",
     "output_type": "stream",
     "text": [
      "Train on 265055 samples, validate on 113595 samples\n",
      "Epoch 1/10\n",
      "265055/265055 [==============================] - 7s 25us/sample - loss: 10.0930 - root_mean_squared_error: 2.9341 - mean_absolute_error: 2.1527 - val_loss: 9.2686 - val_root_mean_squared_error: 2.9585 - val_mean_absolute_error: 2.0150\n",
      "Epoch 2/10\n",
      "265055/265055 [==============================] - 6s 23us/sample - loss: 8.7150 - root_mean_squared_error: 2.9126 - mean_absolute_error: 2.1082 - val_loss: 8.8314 - val_root_mean_squared_error: 2.9556 - val_mean_absolute_error: 2.0279\n",
      "Epoch 3/10\n",
      "265055/265055 [==============================] - 6s 23us/sample - loss: 8.5559 - root_mean_squared_error: 2.9133 - mean_absolute_error: 2.1078 - val_loss: 8.7257 - val_root_mean_squared_error: 2.9463 - val_mean_absolute_error: 1.9449\n",
      "Epoch 4/10\n",
      "265055/265055 [==============================] - 6s 23us/sample - loss: 8.5264 - root_mean_squared_error: 2.9125 - mean_absolute_error: 2.1078 - val_loss: 8.6711 - val_root_mean_squared_error: 2.9374 - val_mean_absolute_error: 1.9866\n",
      "Epoch 5/10\n",
      "265055/265055 [==============================] - 6s 23us/sample - loss: 8.5068 - root_mean_squared_error: 2.9109 - mean_absolute_error: 2.1059 - val_loss: 9.0031 - val_root_mean_squared_error: 2.9951 - val_mean_absolute_error: 2.0183\n",
      "Epoch 6/10\n",
      "265055/265055 [==============================] - 6s 23us/sample - loss: 8.4936 - root_mean_squared_error: 2.9099 - mean_absolute_error: 2.1051 - val_loss: 8.7504 - val_root_mean_squared_error: 2.9540 - val_mean_absolute_error: 1.9433\n",
      "Epoch 7/10\n",
      "265055/265055 [==============================] - 6s 23us/sample - loss: 8.4905 - root_mean_squared_error: 2.9094 - mean_absolute_error: 2.1051 - val_loss: 8.5764 - val_root_mean_squared_error: 2.9242 - val_mean_absolute_error: 2.0306\n",
      "Epoch 8/10\n",
      "265055/265055 [==============================] - 6s 23us/sample - loss: 8.4900 - root_mean_squared_error: 2.9098 - mean_absolute_error: 2.1060 - val_loss: 8.6149 - val_root_mean_squared_error: 2.9314 - val_mean_absolute_error: 2.0261\n",
      "Epoch 9/10\n",
      "265055/265055 [==============================] - 6s 23us/sample - loss: 8.4697 - root_mean_squared_error: 2.9073 - mean_absolute_error: 2.1042 - val_loss: 8.8120 - val_root_mean_squared_error: 2.9658 - val_mean_absolute_error: 1.9329\n",
      "Epoch 10/10\n",
      "265055/265055 [==============================] - 6s 23us/sample - loss: 8.4637 - root_mean_squared_error: 2.9066 - mean_absolute_error: 2.1030 - val_loss: 8.5622 - val_root_mean_squared_error: 2.9235 - val_mean_absolute_error: 2.0541\n"
     ]
    }
   ],
   "source": [
    "history = model.fit(\n",
    "    X_train,\n",
    "    log_y_train,\n",
    "    batch_size=128,\n",
    "    epochs=10,\n",
    "    validation_data=(X_test, log_y_test),\n",
    ")"
   ]
  },
  {
   "cell_type": "markdown",
   "metadata": {},
   "source": [
    "ランダムフォレスト などと同等の性能が得られた"
   ]
  },
  {
   "cell_type": "code",
   "execution_count": null,
   "metadata": {},
   "outputs": [],
   "source": []
  }
 ],
 "metadata": {
  "kernelspec": {
   "display_name": "Python 3",
   "language": "python",
   "name": "python3"
  },
  "language_info": {
   "codemirror_mode": {
    "name": "ipython",
    "version": 3
   },
   "file_extension": ".py",
   "mimetype": "text/x-python",
   "name": "python",
   "nbconvert_exporter": "python",
   "pygments_lexer": "ipython3",
   "version": "3.7.3"
  }
 },
 "nbformat": 4,
 "nbformat_minor": 2
}
