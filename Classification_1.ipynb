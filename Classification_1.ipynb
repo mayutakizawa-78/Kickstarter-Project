{
 "cells": [
  {
   "cell_type": "markdown",
   "metadata": {},
   "source": [
    "# 通し課題模範解答 分類編 DAY 1\n",
    "- kaggle の kickstarter project に関して，成功・失敗を予測するモデルを作成する\n",
    "    - https://www.kaggle.com/kemical/kickstarter-projects?select=ks-projects-201801.csv\n",
    "- DAY 1 では，以下を行う\n",
    "    - データの読み込み\n",
    "    - データの基礎集計\n",
    "    - 有効な説明変数の選択\n",
    "    - データの可視化及び欠損値・異常値の処理\n",
    "    - 質的変数の処理\n",
    "    - ロジスティック回帰の利用\n",
    "    - 識別精度の算出（検証については DAY 2）"
   ]
  },
  {
   "cell_type": "code",
   "execution_count": 1,
   "metadata": {},
   "outputs": [],
   "source": [
    "import pandas as pd\n",
    "import numpy as np\n",
    "import scipy.stats as st\n",
    "import seaborn as sns\n",
    "import matplotlib.pyplot as plt\n",
    "from sklearn.linear_model import SGDClassifier\n",
    "from sklearn.metrics import accuracy_score, precision_score, recall_score, f1_score"
   ]
  },
  {
   "cell_type": "markdown",
   "metadata": {},
   "source": [
    "## データの読み込み"
   ]
  },
  {
   "cell_type": "code",
   "execution_count": 2,
   "metadata": {},
   "outputs": [],
   "source": [
    "df = pd.read_csv('../data/ks-projects-201801.csv', index_col='ID')"
   ]
  },
  {
   "cell_type": "markdown",
   "metadata": {},
   "source": [
    "- 各列の概略は以下の通りである．\n",
    "    - ID: 各プロジェクトに固有の ID である．誤って説明変数に利用しないように，`index_col='ID'`として行名に固定してしまうのが良い（後述）．\n",
    "    - name: プロジェクトの名称\n",
    "    - category: プロジェクトの小分類\n",
    "    - main_category: プロジェクトの大分類\n",
    "    - currency: プロジェクトで集められた支援金の通貨単位\n",
    "    - deadline: プロジェクトの終了期日\n",
    "    - goal: プロジェクトにおける支援金の目標額（currency で指定された通貨単位で換算）\n",
    "    - launched: プロジェクトの開始日時\n",
    "    - pledged: プロジェクトで実際に集められた支援額\n",
    "    - state: プロジェクトのステータス（成功・失敗など）\n",
    "    - backers: プロジェクトの支援者数\n",
    "    - country: プロジェクトの主体の所属国\n",
    "    - usd pledged: pledged をある時点でのレートで USD 換算したもの（明らかに誤っている値が多い）\n",
    "    - usd_pledged_real: pledged をある時点でのレートで USD 換算したもの（usd pledged とは異なり，明らかに誤っている値は見られない）\n",
    "    - usd_goal_real: goal をある時点でのレートで USD 換算したもの"
   ]
  },
  {
   "cell_type": "code",
   "execution_count": 3,
   "metadata": {},
   "outputs": [
    {
     "data": {
      "text/html": [
       "<div>\n",
       "<style scoped>\n",
       "    .dataframe tbody tr th:only-of-type {\n",
       "        vertical-align: middle;\n",
       "    }\n",
       "\n",
       "    .dataframe tbody tr th {\n",
       "        vertical-align: top;\n",
       "    }\n",
       "\n",
       "    .dataframe thead th {\n",
       "        text-align: right;\n",
       "    }\n",
       "</style>\n",
       "<table border=\"1\" class=\"dataframe\">\n",
       "  <thead>\n",
       "    <tr style=\"text-align: right;\">\n",
       "      <th></th>\n",
       "      <th>name</th>\n",
       "      <th>category</th>\n",
       "      <th>main_category</th>\n",
       "      <th>currency</th>\n",
       "      <th>deadline</th>\n",
       "      <th>goal</th>\n",
       "      <th>launched</th>\n",
       "      <th>pledged</th>\n",
       "      <th>state</th>\n",
       "      <th>backers</th>\n",
       "      <th>country</th>\n",
       "      <th>usd pledged</th>\n",
       "      <th>usd_pledged_real</th>\n",
       "      <th>usd_goal_real</th>\n",
       "    </tr>\n",
       "    <tr>\n",
       "      <th>ID</th>\n",
       "      <th></th>\n",
       "      <th></th>\n",
       "      <th></th>\n",
       "      <th></th>\n",
       "      <th></th>\n",
       "      <th></th>\n",
       "      <th></th>\n",
       "      <th></th>\n",
       "      <th></th>\n",
       "      <th></th>\n",
       "      <th></th>\n",
       "      <th></th>\n",
       "      <th></th>\n",
       "      <th></th>\n",
       "    </tr>\n",
       "  </thead>\n",
       "  <tbody>\n",
       "    <tr>\n",
       "      <th>1000002330</th>\n",
       "      <td>The Songs of Adelaide &amp; Abullah</td>\n",
       "      <td>Poetry</td>\n",
       "      <td>Publishing</td>\n",
       "      <td>GBP</td>\n",
       "      <td>2015-10-09</td>\n",
       "      <td>1000.0</td>\n",
       "      <td>2015-08-11 12:12:28</td>\n",
       "      <td>0.0</td>\n",
       "      <td>failed</td>\n",
       "      <td>0</td>\n",
       "      <td>GB</td>\n",
       "      <td>0.0</td>\n",
       "      <td>0.0</td>\n",
       "      <td>1533.95</td>\n",
       "    </tr>\n",
       "    <tr>\n",
       "      <th>1000003930</th>\n",
       "      <td>Greeting From Earth: ZGAC Arts Capsule For ET</td>\n",
       "      <td>Narrative Film</td>\n",
       "      <td>Film &amp; Video</td>\n",
       "      <td>USD</td>\n",
       "      <td>2017-11-01</td>\n",
       "      <td>30000.0</td>\n",
       "      <td>2017-09-02 04:43:57</td>\n",
       "      <td>2421.0</td>\n",
       "      <td>failed</td>\n",
       "      <td>15</td>\n",
       "      <td>US</td>\n",
       "      <td>100.0</td>\n",
       "      <td>2421.0</td>\n",
       "      <td>30000.00</td>\n",
       "    </tr>\n",
       "    <tr>\n",
       "      <th>1000004038</th>\n",
       "      <td>Where is Hank?</td>\n",
       "      <td>Narrative Film</td>\n",
       "      <td>Film &amp; Video</td>\n",
       "      <td>USD</td>\n",
       "      <td>2013-02-26</td>\n",
       "      <td>45000.0</td>\n",
       "      <td>2013-01-12 00:20:50</td>\n",
       "      <td>220.0</td>\n",
       "      <td>failed</td>\n",
       "      <td>3</td>\n",
       "      <td>US</td>\n",
       "      <td>220.0</td>\n",
       "      <td>220.0</td>\n",
       "      <td>45000.00</td>\n",
       "    </tr>\n",
       "    <tr>\n",
       "      <th>1000007540</th>\n",
       "      <td>ToshiCapital Rekordz Needs Help to Complete Album</td>\n",
       "      <td>Music</td>\n",
       "      <td>Music</td>\n",
       "      <td>USD</td>\n",
       "      <td>2012-04-16</td>\n",
       "      <td>5000.0</td>\n",
       "      <td>2012-03-17 03:24:11</td>\n",
       "      <td>1.0</td>\n",
       "      <td>failed</td>\n",
       "      <td>1</td>\n",
       "      <td>US</td>\n",
       "      <td>1.0</td>\n",
       "      <td>1.0</td>\n",
       "      <td>5000.00</td>\n",
       "    </tr>\n",
       "    <tr>\n",
       "      <th>1000011046</th>\n",
       "      <td>Community Film Project: The Art of Neighborhoo...</td>\n",
       "      <td>Film &amp; Video</td>\n",
       "      <td>Film &amp; Video</td>\n",
       "      <td>USD</td>\n",
       "      <td>2015-08-29</td>\n",
       "      <td>19500.0</td>\n",
       "      <td>2015-07-04 08:35:03</td>\n",
       "      <td>1283.0</td>\n",
       "      <td>canceled</td>\n",
       "      <td>14</td>\n",
       "      <td>US</td>\n",
       "      <td>1283.0</td>\n",
       "      <td>1283.0</td>\n",
       "      <td>19500.00</td>\n",
       "    </tr>\n",
       "  </tbody>\n",
       "</table>\n",
       "</div>"
      ],
      "text/plain": [
       "                                                         name        category  \\\n",
       "ID                                                                              \n",
       "1000002330                    The Songs of Adelaide & Abullah          Poetry   \n",
       "1000003930      Greeting From Earth: ZGAC Arts Capsule For ET  Narrative Film   \n",
       "1000004038                                     Where is Hank?  Narrative Film   \n",
       "1000007540  ToshiCapital Rekordz Needs Help to Complete Album           Music   \n",
       "1000011046  Community Film Project: The Art of Neighborhoo...    Film & Video   \n",
       "\n",
       "           main_category currency    deadline     goal             launched  \\\n",
       "ID                                                                            \n",
       "1000002330    Publishing      GBP  2015-10-09   1000.0  2015-08-11 12:12:28   \n",
       "1000003930  Film & Video      USD  2017-11-01  30000.0  2017-09-02 04:43:57   \n",
       "1000004038  Film & Video      USD  2013-02-26  45000.0  2013-01-12 00:20:50   \n",
       "1000007540         Music      USD  2012-04-16   5000.0  2012-03-17 03:24:11   \n",
       "1000011046  Film & Video      USD  2015-08-29  19500.0  2015-07-04 08:35:03   \n",
       "\n",
       "            pledged     state  backers country  usd pledged  usd_pledged_real  \\\n",
       "ID                                                                              \n",
       "1000002330      0.0    failed        0      GB          0.0               0.0   \n",
       "1000003930   2421.0    failed       15      US        100.0            2421.0   \n",
       "1000004038    220.0    failed        3      US        220.0             220.0   \n",
       "1000007540      1.0    failed        1      US          1.0               1.0   \n",
       "1000011046   1283.0  canceled       14      US       1283.0            1283.0   \n",
       "\n",
       "            usd_goal_real  \n",
       "ID                         \n",
       "1000002330        1533.95  \n",
       "1000003930       30000.00  \n",
       "1000004038       45000.00  \n",
       "1000007540        5000.00  \n",
       "1000011046       19500.00  "
      ]
     },
     "execution_count": 3,
     "metadata": {},
     "output_type": "execute_result"
    }
   ],
   "source": [
    "df.head()"
   ]
  },
  {
   "cell_type": "markdown",
   "metadata": {},
   "source": [
    "### （参考）ks-projects-201612.csv の読み込み\n",
    "- `encoding=\"ISO-8859-1\"` を指定する必要がある"
   ]
  },
  {
   "cell_type": "code",
   "execution_count": 4,
   "metadata": {},
   "outputs": [
    {
     "name": "stderr",
     "output_type": "stream",
     "text": [
      "/Users/mizoguchi/anaconda3/lib/python3.7/site-packages/IPython/core/interactiveshell.py:3049: DtypeWarning: Columns (13,14,15) have mixed types.Specify dtype option on import or set low_memory=False.\n",
      "  interactivity=interactivity, compiler=compiler, result=result)\n"
     ]
    }
   ],
   "source": [
    "df2 = pd.read_csv('../data/ks-projects-201612.csv', encoding=\"ISO-8859-1\")"
   ]
  },
  {
   "cell_type": "code",
   "execution_count": 5,
   "metadata": {},
   "outputs": [
    {
     "data": {
      "text/html": [
       "<div>\n",
       "<style scoped>\n",
       "    .dataframe tbody tr th:only-of-type {\n",
       "        vertical-align: middle;\n",
       "    }\n",
       "\n",
       "    .dataframe tbody tr th {\n",
       "        vertical-align: top;\n",
       "    }\n",
       "\n",
       "    .dataframe thead th {\n",
       "        text-align: right;\n",
       "    }\n",
       "</style>\n",
       "<table border=\"1\" class=\"dataframe\">\n",
       "  <thead>\n",
       "    <tr style=\"text-align: right;\">\n",
       "      <th></th>\n",
       "      <th>ID</th>\n",
       "      <th>name</th>\n",
       "      <th>category</th>\n",
       "      <th>main_category</th>\n",
       "      <th>currency</th>\n",
       "      <th>deadline</th>\n",
       "      <th>goal</th>\n",
       "      <th>launched</th>\n",
       "      <th>pledged</th>\n",
       "      <th>state</th>\n",
       "      <th>backers</th>\n",
       "      <th>country</th>\n",
       "      <th>usd pledged</th>\n",
       "      <th>Unnamed: 13</th>\n",
       "      <th>Unnamed: 14</th>\n",
       "      <th>Unnamed: 15</th>\n",
       "      <th>Unnamed: 16</th>\n",
       "    </tr>\n",
       "  </thead>\n",
       "  <tbody>\n",
       "    <tr>\n",
       "      <th>0</th>\n",
       "      <td>1000002330</td>\n",
       "      <td>The Songs of Adelaide &amp; Abullah</td>\n",
       "      <td>Poetry</td>\n",
       "      <td>Publishing</td>\n",
       "      <td>GBP</td>\n",
       "      <td>2015-10-09 11:36:00</td>\n",
       "      <td>1000</td>\n",
       "      <td>2015-08-11 12:12:28</td>\n",
       "      <td>0</td>\n",
       "      <td>failed</td>\n",
       "      <td>0</td>\n",
       "      <td>GB</td>\n",
       "      <td>0</td>\n",
       "      <td>NaN</td>\n",
       "      <td>NaN</td>\n",
       "      <td>NaN</td>\n",
       "      <td>NaN</td>\n",
       "    </tr>\n",
       "    <tr>\n",
       "      <th>1</th>\n",
       "      <td>1000004038</td>\n",
       "      <td>Where is Hank?</td>\n",
       "      <td>Narrative Film</td>\n",
       "      <td>Film &amp; Video</td>\n",
       "      <td>USD</td>\n",
       "      <td>2013-02-26 00:20:50</td>\n",
       "      <td>45000</td>\n",
       "      <td>2013-01-12 00:20:50</td>\n",
       "      <td>220</td>\n",
       "      <td>failed</td>\n",
       "      <td>3</td>\n",
       "      <td>US</td>\n",
       "      <td>220</td>\n",
       "      <td>NaN</td>\n",
       "      <td>NaN</td>\n",
       "      <td>NaN</td>\n",
       "      <td>NaN</td>\n",
       "    </tr>\n",
       "    <tr>\n",
       "      <th>2</th>\n",
       "      <td>1000007540</td>\n",
       "      <td>ToshiCapital Rekordz Needs Help to Complete Album</td>\n",
       "      <td>Music</td>\n",
       "      <td>Music</td>\n",
       "      <td>USD</td>\n",
       "      <td>2012-04-16 04:24:11</td>\n",
       "      <td>5000</td>\n",
       "      <td>2012-03-17 03:24:11</td>\n",
       "      <td>1</td>\n",
       "      <td>failed</td>\n",
       "      <td>1</td>\n",
       "      <td>US</td>\n",
       "      <td>1</td>\n",
       "      <td>NaN</td>\n",
       "      <td>NaN</td>\n",
       "      <td>NaN</td>\n",
       "      <td>NaN</td>\n",
       "    </tr>\n",
       "    <tr>\n",
       "      <th>3</th>\n",
       "      <td>1000011046</td>\n",
       "      <td>Community Film Project: The Art of Neighborhoo...</td>\n",
       "      <td>Film &amp; Video</td>\n",
       "      <td>Film &amp; Video</td>\n",
       "      <td>USD</td>\n",
       "      <td>2015-08-29 01:00:00</td>\n",
       "      <td>19500</td>\n",
       "      <td>2015-07-04 08:35:03</td>\n",
       "      <td>1283</td>\n",
       "      <td>canceled</td>\n",
       "      <td>14</td>\n",
       "      <td>US</td>\n",
       "      <td>1283</td>\n",
       "      <td>NaN</td>\n",
       "      <td>NaN</td>\n",
       "      <td>NaN</td>\n",
       "      <td>NaN</td>\n",
       "    </tr>\n",
       "    <tr>\n",
       "      <th>4</th>\n",
       "      <td>1000014025</td>\n",
       "      <td>Monarch Espresso Bar</td>\n",
       "      <td>Restaurants</td>\n",
       "      <td>Food</td>\n",
       "      <td>USD</td>\n",
       "      <td>2016-04-01 13:38:27</td>\n",
       "      <td>50000</td>\n",
       "      <td>2016-02-26 13:38:27</td>\n",
       "      <td>52375</td>\n",
       "      <td>successful</td>\n",
       "      <td>224</td>\n",
       "      <td>US</td>\n",
       "      <td>52375</td>\n",
       "      <td>NaN</td>\n",
       "      <td>NaN</td>\n",
       "      <td>NaN</td>\n",
       "      <td>NaN</td>\n",
       "    </tr>\n",
       "  </tbody>\n",
       "</table>\n",
       "</div>"
      ],
      "text/plain": [
       "          ID                                               name   \\\n",
       "0  1000002330                    The Songs of Adelaide & Abullah   \n",
       "1  1000004038                                     Where is Hank?   \n",
       "2  1000007540  ToshiCapital Rekordz Needs Help to Complete Album   \n",
       "3  1000011046  Community Film Project: The Art of Neighborhoo...   \n",
       "4  1000014025                               Monarch Espresso Bar   \n",
       "\n",
       "        category  main_category  currency             deadline   goal   \\\n",
       "0          Poetry     Publishing       GBP  2015-10-09 11:36:00   1000   \n",
       "1  Narrative Film   Film & Video       USD  2013-02-26 00:20:50  45000   \n",
       "2           Music          Music       USD  2012-04-16 04:24:11   5000   \n",
       "3    Film & Video   Film & Video       USD  2015-08-29 01:00:00  19500   \n",
       "4     Restaurants           Food       USD  2016-04-01 13:38:27  50000   \n",
       "\n",
       "             launched  pledged       state  backers  country  usd pledged   \\\n",
       "0  2015-08-11 12:12:28        0      failed        0       GB            0   \n",
       "1  2013-01-12 00:20:50      220      failed        3       US          220   \n",
       "2  2012-03-17 03:24:11        1      failed        1       US            1   \n",
       "3  2015-07-04 08:35:03     1283    canceled       14       US         1283   \n",
       "4  2016-02-26 13:38:27    52375  successful      224       US        52375   \n",
       "\n",
       "  Unnamed: 13 Unnamed: 14 Unnamed: 15  Unnamed: 16  \n",
       "0         NaN         NaN         NaN          NaN  \n",
       "1         NaN         NaN         NaN          NaN  \n",
       "2         NaN         NaN         NaN          NaN  \n",
       "3         NaN         NaN         NaN          NaN  \n",
       "4         NaN         NaN         NaN          NaN  "
      ]
     },
     "execution_count": 5,
     "metadata": {},
     "output_type": "execute_result"
    }
   ],
   "source": [
    "df2.head()"
   ]
  },
  {
   "cell_type": "markdown",
   "metadata": {},
   "source": [
    "## データの基礎集計\n",
    "\n",
    "### データフレームの概要\n",
    "- pandas.DataFrame の info メソッドを利用する"
   ]
  },
  {
   "cell_type": "code",
   "execution_count": 6,
   "metadata": {},
   "outputs": [
    {
     "name": "stdout",
     "output_type": "stream",
     "text": [
      "<class 'pandas.core.frame.DataFrame'>\n",
      "Int64Index: 378661 entries, 1000002330 to 999988282\n",
      "Data columns (total 14 columns):\n",
      " #   Column            Non-Null Count   Dtype  \n",
      "---  ------            --------------   -----  \n",
      " 0   name              378657 non-null  object \n",
      " 1   category          378661 non-null  object \n",
      " 2   main_category     378661 non-null  object \n",
      " 3   currency          378661 non-null  object \n",
      " 4   deadline          378661 non-null  object \n",
      " 5   goal              378661 non-null  float64\n",
      " 6   launched          378661 non-null  object \n",
      " 7   pledged           378661 non-null  float64\n",
      " 8   state             378661 non-null  object \n",
      " 9   backers           378661 non-null  int64  \n",
      " 10  country           378661 non-null  object \n",
      " 11  usd pledged       374864 non-null  float64\n",
      " 12  usd_pledged_real  378661 non-null  float64\n",
      " 13  usd_goal_real     378661 non-null  float64\n",
      "dtypes: float64(5), int64(1), object(8)\n",
      "memory usage: 43.3+ MB\n"
     ]
    }
   ],
   "source": [
    "df.info()"
   ]
  },
  {
   "cell_type": "markdown",
   "metadata": {},
   "source": [
    "### 連続変数の基礎集計\n",
    "- pandas.DataFrame の describe メソッドを利用する"
   ]
  },
  {
   "cell_type": "code",
   "execution_count": 7,
   "metadata": {},
   "outputs": [
    {
     "data": {
      "text/html": [
       "<div>\n",
       "<style scoped>\n",
       "    .dataframe tbody tr th:only-of-type {\n",
       "        vertical-align: middle;\n",
       "    }\n",
       "\n",
       "    .dataframe tbody tr th {\n",
       "        vertical-align: top;\n",
       "    }\n",
       "\n",
       "    .dataframe thead th {\n",
       "        text-align: right;\n",
       "    }\n",
       "</style>\n",
       "<table border=\"1\" class=\"dataframe\">\n",
       "  <thead>\n",
       "    <tr style=\"text-align: right;\">\n",
       "      <th></th>\n",
       "      <th>goal</th>\n",
       "      <th>pledged</th>\n",
       "      <th>backers</th>\n",
       "      <th>usd pledged</th>\n",
       "      <th>usd_pledged_real</th>\n",
       "      <th>usd_goal_real</th>\n",
       "    </tr>\n",
       "  </thead>\n",
       "  <tbody>\n",
       "    <tr>\n",
       "      <th>count</th>\n",
       "      <td>3.786610e+05</td>\n",
       "      <td>3.786610e+05</td>\n",
       "      <td>378661.000000</td>\n",
       "      <td>3.748640e+05</td>\n",
       "      <td>3.786610e+05</td>\n",
       "      <td>3.786610e+05</td>\n",
       "    </tr>\n",
       "    <tr>\n",
       "      <th>mean</th>\n",
       "      <td>4.908079e+04</td>\n",
       "      <td>9.682979e+03</td>\n",
       "      <td>105.617476</td>\n",
       "      <td>7.036729e+03</td>\n",
       "      <td>9.058924e+03</td>\n",
       "      <td>4.545440e+04</td>\n",
       "    </tr>\n",
       "    <tr>\n",
       "      <th>std</th>\n",
       "      <td>1.183391e+06</td>\n",
       "      <td>9.563601e+04</td>\n",
       "      <td>907.185035</td>\n",
       "      <td>7.863975e+04</td>\n",
       "      <td>9.097334e+04</td>\n",
       "      <td>1.152950e+06</td>\n",
       "    </tr>\n",
       "    <tr>\n",
       "      <th>min</th>\n",
       "      <td>1.000000e-02</td>\n",
       "      <td>0.000000e+00</td>\n",
       "      <td>0.000000</td>\n",
       "      <td>0.000000e+00</td>\n",
       "      <td>0.000000e+00</td>\n",
       "      <td>1.000000e-02</td>\n",
       "    </tr>\n",
       "    <tr>\n",
       "      <th>25%</th>\n",
       "      <td>2.000000e+03</td>\n",
       "      <td>3.000000e+01</td>\n",
       "      <td>2.000000</td>\n",
       "      <td>1.698000e+01</td>\n",
       "      <td>3.100000e+01</td>\n",
       "      <td>2.000000e+03</td>\n",
       "    </tr>\n",
       "    <tr>\n",
       "      <th>50%</th>\n",
       "      <td>5.200000e+03</td>\n",
       "      <td>6.200000e+02</td>\n",
       "      <td>12.000000</td>\n",
       "      <td>3.947200e+02</td>\n",
       "      <td>6.243300e+02</td>\n",
       "      <td>5.500000e+03</td>\n",
       "    </tr>\n",
       "    <tr>\n",
       "      <th>75%</th>\n",
       "      <td>1.600000e+04</td>\n",
       "      <td>4.076000e+03</td>\n",
       "      <td>56.000000</td>\n",
       "      <td>3.034090e+03</td>\n",
       "      <td>4.050000e+03</td>\n",
       "      <td>1.550000e+04</td>\n",
       "    </tr>\n",
       "    <tr>\n",
       "      <th>max</th>\n",
       "      <td>1.000000e+08</td>\n",
       "      <td>2.033899e+07</td>\n",
       "      <td>219382.000000</td>\n",
       "      <td>2.033899e+07</td>\n",
       "      <td>2.033899e+07</td>\n",
       "      <td>1.663614e+08</td>\n",
       "    </tr>\n",
       "  </tbody>\n",
       "</table>\n",
       "</div>"
      ],
      "text/plain": [
       "               goal       pledged        backers   usd pledged  \\\n",
       "count  3.786610e+05  3.786610e+05  378661.000000  3.748640e+05   \n",
       "mean   4.908079e+04  9.682979e+03     105.617476  7.036729e+03   \n",
       "std    1.183391e+06  9.563601e+04     907.185035  7.863975e+04   \n",
       "min    1.000000e-02  0.000000e+00       0.000000  0.000000e+00   \n",
       "25%    2.000000e+03  3.000000e+01       2.000000  1.698000e+01   \n",
       "50%    5.200000e+03  6.200000e+02      12.000000  3.947200e+02   \n",
       "75%    1.600000e+04  4.076000e+03      56.000000  3.034090e+03   \n",
       "max    1.000000e+08  2.033899e+07  219382.000000  2.033899e+07   \n",
       "\n",
       "       usd_pledged_real  usd_goal_real  \n",
       "count      3.786610e+05   3.786610e+05  \n",
       "mean       9.058924e+03   4.545440e+04  \n",
       "std        9.097334e+04   1.152950e+06  \n",
       "min        0.000000e+00   1.000000e-02  \n",
       "25%        3.100000e+01   2.000000e+03  \n",
       "50%        6.243300e+02   5.500000e+03  \n",
       "75%        4.050000e+03   1.550000e+04  \n",
       "max        2.033899e+07   1.663614e+08  "
      ]
     },
     "execution_count": 7,
     "metadata": {},
     "output_type": "execute_result"
    }
   ],
   "source": [
    "df.describe()"
   ]
  },
  {
   "cell_type": "markdown",
   "metadata": {},
   "source": [
    "### （参考）離散変数の基礎集計\n",
    "- pandas.Series の value_counts メソッドを利用する\n",
    "    - ただし，カテゴリ数が大きいと省略されてしまうため，非推奨"
   ]
  },
  {
   "cell_type": "code",
   "execution_count": 8,
   "metadata": {},
   "outputs": [],
   "source": [
    "# for col, dtype in df.dtypes.items():\n",
    "#     if dtype == 'object':\n",
    "#         print(col)\n",
    "#         display(df[col].value_counts())"
   ]
  },
  {
   "cell_type": "markdown",
   "metadata": {},
   "source": [
    "## 有効な説明変数の選択\n",
    "以下は，説明変数として利用するのには不適切である．\n",
    "- ID: 基本的に説明変数として利用しない．例えば，番号の若いデータには正例，そうでないデータには負例が集められているなど，恣意的に決定された値であることがある．その場合，リーケージに直結するため，説明変数として利用しないことが適切である．ID は，データフレームの作成時にインデックスナンバーとして読み込んでしまえば，誤って説明変数として利用することがないため安全である．\n",
    "- pledged: プロジェクト終了時に判明する説明変数であり，リーケージを引き起こすため，利用しない．\n",
    "- backers: プロジェクト終了時に判明する説明変数であり，リーケージを引き起こすため，利用しない．\n",
    "- usd pledged: プロジェクト終了時に判明する説明変数であり，リーケージを引き起こすため，利用しない．\n",
    "- usd_pledged_real: プロジェクト終了時に判明する説明変数であり，リーケージを引き起こすため，利用しない．\n",
    "- goal: usd_goal_real と重複している．こちらは，通貨単位がバラバラなので利用しづらいと判断して削除．\n",
    "- state: 目的変数である．削除はしない．"
   ]
  },
  {
   "cell_type": "code",
   "execution_count": 9,
   "metadata": {},
   "outputs": [],
   "source": [
    "df = df.drop(columns=['pledged', 'backers', 'usd pledged', 'usd_pledged_real', 'goal'])"
   ]
  },
  {
   "cell_type": "code",
   "execution_count": 10,
   "metadata": {},
   "outputs": [
    {
     "data": {
      "text/html": [
       "<div>\n",
       "<style scoped>\n",
       "    .dataframe tbody tr th:only-of-type {\n",
       "        vertical-align: middle;\n",
       "    }\n",
       "\n",
       "    .dataframe tbody tr th {\n",
       "        vertical-align: top;\n",
       "    }\n",
       "\n",
       "    .dataframe thead th {\n",
       "        text-align: right;\n",
       "    }\n",
       "</style>\n",
       "<table border=\"1\" class=\"dataframe\">\n",
       "  <thead>\n",
       "    <tr style=\"text-align: right;\">\n",
       "      <th></th>\n",
       "      <th>name</th>\n",
       "      <th>category</th>\n",
       "      <th>main_category</th>\n",
       "      <th>currency</th>\n",
       "      <th>deadline</th>\n",
       "      <th>launched</th>\n",
       "      <th>state</th>\n",
       "      <th>country</th>\n",
       "      <th>usd_goal_real</th>\n",
       "    </tr>\n",
       "    <tr>\n",
       "      <th>ID</th>\n",
       "      <th></th>\n",
       "      <th></th>\n",
       "      <th></th>\n",
       "      <th></th>\n",
       "      <th></th>\n",
       "      <th></th>\n",
       "      <th></th>\n",
       "      <th></th>\n",
       "      <th></th>\n",
       "    </tr>\n",
       "  </thead>\n",
       "  <tbody>\n",
       "    <tr>\n",
       "      <th>1000002330</th>\n",
       "      <td>The Songs of Adelaide &amp; Abullah</td>\n",
       "      <td>Poetry</td>\n",
       "      <td>Publishing</td>\n",
       "      <td>GBP</td>\n",
       "      <td>2015-10-09</td>\n",
       "      <td>2015-08-11 12:12:28</td>\n",
       "      <td>failed</td>\n",
       "      <td>GB</td>\n",
       "      <td>1533.95</td>\n",
       "    </tr>\n",
       "    <tr>\n",
       "      <th>1000003930</th>\n",
       "      <td>Greeting From Earth: ZGAC Arts Capsule For ET</td>\n",
       "      <td>Narrative Film</td>\n",
       "      <td>Film &amp; Video</td>\n",
       "      <td>USD</td>\n",
       "      <td>2017-11-01</td>\n",
       "      <td>2017-09-02 04:43:57</td>\n",
       "      <td>failed</td>\n",
       "      <td>US</td>\n",
       "      <td>30000.00</td>\n",
       "    </tr>\n",
       "    <tr>\n",
       "      <th>1000004038</th>\n",
       "      <td>Where is Hank?</td>\n",
       "      <td>Narrative Film</td>\n",
       "      <td>Film &amp; Video</td>\n",
       "      <td>USD</td>\n",
       "      <td>2013-02-26</td>\n",
       "      <td>2013-01-12 00:20:50</td>\n",
       "      <td>failed</td>\n",
       "      <td>US</td>\n",
       "      <td>45000.00</td>\n",
       "    </tr>\n",
       "    <tr>\n",
       "      <th>1000007540</th>\n",
       "      <td>ToshiCapital Rekordz Needs Help to Complete Album</td>\n",
       "      <td>Music</td>\n",
       "      <td>Music</td>\n",
       "      <td>USD</td>\n",
       "      <td>2012-04-16</td>\n",
       "      <td>2012-03-17 03:24:11</td>\n",
       "      <td>failed</td>\n",
       "      <td>US</td>\n",
       "      <td>5000.00</td>\n",
       "    </tr>\n",
       "    <tr>\n",
       "      <th>1000011046</th>\n",
       "      <td>Community Film Project: The Art of Neighborhoo...</td>\n",
       "      <td>Film &amp; Video</td>\n",
       "      <td>Film &amp; Video</td>\n",
       "      <td>USD</td>\n",
       "      <td>2015-08-29</td>\n",
       "      <td>2015-07-04 08:35:03</td>\n",
       "      <td>canceled</td>\n",
       "      <td>US</td>\n",
       "      <td>19500.00</td>\n",
       "    </tr>\n",
       "  </tbody>\n",
       "</table>\n",
       "</div>"
      ],
      "text/plain": [
       "                                                         name        category  \\\n",
       "ID                                                                              \n",
       "1000002330                    The Songs of Adelaide & Abullah          Poetry   \n",
       "1000003930      Greeting From Earth: ZGAC Arts Capsule For ET  Narrative Film   \n",
       "1000004038                                     Where is Hank?  Narrative Film   \n",
       "1000007540  ToshiCapital Rekordz Needs Help to Complete Album           Music   \n",
       "1000011046  Community Film Project: The Art of Neighborhoo...    Film & Video   \n",
       "\n",
       "           main_category currency    deadline             launched     state  \\\n",
       "ID                                                                             \n",
       "1000002330    Publishing      GBP  2015-10-09  2015-08-11 12:12:28    failed   \n",
       "1000003930  Film & Video      USD  2017-11-01  2017-09-02 04:43:57    failed   \n",
       "1000004038  Film & Video      USD  2013-02-26  2013-01-12 00:20:50    failed   \n",
       "1000007540         Music      USD  2012-04-16  2012-03-17 03:24:11    failed   \n",
       "1000011046  Film & Video      USD  2015-08-29  2015-07-04 08:35:03  canceled   \n",
       "\n",
       "           country  usd_goal_real  \n",
       "ID                                 \n",
       "1000002330      GB        1533.95  \n",
       "1000003930      US       30000.00  \n",
       "1000004038      US       45000.00  \n",
       "1000007540      US        5000.00  \n",
       "1000011046      US       19500.00  "
      ]
     },
     "execution_count": 10,
     "metadata": {},
     "output_type": "execute_result"
    }
   ],
   "source": [
    "df.head()"
   ]
  },
  {
   "cell_type": "markdown",
   "metadata": {},
   "source": [
    "また，launched と deadline から，期間を表す変数 period を作成する"
   ]
  },
  {
   "cell_type": "code",
   "execution_count": 11,
   "metadata": {},
   "outputs": [],
   "source": [
    "# 日時に関する変数を TimeStamp に変換\n",
    "df['deadline'] = pd.to_datetime(df['deadline'])\n",
    "df['launched'] = pd.to_datetime(df['launched'])"
   ]
  },
  {
   "cell_type": "code",
   "execution_count": 12,
   "metadata": {},
   "outputs": [],
   "source": [
    "# 期間の変数を作成\n",
    "df['period'] = (df['deadline'] - df['launched']).dt.days "
   ]
  },
  {
   "cell_type": "markdown",
   "metadata": {},
   "source": [
    "## データの可視化及び欠損値・異常値の処理\n",
    "\n",
    "### 連続変数の可視化及び異常値の処理\n",
    "- seaborn の pairplot によって散布図行列を描画する\n",
    "    - 描画には数分ほど時間がかかる場合がある"
   ]
  },
  {
   "cell_type": "code",
   "execution_count": 13,
   "metadata": {},
   "outputs": [
    {
     "data": {
      "text/plain": [
       "<seaborn.axisgrid.PairGrid at 0x7fccb89544a8>"
      ]
     },
     "execution_count": 13,
     "metadata": {},
     "output_type": "execute_result"
    },
    {
     "data": {
      "image/png": "[encoded data removed]",
      "text/plain": [
       "<Figure size 360x360 with 6 Axes>"
      ]
     },
     "metadata": {
      "needs_background": "light"
     },
     "output_type": "display_data"
    }
   ],
   "source": [
    "sns.pairplot(df)"
   ]
  },
  {
   "cell_type": "markdown",
   "metadata": {},
   "source": [
    "散布図行列から，以下のことがわかる．\n",
    "- period が 10000 以上のデータが数件 -> 異常値として除去"
   ]
  },
  {
   "cell_type": "code",
   "execution_count": 14,
   "metadata": {},
   "outputs": [],
   "source": [
    "df = df[df['period'] < 10000] # 異常値の除去"
   ]
  },
  {
   "cell_type": "code",
   "execution_count": 15,
   "metadata": {},
   "outputs": [
    {
     "data": {
      "text/plain": [
       "<seaborn.axisgrid.PairGrid at 0x7fccb98fd3c8>"
      ]
     },
     "execution_count": 15,
     "metadata": {},
     "output_type": "execute_result"
    },
    {
     "data": {
      "image/png": "[encoded data removed]",
      "text/plain": [
       "<Figure size 360x360 with 6 Axes>"
      ]
     },
     "metadata": {
      "needs_background": "light"
     },
     "output_type": "display_data"
    }
   ],
   "source": [
    "sns.pairplot(df) # 再描画"
   ]
  },
  {
   "cell_type": "markdown",
   "metadata": {},
   "source": [
    "- ヒストグラムから，usd_goal_real は右に大きく歪んだ分布を描くことがわかる -> 対数変換を検討"
   ]
  },
  {
   "cell_type": "code",
   "execution_count": 16,
   "metadata": {},
   "outputs": [
    {
     "name": "stderr",
     "output_type": "stream",
     "text": [
      "/Users/mizoguchi/anaconda3/lib/python3.7/site-packages/ipykernel_launcher.py:2: SettingWithCopyWarning: \n",
      "A value is trying to be set on a copy of a slice from a DataFrame.\n",
      "Try using .loc[row_indexer,col_indexer] = value instead\n",
      "\n",
      "See the caveats in the documentation: https://pandas.pydata.org/pandas-docs/stable/user_guide/indexing.html#returning-a-view-versus-a-copy\n",
      "  \n"
     ]
    },
    {
     "data": {
      "text/plain": [
       "<seaborn.axisgrid.PairGrid at 0x7fccba777c18>"
      ]
     },
     "execution_count": 16,
     "metadata": {},
     "output_type": "execute_result"
    },
    {
     "data": {
      "image/png": "[encoded data removed]",
      "text/plain": [
       "<Figure size 360x360 with 6 Axes>"
      ]
     },
     "metadata": {
      "needs_background": "light"
     },
     "output_type": "display_data"
    }
   ],
   "source": [
    "epsilon = 1e-5 # 対数変換の際に負の無限大に発散しないようにフロアリングするパラメータ\n",
    "df['log_usd_goal'] = df['usd_goal_real'].apply(lambda x: np.log10(x + epsilon))\n",
    "\n",
    "sns.pairplot(df[['log_usd_goal', 'period']])"
   ]
  },
  {
   "cell_type": "markdown",
   "metadata": {},
   "source": [
    "### 離散変数の可視化，変数選択，及び異常値の処理\n",
    "- state に関する円グラフを表示する"
   ]
  },
  {
   "cell_type": "code",
   "execution_count": 17,
   "metadata": {},
   "outputs": [
    {
     "data": {
      "image/png": "[encoded data removed]",
      "text/plain": [
       "<Figure size 288x288 with 1 Axes>"
      ]
     },
     "metadata": {},
     "output_type": "display_data"
    }
   ],
   "source": [
    "per_state = round(df['state'].value_counts() / len(df['state']) * 100,2)\n",
    "values = list(per_state.values)\n",
    "\n",
    "# 円グラフ\n",
    "plt.figure(figsize=(4,4))\n",
    "plt.pie(values, labels=list(per_state.index),\n",
    "        wedgeprops={'linewidth': 2,'edgecolor':'white'},\n",
    "        textprops={'color': 'white', 'weight': 'bold'},\n",
    "        counterclock=False,startangle=90,\n",
    "        autopct=lambda p: '{:.1f}%'.format(p) if p >= 2.5 else '')\n",
    "lgnd=plt.legend(bbox_to_anchor=(1.0, 0.25, 1.55, 0.5), loc=\"center left\", borderaxespad=0.)\n",
    "plt.axis('equal')\n",
    "plt.show()"
   ]
  },
  {
   "cell_type": "markdown",
   "metadata": {},
   "source": [
    "成功（successful）と失敗（failed）以外のデータを除外する"
   ]
  },
  {
   "cell_type": "code",
   "execution_count": 18,
   "metadata": {},
   "outputs": [],
   "source": [
    "df = df[(df['state'] == 'successful') | (df['state'] == 'failed')]"
   ]
  },
  {
   "cell_type": "code",
   "execution_count": 19,
   "metadata": {},
   "outputs": [
    {
     "data": {
      "image/png": "[encoded data removed]",
      "text/plain": [
       "<Figure size 288x288 with 1 Axes>"
      ]
     },
     "metadata": {},
     "output_type": "display_data"
    }
   ],
   "source": [
    "# 再描画\n",
    "per_state = round(df['state'].value_counts() / len(df['state']) * 100,2)\n",
    "values = list(per_state.values)\n",
    "\n",
    "# 円グラフ\n",
    "plt.figure(figsize=(4,4))\n",
    "plt.pie(values, labels=list(per_state.index),\n",
    "        wedgeprops={'linewidth': 2,'edgecolor':'white'},\n",
    "        textprops={'color': 'white', 'weight': 'bold'},\n",
    "        counterclock=False,startangle=90,\n",
    "        autopct=lambda p: '{:.1f}%'.format(p) if p >= 2.5 else '')\n",
    "lgnd=plt.legend(bbox_to_anchor=(1.0, 0.25, 1.55, 0.5), loc=\"center left\", borderaxespad=0.)\n",
    "plt.axis('equal')\n",
    "plt.show()"
   ]
  },
  {
   "cell_type": "markdown",
   "metadata": {},
   "source": [
    "続いて，離散変数同士の関連性を見る．下記では，連関係数を用いた議論を行うが，講座範囲外であるためクロス集計表の目視によって変数選択をしても十分である．"
   ]
  },
  {
   "cell_type": "code",
   "execution_count": 20,
   "metadata": {},
   "outputs": [
    {
     "name": "stdout",
     "output_type": "stream",
     "text": [
      "name\n",
      "category\n",
      "main_category\n",
      "currency\n",
      "state\n",
      "country\n"
     ]
    }
   ],
   "source": [
    "# object 型の変数名を表示\n",
    "for col, dtype in df.dtypes.items():\n",
    "    if dtype == 'object':\n",
    "        print(col)"
   ]
  },
  {
   "cell_type": "markdown",
   "metadata": {},
   "source": [
    "以下について，クロス集計表を作成し，[連関係数](https://qiita.com/shngt/items/45da2d30acf9e84924b7#クラメールの連関係数)を算出\n",
    "- category と main_category\n",
    "- currency と country"
   ]
  },
  {
   "cell_type": "code",
   "execution_count": 21,
   "metadata": {},
   "outputs": [],
   "source": [
    "# 連関係数を求める関数\n",
    "def cramer_coef(x):\n",
    "    chi2 = st.chi2_contingency(x)[0]\n",
    "    return np.sqrt(chi2 / x.sum() / (min(x.shape) - 1))"
   ]
  },
  {
   "cell_type": "code",
   "execution_count": 22,
   "metadata": {},
   "outputs": [
    {
     "data": {
      "text/plain": [
       "0.9862372840283602"
      ]
     },
     "execution_count": 22,
     "metadata": {},
     "output_type": "execute_result"
    }
   ],
   "source": [
    "# category vs main_category\n",
    "ct_category = pd.crosstab(df['category'], df['main_category'])\n",
    "cramer_coef(ct_category.to_numpy())"
   ]
  },
  {
   "cell_type": "markdown",
   "metadata": {},
   "source": [
    "非常に大きな連関係数が得られたため，片方の変数を用いれば十分であると判断する．変数選択の基準としては以下が考えられる．\n",
    "- より細かな category を採用し，カテゴリ数削減のためにまとめる\n",
    "- main_category を採用する\n",
    "\n",
    "今回は簡単のため，後者とする"
   ]
  },
  {
   "cell_type": "code",
   "execution_count": 23,
   "metadata": {},
   "outputs": [],
   "source": [
    "df = df.drop(columns=['category'])"
   ]
  },
  {
   "cell_type": "code",
   "execution_count": 24,
   "metadata": {},
   "outputs": [
    {
     "data": {
      "text/plain": [
       "0.9995956562579831"
      ]
     },
     "execution_count": 24,
     "metadata": {},
     "output_type": "execute_result"
    }
   ],
   "source": [
    "# country vs currency\n",
    "ct_country = pd.crosstab(df['country'], df['currency'])\n",
    "cramer_coef(ct_country.to_numpy())"
   ]
  },
  {
   "cell_type": "markdown",
   "metadata": {},
   "source": [
    "非常に大きな連関係数が得られたため，片方の変数を用いれば十分であると判断する．変数選択の基準としては以下が考えられる．\n",
    "- country を採用する\n",
    "- currency を採用する\n",
    "\n",
    "この状況では判断が難しいので，後で判断することにする"
   ]
  },
  {
   "cell_type": "markdown",
   "metadata": {},
   "source": [
    "### 欠損値の処理"
   ]
  },
  {
   "cell_type": "code",
   "execution_count": 25,
   "metadata": {},
   "outputs": [
    {
     "data": {
      "text/plain": [
       "name             3\n",
       "main_category    0\n",
       "currency         0\n",
       "deadline         0\n",
       "launched         0\n",
       "state            0\n",
       "country          0\n",
       "usd_goal_real    0\n",
       "period           0\n",
       "log_usd_goal     0\n",
       "dtype: int64"
      ]
     },
     "execution_count": 25,
     "metadata": {},
     "output_type": "execute_result"
    }
   ],
   "source": [
    "df.isnull().sum()"
   ]
  },
  {
   "cell_type": "markdown",
   "metadata": {},
   "source": [
    "name 列から後ほど特徴量を作成することを考慮して，行を削除"
   ]
  },
  {
   "cell_type": "code",
   "execution_count": 26,
   "metadata": {},
   "outputs": [],
   "source": [
    "df = df.dropna(axis=0)"
   ]
  },
  {
   "cell_type": "code",
   "execution_count": 27,
   "metadata": {},
   "outputs": [
    {
     "data": {
      "text/plain": [
       "name             0\n",
       "main_category    0\n",
       "currency         0\n",
       "deadline         0\n",
       "launched         0\n",
       "state            0\n",
       "country          0\n",
       "usd_goal_real    0\n",
       "period           0\n",
       "log_usd_goal     0\n",
       "dtype: int64"
      ]
     },
     "execution_count": 27,
     "metadata": {},
     "output_type": "execute_result"
    }
   ],
   "source": [
    "# 再表示\n",
    "df.isnull().sum()"
   ]
  },
  {
   "cell_type": "code",
   "execution_count": 28,
   "metadata": {},
   "outputs": [
    {
     "name": "stdout",
     "output_type": "stream",
     "text": [
      "name\n"
     ]
    },
    {
     "data": {
      "text/plain": [
       "New EP/Music Development                      15\n",
       "Music Video                                   11\n",
       "New EP / Music Development                    10\n",
       "Debut Album                                    9\n",
       "Reflections                                    9\n",
       "                                              ..\n",
       "Know Thy Neighbor                              1\n",
       "Booze & Ballet Choreographic project           1\n",
       "ALONE IN SPACE                                 1\n",
       "Salad Bowls: The life and story of a tree.     1\n",
       "The Value of a Man                             1\n",
       "Name: name, Length: 329594, dtype: int64"
      ]
     },
     "metadata": {},
     "output_type": "display_data"
    },
    {
     "name": "stdout",
     "output_type": "stream",
     "text": [
      "main_category\n"
     ]
    },
    {
     "data": {
      "text/plain": [
       "Film & Video    56526\n",
       "Music           45949\n",
       "Publishing      35445\n",
       "Games           28520\n",
       "Technology      27050\n",
       "Art             25640\n",
       "Design          25364\n",
       "Food            22054\n",
       "Fashion         19775\n",
       "Theater         10242\n",
       "Comics           9878\n",
       "Photography      9689\n",
       "Crafts           7818\n",
       "Journalism       4149\n",
       "Dance            3573\n",
       "Name: main_category, dtype: int64"
      ]
     },
     "metadata": {},
     "output_type": "display_data"
    },
    {
     "name": "stdout",
     "output_type": "stream",
     "text": [
      "currency\n"
     ]
    },
    {
     "data": {
      "text/plain": [
       "USD    261509\n",
       "GBP     29475\n",
       "EUR     14378\n",
       "CAD     12375\n",
       "AUD      6621\n",
       "SEK      1510\n",
       "MXN      1411\n",
       "NZD      1274\n",
       "DKK       929\n",
       "CHF       652\n",
       "NOK       584\n",
       "HKD       477\n",
       "SGD       454\n",
       "JPY        23\n",
       "Name: currency, dtype: int64"
      ]
     },
     "metadata": {},
     "output_type": "display_data"
    },
    {
     "name": "stdout",
     "output_type": "stream",
     "text": [
      "state\n"
     ]
    },
    {
     "data": {
      "text/plain": [
       "failed        197716\n",
       "successful    133956\n",
       "Name: state, dtype: int64"
      ]
     },
     "metadata": {},
     "output_type": "display_data"
    },
    {
     "name": "stdout",
     "output_type": "stream",
     "text": [
      "country\n"
     ]
    },
    {
     "data": {
      "text/plain": [
       "US      261358\n",
       "GB       29453\n",
       "CA       12370\n",
       "AU        6616\n",
       "DE        3436\n",
       "FR        2520\n",
       "NL        2411\n",
       "IT        2369\n",
       "ES        1873\n",
       "SE        1509\n",
       "MX        1411\n",
       "NZ        1274\n",
       "DK         926\n",
       "IE         683\n",
       "CH         652\n",
       "NO         582\n",
       "BE         523\n",
       "AT         485\n",
       "HK         477\n",
       "SG         454\n",
       "N,0\"       210\n",
       "LU          57\n",
       "JP          23\n",
       "Name: country, dtype: int64"
      ]
     },
     "metadata": {},
     "output_type": "display_data"
    }
   ],
   "source": [
    "for col, dtype in df.dtypes.items():\n",
    "    if dtype == 'object':\n",
    "        print(col)\n",
    "        display(df[col].value_counts())"
   ]
  },
  {
   "cell_type": "markdown",
   "metadata": {},
   "source": [
    "country 列に`N,0\"`なる不明な値があるので，分析する"
   ]
  },
  {
   "cell_type": "code",
   "execution_count": 29,
   "metadata": {},
   "outputs": [
    {
     "data": {
      "text/plain": [
       "USD    151\n",
       "GBP     22\n",
       "EUR     21\n",
       "AUD      5\n",
       "CAD      5\n",
       "DKK      3\n",
       "NOK      2\n",
       "SEK      1\n",
       "Name: currency, dtype: int64"
      ]
     },
     "execution_count": 29,
     "metadata": {},
     "output_type": "execute_result"
    }
   ],
   "source": [
    "df[df['country'] == 'N,0\"']['currency'].value_counts()"
   ]
  },
  {
   "cell_type": "markdown",
   "metadata": {},
   "source": [
    "country は currency と強い連関があったため，country 列を削除しても良いと判断する"
   ]
  },
  {
   "cell_type": "code",
   "execution_count": 30,
   "metadata": {},
   "outputs": [],
   "source": [
    "df = df.drop(columns='country')"
   ]
  },
  {
   "cell_type": "markdown",
   "metadata": {},
   "source": [
    "## 質的変数の処理\n",
    "現状，質的変数として残存しているのは以下である\n",
    "- name: 単語数を抽出\n",
    "- main_category: ワンホットベクトルに変換\n",
    "- currency: ワンホットベクトルに変換\n",
    "- state: バイナリに変換"
   ]
  },
  {
   "cell_type": "code",
   "execution_count": 31,
   "metadata": {},
   "outputs": [],
   "source": [
    "df['n_words'] = df['name'].apply(lambda x: len(str(x).split(' ')))"
   ]
  },
  {
   "cell_type": "code",
   "execution_count": 32,
   "metadata": {},
   "outputs": [
    {
     "name": "stdout",
     "output_type": "stream",
     "text": [
      "<class 'pandas.core.frame.DataFrame'>\n",
      "Int64Index: 331672 entries, 1000002330 to 999988282\n",
      "Data columns (total 10 columns):\n",
      " #   Column         Non-Null Count   Dtype         \n",
      "---  ------         --------------   -----         \n",
      " 0   name           331672 non-null  object        \n",
      " 1   main_category  331672 non-null  object        \n",
      " 2   currency       331672 non-null  object        \n",
      " 3   deadline       331672 non-null  datetime64[ns]\n",
      " 4   launched       331672 non-null  datetime64[ns]\n",
      " 5   state          331672 non-null  object        \n",
      " 6   usd_goal_real  331672 non-null  float64       \n",
      " 7   period         331672 non-null  int64         \n",
      " 8   log_usd_goal   331672 non-null  float64       \n",
      " 9   n_words        331672 non-null  int64         \n",
      "dtypes: datetime64[ns](2), float64(2), int64(2), object(4)\n",
      "memory usage: 27.8+ MB\n"
     ]
    }
   ],
   "source": [
    "df.info()"
   ]
  },
  {
   "cell_type": "code",
   "execution_count": 33,
   "metadata": {},
   "outputs": [],
   "source": [
    "df = df.drop(columns=['name', 'deadline', 'launched'])"
   ]
  },
  {
   "cell_type": "code",
   "execution_count": 34,
   "metadata": {},
   "outputs": [],
   "source": [
    "df = pd.get_dummies(df, drop_first=True)"
   ]
  },
  {
   "cell_type": "code",
   "execution_count": 35,
   "metadata": {},
   "outputs": [
    {
     "name": "stdout",
     "output_type": "stream",
     "text": [
      "<class 'pandas.core.frame.DataFrame'>\n",
      "Int64Index: 331672 entries, 1000002330 to 999988282\n",
      "Data columns (total 32 columns):\n",
      " #   Column                      Non-Null Count   Dtype  \n",
      "---  ------                      --------------   -----  \n",
      " 0   usd_goal_real               331672 non-null  float64\n",
      " 1   period                      331672 non-null  int64  \n",
      " 2   log_usd_goal                331672 non-null  float64\n",
      " 3   n_words                     331672 non-null  int64  \n",
      " 4   main_category_Comics        331672 non-null  uint8  \n",
      " 5   main_category_Crafts        331672 non-null  uint8  \n",
      " 6   main_category_Dance         331672 non-null  uint8  \n",
      " 7   main_category_Design        331672 non-null  uint8  \n",
      " 8   main_category_Fashion       331672 non-null  uint8  \n",
      " 9   main_category_Film & Video  331672 non-null  uint8  \n",
      " 10  main_category_Food          331672 non-null  uint8  \n",
      " 11  main_category_Games         331672 non-null  uint8  \n",
      " 12  main_category_Journalism    331672 non-null  uint8  \n",
      " 13  main_category_Music         331672 non-null  uint8  \n",
      " 14  main_category_Photography   331672 non-null  uint8  \n",
      " 15  main_category_Publishing    331672 non-null  uint8  \n",
      " 16  main_category_Technology    331672 non-null  uint8  \n",
      " 17  main_category_Theater       331672 non-null  uint8  \n",
      " 18  currency_CAD                331672 non-null  uint8  \n",
      " 19  currency_CHF                331672 non-null  uint8  \n",
      " 20  currency_DKK                331672 non-null  uint8  \n",
      " 21  currency_EUR                331672 non-null  uint8  \n",
      " 22  currency_GBP                331672 non-null  uint8  \n",
      " 23  currency_HKD                331672 non-null  uint8  \n",
      " 24  currency_JPY                331672 non-null  uint8  \n",
      " 25  currency_MXN                331672 non-null  uint8  \n",
      " 26  currency_NOK                331672 non-null  uint8  \n",
      " 27  currency_NZD                331672 non-null  uint8  \n",
      " 28  currency_SEK                331672 non-null  uint8  \n",
      " 29  currency_SGD                331672 non-null  uint8  \n",
      " 30  currency_USD                331672 non-null  uint8  \n",
      " 31  state_successful            331672 non-null  uint8  \n",
      "dtypes: float64(2), int64(2), uint8(28)\n",
      "memory usage: 21.5 MB\n"
     ]
    }
   ],
   "source": [
    "df.info()"
   ]
  },
  {
   "cell_type": "code",
   "execution_count": 36,
   "metadata": {},
   "outputs": [],
   "source": [
    "# 対数変換前の数値は削除\n",
    "df = df.drop(columns=['usd_goal_real'])"
   ]
  },
  {
   "cell_type": "code",
   "execution_count": 37,
   "metadata": {},
   "outputs": [],
   "source": [
    "# 作成したデータフレームを保存\n",
    "df.to_csv('../data/df_classification.csv')"
   ]
  },
  {
   "cell_type": "markdown",
   "metadata": {},
   "source": [
    "## ロジスティック回帰"
   ]
  },
  {
   "cell_type": "code",
   "execution_count": 38,
   "metadata": {},
   "outputs": [
    {
     "data": {
      "text/plain": [
       "SGDClassifier(loss='log', max_iter=10000, random_state=1234)"
      ]
     },
     "execution_count": 38,
     "metadata": {},
     "output_type": "execute_result"
    }
   ],
   "source": [
    "X = df.drop(columns=['state_successful'])\n",
    "y = df['state_successful']\n",
    "lr_clf = SGDClassifier(loss='log', max_iter=10000, fit_intercept=True, random_state=1234, tol=1e-3)\n",
    "lr_clf.fit(X, y)"
   ]
  },
  {
   "cell_type": "markdown",
   "metadata": {},
   "source": [
    "## 識別精度の算出\n",
    "- 検証精度の算出については，DAY2以降で取り扱う"
   ]
  },
  {
   "cell_type": "code",
   "execution_count": 39,
   "metadata": {},
   "outputs": [],
   "source": [
    "y_predicted = lr_clf.predict(X)"
   ]
  },
  {
   "cell_type": "code",
   "execution_count": 40,
   "metadata": {},
   "outputs": [
    {
     "name": "stdout",
     "output_type": "stream",
     "text": [
      "正解率: 0.654\n",
      "Precision: 0.584\n",
      "Recall: 0.496\n",
      "F1: 0.536\n"
     ]
    }
   ],
   "source": [
    "acc = accuracy_score(y, y_predicted)\n",
    "precision = precision_score(y, y_predicted)\n",
    "recall = recall_score(y, y_predicted)\n",
    "f_1 = f1_score(y, y_predicted)\n",
    "\n",
    "print(f'正解率: {acc:.3}')\n",
    "print(f'Precision: {precision:.3}')\n",
    "print(f'Recall: {recall:.3}')\n",
    "print(f'F1: {f_1:.3}')"
   ]
  },
  {
   "cell_type": "code",
   "execution_count": null,
   "metadata": {},
   "outputs": [],
   "source": []
  }
 ],
 "metadata": {
  "kernelspec": {
   "display_name": "Python 3",
   "language": "python",
   "name": "python3"
  },
  "language_info": {
   "codemirror_mode": {
    "name": "ipython",
    "version": 3
   },
   "file_extension": ".py",
   "mimetype": "text/x-python",
   "name": "python",
   "nbconvert_exporter": "python",
   "pygments_lexer": "ipython3",
   "version": "3.7.3"
  }
 },
 "nbformat": 4,
 "nbformat_minor": 2
}
