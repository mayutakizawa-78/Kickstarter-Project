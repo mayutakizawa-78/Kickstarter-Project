{
 "cells": [
  {
   "cell_type": "markdown",
   "metadata": {},
   "source": [
    "# 通し課題模範解答 分類編 DAY 3\n",
    "- kaggle の kickstarter project に関して，成功・失敗を予測するモデルを作成する\n",
    "    - https://www.kaggle.com/kemical/kickstarter-projects?select=ks-projects-201801.csv\n",
    "- DAY 3 では，以下を行う\n",
    "    - 特徴選択\n",
    "        - フィルタ法\n",
    "        - ラッパー法\n",
    "        - 埋め込み法\n",
    "    - 木モデルの利用\n",
    "        - 決定木\n",
    "        - ランダムフォレスト\n",
    "        - アダブースト\n",
    "    - ニューラルネットワークの利用"
   ]
  },
  {
   "cell_type": "code",
   "execution_count": 1,
   "metadata": {},
   "outputs": [],
   "source": [
    "import pandas as pd\n",
    "import numpy as np\n",
    "import matplotlib.pyplot as plt\n",
    "import seaborn as sns\n",
    "from sklearn.linear_model import SGDClassifier, LogisticRegressionCV\n",
    "from sklearn.tree import DecisionTreeClassifier\n",
    "from sklearn.ensemble import RandomForestClassifier, AdaBoostClassifier\n",
    "from sklearn.feature_selection import RFECV, SelectFromModel\n",
    "from sklearn.model_selection import train_test_split, KFold, GridSearchCV\n",
    "from sklearn.metrics import accuracy_score, precision_score, recall_score, f1_score\n",
    "from sklearn.preprocessing import StandardScaler, PolynomialFeatures\n",
    "from sklearn.pipeline import Pipeline"
   ]
  },
  {
   "cell_type": "code",
   "execution_count": 2,
   "metadata": {},
   "outputs": [
    {
     "data": {
      "text/html": [
       "<div>\n",
       "<style scoped>\n",
       "    .dataframe tbody tr th:only-of-type {\n",
       "        vertical-align: middle;\n",
       "    }\n",
       "\n",
       "    .dataframe tbody tr th {\n",
       "        vertical-align: top;\n",
       "    }\n",
       "\n",
       "    .dataframe thead th {\n",
       "        text-align: right;\n",
       "    }\n",
       "</style>\n",
       "<table border=\"1\" class=\"dataframe\">\n",
       "  <thead>\n",
       "    <tr style=\"text-align: right;\">\n",
       "      <th></th>\n",
       "      <th>period</th>\n",
       "      <th>log_usd_goal</th>\n",
       "      <th>n_words</th>\n",
       "      <th>main_category_Comics</th>\n",
       "      <th>main_category_Crafts</th>\n",
       "      <th>main_category_Dance</th>\n",
       "      <th>main_category_Design</th>\n",
       "      <th>main_category_Fashion</th>\n",
       "      <th>main_category_Film &amp; Video</th>\n",
       "      <th>main_category_Food</th>\n",
       "      <th>...</th>\n",
       "      <th>currency_GBP</th>\n",
       "      <th>currency_HKD</th>\n",
       "      <th>currency_JPY</th>\n",
       "      <th>currency_MXN</th>\n",
       "      <th>currency_NOK</th>\n",
       "      <th>currency_NZD</th>\n",
       "      <th>currency_SEK</th>\n",
       "      <th>currency_SGD</th>\n",
       "      <th>currency_USD</th>\n",
       "      <th>state_successful</th>\n",
       "    </tr>\n",
       "    <tr>\n",
       "      <th>ID</th>\n",
       "      <th></th>\n",
       "      <th></th>\n",
       "      <th></th>\n",
       "      <th></th>\n",
       "      <th></th>\n",
       "      <th></th>\n",
       "      <th></th>\n",
       "      <th></th>\n",
       "      <th></th>\n",
       "      <th></th>\n",
       "      <th></th>\n",
       "      <th></th>\n",
       "      <th></th>\n",
       "      <th></th>\n",
       "      <th></th>\n",
       "      <th></th>\n",
       "      <th></th>\n",
       "      <th></th>\n",
       "      <th></th>\n",
       "      <th></th>\n",
       "      <th></th>\n",
       "    </tr>\n",
       "  </thead>\n",
       "  <tbody>\n",
       "    <tr>\n",
       "      <th>1000002330</th>\n",
       "      <td>58</td>\n",
       "      <td>3.185811</td>\n",
       "      <td>6</td>\n",
       "      <td>0</td>\n",
       "      <td>0</td>\n",
       "      <td>0</td>\n",
       "      <td>0</td>\n",
       "      <td>0</td>\n",
       "      <td>0</td>\n",
       "      <td>0</td>\n",
       "      <td>...</td>\n",
       "      <td>1</td>\n",
       "      <td>0</td>\n",
       "      <td>0</td>\n",
       "      <td>0</td>\n",
       "      <td>0</td>\n",
       "      <td>0</td>\n",
       "      <td>0</td>\n",
       "      <td>0</td>\n",
       "      <td>0</td>\n",
       "      <td>0</td>\n",
       "    </tr>\n",
       "    <tr>\n",
       "      <th>1000003930</th>\n",
       "      <td>59</td>\n",
       "      <td>4.477121</td>\n",
       "      <td>8</td>\n",
       "      <td>0</td>\n",
       "      <td>0</td>\n",
       "      <td>0</td>\n",
       "      <td>0</td>\n",
       "      <td>0</td>\n",
       "      <td>1</td>\n",
       "      <td>0</td>\n",
       "      <td>...</td>\n",
       "      <td>0</td>\n",
       "      <td>0</td>\n",
       "      <td>0</td>\n",
       "      <td>0</td>\n",
       "      <td>0</td>\n",
       "      <td>0</td>\n",
       "      <td>0</td>\n",
       "      <td>0</td>\n",
       "      <td>1</td>\n",
       "      <td>0</td>\n",
       "    </tr>\n",
       "    <tr>\n",
       "      <th>1000004038</th>\n",
       "      <td>44</td>\n",
       "      <td>4.653213</td>\n",
       "      <td>3</td>\n",
       "      <td>0</td>\n",
       "      <td>0</td>\n",
       "      <td>0</td>\n",
       "      <td>0</td>\n",
       "      <td>0</td>\n",
       "      <td>1</td>\n",
       "      <td>0</td>\n",
       "      <td>...</td>\n",
       "      <td>0</td>\n",
       "      <td>0</td>\n",
       "      <td>0</td>\n",
       "      <td>0</td>\n",
       "      <td>0</td>\n",
       "      <td>0</td>\n",
       "      <td>0</td>\n",
       "      <td>0</td>\n",
       "      <td>1</td>\n",
       "      <td>0</td>\n",
       "    </tr>\n",
       "    <tr>\n",
       "      <th>1000007540</th>\n",
       "      <td>29</td>\n",
       "      <td>3.698970</td>\n",
       "      <td>7</td>\n",
       "      <td>0</td>\n",
       "      <td>0</td>\n",
       "      <td>0</td>\n",
       "      <td>0</td>\n",
       "      <td>0</td>\n",
       "      <td>0</td>\n",
       "      <td>0</td>\n",
       "      <td>...</td>\n",
       "      <td>0</td>\n",
       "      <td>0</td>\n",
       "      <td>0</td>\n",
       "      <td>0</td>\n",
       "      <td>0</td>\n",
       "      <td>0</td>\n",
       "      <td>0</td>\n",
       "      <td>0</td>\n",
       "      <td>1</td>\n",
       "      <td>0</td>\n",
       "    </tr>\n",
       "    <tr>\n",
       "      <th>1000014025</th>\n",
       "      <td>34</td>\n",
       "      <td>4.698970</td>\n",
       "      <td>3</td>\n",
       "      <td>0</td>\n",
       "      <td>0</td>\n",
       "      <td>0</td>\n",
       "      <td>0</td>\n",
       "      <td>0</td>\n",
       "      <td>0</td>\n",
       "      <td>1</td>\n",
       "      <td>...</td>\n",
       "      <td>0</td>\n",
       "      <td>0</td>\n",
       "      <td>0</td>\n",
       "      <td>0</td>\n",
       "      <td>0</td>\n",
       "      <td>0</td>\n",
       "      <td>0</td>\n",
       "      <td>0</td>\n",
       "      <td>1</td>\n",
       "      <td>1</td>\n",
       "    </tr>\n",
       "  </tbody>\n",
       "</table>\n",
       "<p>5 rows × 31 columns</p>\n",
       "</div>"
      ],
      "text/plain": [
       "            period  log_usd_goal  n_words  main_category_Comics  \\\n",
       "ID                                                                \n",
       "1000002330      58      3.185811        6                     0   \n",
       "1000003930      59      4.477121        8                     0   \n",
       "1000004038      44      4.653213        3                     0   \n",
       "1000007540      29      3.698970        7                     0   \n",
       "1000014025      34      4.698970        3                     0   \n",
       "\n",
       "            main_category_Crafts  main_category_Dance  main_category_Design  \\\n",
       "ID                                                                            \n",
       "1000002330                     0                    0                     0   \n",
       "1000003930                     0                    0                     0   \n",
       "1000004038                     0                    0                     0   \n",
       "1000007540                     0                    0                     0   \n",
       "1000014025                     0                    0                     0   \n",
       "\n",
       "            main_category_Fashion  main_category_Film & Video  \\\n",
       "ID                                                              \n",
       "1000002330                      0                           0   \n",
       "1000003930                      0                           1   \n",
       "1000004038                      0                           1   \n",
       "1000007540                      0                           0   \n",
       "1000014025                      0                           0   \n",
       "\n",
       "            main_category_Food  ...  currency_GBP  currency_HKD  currency_JPY  \\\n",
       "ID                              ...                                             \n",
       "1000002330                   0  ...             1             0             0   \n",
       "1000003930                   0  ...             0             0             0   \n",
       "1000004038                   0  ...             0             0             0   \n",
       "1000007540                   0  ...             0             0             0   \n",
       "1000014025                   1  ...             0             0             0   \n",
       "\n",
       "            currency_MXN  currency_NOK  currency_NZD  currency_SEK  \\\n",
       "ID                                                                   \n",
       "1000002330             0             0             0             0   \n",
       "1000003930             0             0             0             0   \n",
       "1000004038             0             0             0             0   \n",
       "1000007540             0             0             0             0   \n",
       "1000014025             0             0             0             0   \n",
       "\n",
       "            currency_SGD  currency_USD  state_successful  \n",
       "ID                                                        \n",
       "1000002330             0             0                 0  \n",
       "1000003930             0             1                 0  \n",
       "1000004038             0             1                 0  \n",
       "1000007540             0             1                 0  \n",
       "1000014025             0             1                 1  \n",
       "\n",
       "[5 rows x 31 columns]"
      ]
     },
     "execution_count": 2,
     "metadata": {},
     "output_type": "execute_result"
    }
   ],
   "source": [
    "df = pd.read_csv('../data/df_classification.csv', index_col='ID')\n",
    "df.head()"
   ]
  },
  {
   "cell_type": "code",
   "execution_count": 3,
   "metadata": {},
   "outputs": [],
   "source": [
    "X = df.drop(columns='state_successful')\n",
    "y = df['state_successful']\n",
    "\n",
    "X_train, X_test, y_train, y_test = train_test_split(X, y, test_size=0.3, random_state=1234)"
   ]
  },
  {
   "cell_type": "code",
   "execution_count": 4,
   "metadata": {},
   "outputs": [
    {
     "name": "stderr",
     "output_type": "stream",
     "text": [
      "/Users/Mayu.T/anaconda3/lib/python3.7/site-packages/sklearn/preprocessing/data.py:645: DataConversionWarning: Data with input dtype int64, float64 were all converted to float64 by StandardScaler.\n",
      "  return self.partial_fit(X, y)\n",
      "/Users/Mayu.T/anaconda3/lib/python3.7/site-packages/sklearn/base.py:464: DataConversionWarning: Data with input dtype int64, float64 were all converted to float64 by StandardScaler.\n",
      "  return self.fit(X, **fit_params).transform(X)\n",
      "/Users/Mayu.T/anaconda3/lib/python3.7/site-packages/pandas/core/indexing.py:543: SettingWithCopyWarning: \n",
      "A value is trying to be set on a copy of a slice from a DataFrame.\n",
      "Try using .loc[row_indexer,col_indexer] = value instead\n",
      "\n",
      "See the caveats in the documentation: http://pandas.pydata.org/pandas-docs/stable/indexing.html#indexing-view-versus-copy\n",
      "  self.obj[item] = s\n",
      "/Users/Mayu.T/anaconda3/lib/python3.7/site-packages/ipykernel_launcher.py:3: DataConversionWarning: Data with input dtype int64, float64 were all converted to float64 by StandardScaler.\n",
      "  This is separate from the ipykernel package so we can avoid doing imports until\n",
      "/Users/Mayu.T/anaconda3/lib/python3.7/site-packages/pandas/core/indexing.py:543: SettingWithCopyWarning: \n",
      "A value is trying to be set on a copy of a slice from a DataFrame.\n",
      "Try using .loc[row_indexer,col_indexer] = value instead\n",
      "\n",
      "See the caveats in the documentation: http://pandas.pydata.org/pandas-docs/stable/indexing.html#indexing-view-versus-copy\n",
      "  self.obj[item] = s\n"
     ]
    }
   ],
   "source": [
    "std = StandardScaler()\n",
    "X_train.loc[:, ['log_usd_goal', 'period']] = std.fit_transform(X_train.loc[:, ['log_usd_goal', 'period']])\n",
    "X_test.loc[:, ['log_usd_goal', 'period']] = std.transform(X_test.loc[:, ['log_usd_goal', 'period']])"
   ]
  },
  {
   "cell_type": "markdown",
   "metadata": {},
   "source": [
    "## 特徴選択\n",
    "### フィルタ法\n",
    "- 相関係数による特徴選択を検討する"
   ]
  },
  {
   "cell_type": "code",
   "execution_count": 5,
   "metadata": {},
   "outputs": [
    {
     "data": {
      "text/plain": [
       "<matplotlib.axes._subplots.AxesSubplot at 0x7fe95a120400>"
      ]
     },
     "execution_count": 5,
     "metadata": {},
     "output_type": "execute_result"
    },
    {
     "data": {
      "image/png": "[encoded data removed]",
      "text/plain": [
       "<Figure size 1080x864 with 2 Axes>"
      ]
     },
     "metadata": {
      "needs_background": "light"
     },
     "output_type": "display_data"
    }
   ],
   "source": [
    "fig, ax = plt.subplots(1, 1, figsize=(15, 12))\n",
    "sns.heatmap(X_train.corr(), center=0, vmax=1, vmin=-1, ax=ax)"
   ]
  },
  {
   "cell_type": "code",
   "execution_count": 6,
   "metadata": {},
   "outputs": [
    {
     "data": {
      "text/plain": [
       "currency_USD  currency_CAD    0.381138\n",
       "currency_CAD  currency_USD    0.381138\n",
       "currency_EUR  currency_USD    0.410704\n",
       "currency_USD  currency_EUR    0.410704\n",
       "              currency_GBP    0.603659\n",
       "currency_GBP  currency_USD    0.603659\n",
       "dtype: float64"
      ]
     },
     "execution_count": 6,
     "metadata": {},
     "output_type": "execute_result"
    }
   ],
   "source": [
    "# 相関係数の絶対値が 0.3 以上 1.0 未満であるものを列挙\n",
    "X_corr = X_train.corr().abs()\n",
    "X_corr = X_corr.unstack()\n",
    "X_corr = X_corr.sort_values(kind=\"quicksort\")\n",
    "X_corr[(0.2 < X_corr) & (X_corr < 1)]"
   ]
  },
  {
   "cell_type": "markdown",
   "metadata": {},
   "source": [
    "最大で相関係数の絶対値が 0.6 程度であるため高いとは言えず，変数の削除の必要性はないと判断できる\n",
    "\n",
    "### ラッパー法\n",
    "- ステップワイズ法による特徴選択を行う"
   ]
  },
  {
   "cell_type": "code",
   "execution_count": 7,
   "metadata": {},
   "outputs": [],
   "source": [
    "kf = KFold(n_splits=5, shuffle=True, random_state=1234)"
   ]
  },
  {
   "cell_type": "code",
   "execution_count": 8,
   "metadata": {
    "scrolled": true
   },
   "outputs": [
    {
     "name": "stdout",
     "output_type": "stream",
     "text": [
      "Fitting estimator with 30 features.\n",
      "Fitting estimator with 29 features.\n",
      "Fitting estimator with 28 features.\n",
      "Fitting estimator with 27 features.\n",
      "Fitting estimator with 26 features.\n",
      "Fitting estimator with 25 features.\n",
      "Fitting estimator with 24 features.\n",
      "Fitting estimator with 23 features.\n",
      "Fitting estimator with 22 features.\n",
      "Fitting estimator with 21 features.\n",
      "Fitting estimator with 20 features.\n",
      "Fitting estimator with 19 features.\n",
      "Fitting estimator with 18 features.\n",
      "Fitting estimator with 17 features.\n",
      "Fitting estimator with 16 features.\n",
      "Fitting estimator with 15 features.\n",
      "Fitting estimator with 14 features.\n",
      "Fitting estimator with 13 features.\n",
      "Fitting estimator with 12 features.\n",
      "Fitting estimator with 11 features.\n",
      "Fitting estimator with 10 features.\n",
      "Fitting estimator with 9 features.\n",
      "Fitting estimator with 8 features.\n",
      "Fitting estimator with 7 features.\n",
      "Fitting estimator with 6 features.\n",
      "Fitting estimator with 5 features.\n",
      "Fitting estimator with 4 features.\n",
      "Fitting estimator with 3 features.\n",
      "Fitting estimator with 2 features.\n",
      "Fitting estimator with 30 features.\n",
      "Fitting estimator with 29 features.\n",
      "Fitting estimator with 28 features.\n",
      "Fitting estimator with 27 features.\n",
      "Fitting estimator with 26 features.\n",
      "Fitting estimator with 25 features.\n",
      "Fitting estimator with 24 features.\n",
      "Fitting estimator with 23 features.\n",
      "Fitting estimator with 22 features.\n",
      "Fitting estimator with 21 features.\n",
      "Fitting estimator with 20 features.\n",
      "Fitting estimator with 19 features.\n",
      "Fitting estimator with 18 features.\n",
      "Fitting estimator with 17 features.\n",
      "Fitting estimator with 16 features.\n",
      "Fitting estimator with 15 features.\n",
      "Fitting estimator with 14 features.\n",
      "Fitting estimator with 13 features.\n",
      "Fitting estimator with 12 features.\n",
      "Fitting estimator with 11 features.\n",
      "Fitting estimator with 10 features.\n",
      "Fitting estimator with 9 features.\n",
      "Fitting estimator with 8 features.\n",
      "Fitting estimator with 7 features.\n",
      "Fitting estimator with 6 features.\n",
      "Fitting estimator with 5 features.\n",
      "Fitting estimator with 4 features.\n",
      "Fitting estimator with 3 features.\n",
      "Fitting estimator with 2 features.\n",
      "Fitting estimator with 30 features.\n",
      "Fitting estimator with 29 features.\n",
      "Fitting estimator with 28 features.\n",
      "Fitting estimator with 27 features.\n",
      "Fitting estimator with 26 features.\n",
      "Fitting estimator with 25 features.\n",
      "Fitting estimator with 24 features.\n",
      "Fitting estimator with 23 features.\n",
      "Fitting estimator with 22 features.\n",
      "Fitting estimator with 21 features.\n",
      "Fitting estimator with 20 features.\n",
      "Fitting estimator with 19 features.\n",
      "Fitting estimator with 18 features.\n",
      "Fitting estimator with 17 features.\n",
      "Fitting estimator with 16 features.\n",
      "Fitting estimator with 15 features.\n",
      "Fitting estimator with 14 features.\n",
      "Fitting estimator with 13 features.\n",
      "Fitting estimator with 12 features.\n",
      "Fitting estimator with 11 features.\n",
      "Fitting estimator with 10 features.\n",
      "Fitting estimator with 9 features.\n",
      "Fitting estimator with 8 features.\n",
      "Fitting estimator with 7 features.\n",
      "Fitting estimator with 6 features.\n",
      "Fitting estimator with 5 features.\n",
      "Fitting estimator with 4 features.\n",
      "Fitting estimator with 3 features.\n",
      "Fitting estimator with 2 features.\n",
      "Fitting estimator with 30 features.\n",
      "Fitting estimator with 29 features.\n",
      "Fitting estimator with 28 features.\n",
      "Fitting estimator with 27 features.\n",
      "Fitting estimator with 26 features.\n",
      "Fitting estimator with 25 features.\n",
      "Fitting estimator with 24 features.\n",
      "Fitting estimator with 23 features.\n",
      "Fitting estimator with 22 features.\n",
      "Fitting estimator with 21 features.\n",
      "Fitting estimator with 20 features.\n",
      "Fitting estimator with 19 features.\n",
      "Fitting estimator with 18 features.\n",
      "Fitting estimator with 17 features.\n",
      "Fitting estimator with 16 features.\n",
      "Fitting estimator with 15 features.\n",
      "Fitting estimator with 14 features.\n",
      "Fitting estimator with 13 features.\n",
      "Fitting estimator with 12 features.\n",
      "Fitting estimator with 11 features.\n",
      "Fitting estimator with 10 features.\n",
      "Fitting estimator with 9 features.\n",
      "Fitting estimator with 8 features.\n",
      "Fitting estimator with 7 features.\n",
      "Fitting estimator with 6 features.\n",
      "Fitting estimator with 5 features.\n",
      "Fitting estimator with 4 features.\n",
      "Fitting estimator with 3 features.\n",
      "Fitting estimator with 2 features.\n",
      "Fitting estimator with 30 features.\n",
      "Fitting estimator with 29 features.\n",
      "Fitting estimator with 28 features.\n",
      "Fitting estimator with 27 features.\n",
      "Fitting estimator with 26 features.\n",
      "Fitting estimator with 25 features.\n",
      "Fitting estimator with 24 features.\n",
      "Fitting estimator with 23 features.\n",
      "Fitting estimator with 22 features.\n",
      "Fitting estimator with 21 features.\n",
      "Fitting estimator with 20 features.\n",
      "Fitting estimator with 19 features.\n",
      "Fitting estimator with 18 features.\n",
      "Fitting estimator with 17 features.\n",
      "Fitting estimator with 16 features.\n",
      "Fitting estimator with 15 features.\n",
      "Fitting estimator with 14 features.\n",
      "Fitting estimator with 13 features.\n",
      "Fitting estimator with 12 features.\n",
      "Fitting estimator with 11 features.\n",
      "Fitting estimator with 10 features.\n",
      "Fitting estimator with 9 features.\n",
      "Fitting estimator with 8 features.\n",
      "Fitting estimator with 7 features.\n",
      "Fitting estimator with 6 features.\n",
      "Fitting estimator with 5 features.\n",
      "Fitting estimator with 4 features.\n",
      "Fitting estimator with 3 features.\n",
      "Fitting estimator with 2 features.\n",
      "Fitting estimator with 30 features.\n",
      "Fitting estimator with 29 features.\n",
      "Fitting estimator with 28 features.\n"
     ]
    },
    {
     "data": {
      "text/plain": [
       "RFECV(cv=KFold(n_splits=5, random_state=1234, shuffle=True),\n",
       "   estimator=SGDClassifier(alpha=0.0001, average=False, class_weight=None,\n",
       "       early_stopping=False, epsilon=0.1, eta0=0.0, fit_intercept=True,\n",
       "       l1_ratio=0.15, learning_rate='optimal', loss='log', max_iter=10000,\n",
       "       n_iter=None, n_iter_no_change=5, n_jobs=None, penalty='l2',\n",
       "       power_t=0.5, random_state=1234, shuffle=True, tol=0.001,\n",
       "       validation_fraction=0.1, verbose=0, warm_start=False),\n",
       "   min_features_to_select=1, n_jobs=None, scoring='accuracy', step=1,\n",
       "   verbose=3)"
      ]
     },
     "execution_count": 8,
     "metadata": {},
     "output_type": "execute_result"
    }
   ],
   "source": [
    "lr_clf = SGDClassifier(loss='log', max_iter=10000, fit_intercept=True, random_state=1234, tol=1e-3)\n",
    "rfecv = RFECV(lr_clf, cv=kf, scoring='accuracy', verbose=3)\n",
    "rfecv.fit(X_train, y_train)"
   ]
  },
  {
   "cell_type": "code",
   "execution_count": 9,
   "metadata": {},
   "outputs": [
    {
     "name": "stdout",
     "output_type": "stream",
     "text": [
      "Feature ranking: \n",
      "[1 1 1 1 1 1 1 1 1 1 1 1 1 1 1 1 1 1 1 1 1 1 1 4 1 1 3 2 1 1]\n"
     ]
    }
   ],
   "source": [
    "# 特徴のランキングを表示（1が最も重要な特徴）\n",
    "print('Feature ranking: \\n{}'.format(rfecv.ranking_))"
   ]
  },
  {
   "cell_type": "code",
   "execution_count": 10,
   "metadata": {},
   "outputs": [
    {
     "name": "stdout",
     "output_type": "stream",
     "text": [
      "正解率: 0.649\n",
      "Precision: 0.621\n",
      "Recall: 0.335\n",
      "F1: 0.435\n"
     ]
    }
   ],
   "source": [
    "y_pred = rfecv.predict(X_test)\n",
    "\n",
    "acc = accuracy_score(y_test, y_pred)\n",
    "precision = precision_score(y_test, y_pred)\n",
    "recall = recall_score(y_test, y_pred)\n",
    "f_1 = f1_score(y_test, y_pred)\n",
    "\n",
    "print(f'正解率: {acc:.3}')\n",
    "print(f'Precision: {precision:.3}')\n",
    "print(f'Recall: {recall:.3}')\n",
    "print(f'F1: {f_1:.3}')"
   ]
  },
  {
   "cell_type": "markdown",
   "metadata": {},
   "source": [
    "線形モデルに対しては特徴選択は効果が薄い．\n",
    "\n",
    "### 埋め込み法\n",
    "- L_1 正則化によって特徴選択を行う"
   ]
  },
  {
   "cell_type": "code",
   "execution_count": 11,
   "metadata": {},
   "outputs": [
    {
     "name": "stderr",
     "output_type": "stream",
     "text": [
      "[Parallel(n_jobs=1)]: Using backend SequentialBackend with 1 concurrent workers.\n"
     ]
    },
    {
     "name": "stdout",
     "output_type": "stream",
     "text": [
      "[LibLinear][LibLinear][LibLinear][LibLinear][LibLinear][LibLinear][LibLinear][LibLinear][LibLinear][LibLinear]"
     ]
    },
    {
     "name": "stderr",
     "output_type": "stream",
     "text": [
      "[Parallel(n_jobs=1)]: Done   1 out of   1 | elapsed:   17.9s remaining:    0.0s\n"
     ]
    },
    {
     "name": "stdout",
     "output_type": "stream",
     "text": [
      "[LibLinear][LibLinear][LibLinear][LibLinear][LibLinear][LibLinear][LibLinear][LibLinear][LibLinear][LibLinear]"
     ]
    },
    {
     "name": "stderr",
     "output_type": "stream",
     "text": [
      "[Parallel(n_jobs=1)]: Done   2 out of   2 | elapsed:   31.3s remaining:    0.0s\n"
     ]
    },
    {
     "name": "stdout",
     "output_type": "stream",
     "text": [
      "[LibLinear][LibLinear][LibLinear][LibLinear][LibLinear][LibLinear][LibLinear][LibLinear][LibLinear][LibLinear][LibLinear][LibLinear][LibLinear][LibLinear][LibLinear][LibLinear][LibLinear][LibLinear][LibLinear][LibLinear][LibLinear][LibLinear][LibLinear][LibLinear][LibLinear][LibLinear][LibLinear][LibLinear][LibLinear][LibLinear]"
     ]
    },
    {
     "name": "stderr",
     "output_type": "stream",
     "text": [
      "[Parallel(n_jobs=1)]: Done   5 out of   5 | elapsed:  1.2min finished\n"
     ]
    },
    {
     "name": "stdout",
     "output_type": "stream",
     "text": [
      "[LibLinear]"
     ]
    },
    {
     "data": {
      "text/plain": [
       "SelectFromModel(estimator=LogisticRegressionCV(Cs=10, class_weight=None,\n",
       "           cv=KFold(n_splits=5, random_state=1234, shuffle=True),\n",
       "           dual=False, fit_intercept=True, intercept_scaling=1.0,\n",
       "           max_iter=10000, multi_class='warn', n_jobs=None, penalty='l1',\n",
       "           random_state=1234, refit=True, scoring=None, solver='liblinear',\n",
       "           tol=0.001, verbose=3),\n",
       "        max_features=None, norm_order=1, prefit=False, threshold=1e-05)"
      ]
     },
     "execution_count": 11,
     "metadata": {},
     "output_type": "execute_result"
    }
   ],
   "source": [
    "lr_cv = LogisticRegressionCV(penalty='l1', solver='liblinear', cv=kf, max_iter=10000, random_state=1234, tol=1e-3, verbose=3)\n",
    "sfm = SelectFromModel(lr_cv, threshold=1e-5)\n",
    "sfm.fit(X_train, y_train)"
   ]
  },
  {
   "cell_type": "code",
   "execution_count": 12,
   "metadata": {},
   "outputs": [],
   "source": [
    "X_train_l1 = X_train.loc[:, sfm.get_support()]\n",
    "X_test_l1 = X_test.loc[:, sfm.get_support()]"
   ]
  },
  {
   "cell_type": "code",
   "execution_count": 13,
   "metadata": {},
   "outputs": [
    {
     "name": "stdout",
     "output_type": "stream",
     "text": [
      "正解率: 0.649\n",
      "Precision: 0.621\n",
      "Recall: 0.335\n",
      "F1: 0.435\n"
     ]
    }
   ],
   "source": [
    "lr_clf = SGDClassifier(loss='log', max_iter=10000, fit_intercept=True, random_state=1234, tol=1e-3)\n",
    "lr_clf.fit(X_train_l1, y_train)\n",
    "\n",
    "y_pred = lr_clf.predict(X_test_l1)\n",
    "\n",
    "acc = accuracy_score(y_test, y_pred)\n",
    "precision = precision_score(y_test, y_pred)\n",
    "recall = recall_score(y_test, y_pred)\n",
    "f_1 = f1_score(y_test, y_pred)\n",
    "\n",
    "print(f'正解率: {acc:.3}')\n",
    "print(f'Precision: {precision:.3}')\n",
    "print(f'Recall: {recall:.3}')\n",
    "print(f'F1: {f_1:.3}')"
   ]
  },
  {
   "cell_type": "markdown",
   "metadata": {},
   "source": [
    "線形モデルに対しては特徴選択は効果が薄い．\n",
    "\n",
    "##  木モデルの利用\n",
    "### 決定木\n",
    "以下をチューニングしつつ学習\n",
    "- max_depth: 木の深さの最大値\n",
    "- min_samples_leaf: 1つのノードに許される最小サンプルサイズ"
   ]
  },
  {
   "cell_type": "code",
   "execution_count": 14,
   "metadata": {
    "scrolled": true
   },
   "outputs": [
    {
     "name": "stdout",
     "output_type": "stream",
     "text": [
      "Fitting 5 folds for each of 20 candidates, totalling 100 fits\n",
      "[CV] max_depth=10, min_samples_leaf=1 ................................\n"
     ]
    },
    {
     "name": "stderr",
     "output_type": "stream",
     "text": [
      "[Parallel(n_jobs=1)]: Using backend SequentialBackend with 1 concurrent workers.\n"
     ]
    },
    {
     "name": "stdout",
     "output_type": "stream",
     "text": [
      "[CV]  max_depth=10, min_samples_leaf=1, score=0.6547357539733816, total=   0.8s\n",
      "[CV] max_depth=10, min_samples_leaf=1 ................................\n"
     ]
    },
    {
     "name": "stderr",
     "output_type": "stream",
     "text": [
      "[Parallel(n_jobs=1)]: Done   1 out of   1 | elapsed:    0.9s remaining:    0.0s\n"
     ]
    },
    {
     "name": "stdout",
     "output_type": "stream",
     "text": [
      "[CV]  max_depth=10, min_samples_leaf=1, score=0.6532497738725933, total=   0.7s\n",
      "[CV] max_depth=10, min_samples_leaf=1 ................................\n"
     ]
    },
    {
     "name": "stderr",
     "output_type": "stream",
     "text": [
      "[Parallel(n_jobs=1)]: Done   2 out of   2 | elapsed:    1.7s remaining:    0.0s\n"
     ]
    },
    {
     "name": "stdout",
     "output_type": "stream",
     "text": [
      "[CV]  max_depth=10, min_samples_leaf=1, score=0.6573200671921436, total=   0.7s\n",
      "[CV] max_depth=10, min_samples_leaf=1 ................................\n",
      "[CV]  max_depth=10, min_samples_leaf=1, score=0.6551449368996856, total=   0.9s\n",
      "[CV] max_depth=10, min_samples_leaf=1 ................................\n",
      "[CV]  max_depth=10, min_samples_leaf=1, score=0.6522591204720679, total=   0.7s\n",
      "[CV] max_depth=10, min_samples_leaf=2 ................................\n",
      "[CV]  max_depth=10, min_samples_leaf=2, score=0.6546496101994228, total=   0.8s\n",
      "[CV] max_depth=10, min_samples_leaf=2 ................................\n",
      "[CV]  max_depth=10, min_samples_leaf=2, score=0.6535082051944696, total=   0.8s\n",
      "[CV] max_depth=10, min_samples_leaf=2 ................................\n",
      "[CV]  max_depth=10, min_samples_leaf=2, score=0.657363139079123, total=   0.7s\n",
      "[CV] max_depth=10, min_samples_leaf=2 ................................\n",
      "[CV]  max_depth=10, min_samples_leaf=2, score=0.6553818322780721, total=   0.7s\n",
      "[CV] max_depth=10, min_samples_leaf=2 ................................\n",
      "[CV]  max_depth=10, min_samples_leaf=2, score=0.6522591204720679, total=   0.7s\n",
      "[CV] max_depth=10, min_samples_leaf=3 ................................\n",
      "[CV]  max_depth=10, min_samples_leaf=3, score=0.6546926820864022, total=   0.7s\n",
      "[CV] max_depth=10, min_samples_leaf=3 ................................\n",
      "[CV]  max_depth=10, min_samples_leaf=3, score=0.6533574535900418, total=   0.7s\n",
      "[CV] max_depth=10, min_samples_leaf=3 ................................\n",
      "[CV]  max_depth=10, min_samples_leaf=3, score=0.6574492828530818, total=   0.8s\n",
      "[CV] max_depth=10, min_samples_leaf=3 ................................\n",
      "[CV]  max_depth=10, min_samples_leaf=3, score=0.6554033682215618, total=   0.7s\n",
      "[CV] max_depth=10, min_samples_leaf=3 ................................\n",
      "[CV]  max_depth=10, min_samples_leaf=3, score=0.6526683033983719, total=   0.7s\n",
      "[CV] max_depth=10, min_samples_leaf=4 ................................\n",
      "[CV]  max_depth=10, min_samples_leaf=4, score=0.6549726493517681, total=   0.7s\n",
      "[CV] max_depth=10, min_samples_leaf=4 ................................\n",
      "[CV]  max_depth=10, min_samples_leaf=4, score=0.6534005254770211, total=   0.7s\n",
      "[CV] max_depth=10, min_samples_leaf=4 ................................\n",
      "[CV]  max_depth=10, min_samples_leaf=4, score=0.657643106344489, total=   0.7s\n",
      "[CV] max_depth=10, min_samples_leaf=4 ................................\n",
      "[CV]  max_depth=10, min_samples_leaf=4, score=0.6551664728431753, total=   0.7s\n",
      "[CV] max_depth=10, min_samples_leaf=4 ................................\n",
      "[CV]  max_depth=10, min_samples_leaf=4, score=0.6526898393418615, total=   0.7s\n",
      "[CV] max_depth=11, min_samples_leaf=1 ................................\n",
      "[CV]  max_depth=11, min_samples_leaf=1, score=0.6595813412585605, total=   0.8s\n",
      "[CV] max_depth=11, min_samples_leaf=1 ................................\n",
      "[CV]  max_depth=11, min_samples_leaf=1, score=0.6555325838824999, total=   0.9s\n",
      "[CV] max_depth=11, min_samples_leaf=1 ................................\n",
      "[CV]  max_depth=11, min_samples_leaf=1, score=0.6596244131455399, total=   0.7s\n",
      "[CV] max_depth=11, min_samples_leaf=1 ................................\n",
      "[CV]  max_depth=11, min_samples_leaf=1, score=0.6580307533273033, total=   0.8s\n",
      "[CV] max_depth=11, min_samples_leaf=1 ................................\n",
      "[CV]  max_depth=11, min_samples_leaf=1, score=0.6541327475556704, total=   0.7s\n",
      "[CV] max_depth=11, min_samples_leaf=2 ................................\n",
      "[CV]  max_depth=11, min_samples_leaf=2, score=0.6592367661627256, total=   0.7s\n",
      "[CV] max_depth=11, min_samples_leaf=2 ................................\n",
      "[CV]  max_depth=11, min_samples_leaf=2, score=0.6557694792608865, total=   0.7s\n",
      "[CV] max_depth=11, min_samples_leaf=2 ................................\n",
      "[CV]  max_depth=11, min_samples_leaf=2, score=0.6599905241848646, total=   0.8s\n",
      "[CV] max_depth=11, min_samples_leaf=2 ................................\n",
      "[CV]  max_depth=11, min_samples_leaf=2, score=0.6582891846491795, total=   0.7s\n",
      "[CV] max_depth=11, min_samples_leaf=2 ................................\n",
      "[CV]  max_depth=11, min_samples_leaf=2, score=0.6541758194426498, total=   0.8s\n",
      "[CV] max_depth=11, min_samples_leaf=3 ................................\n",
      "[CV]  max_depth=11, min_samples_leaf=3, score=0.6593229099366843, total=   0.7s\n",
      "[CV] max_depth=11, min_samples_leaf=3 ................................\n",
      "[CV]  max_depth=11, min_samples_leaf=3, score=0.6553172244476031, total=   0.7s\n",
      "[CV] max_depth=11, min_samples_leaf=3 ................................\n",
      "[CV]  max_depth=11, min_samples_leaf=3, score=0.659689020976009, total=   0.8s\n",
      "[CV] max_depth=11, min_samples_leaf=3 ................................\n",
      "[CV]  max_depth=11, min_samples_leaf=3, score=0.6577938579489168, total=   0.7s\n",
      "[CV] max_depth=11, min_samples_leaf=3 ................................\n",
      "[CV]  max_depth=11, min_samples_leaf=3, score=0.6543481069905672, total=   0.8s\n",
      "[CV] max_depth=11, min_samples_leaf=4 ................................\n",
      "[CV]  max_depth=11, min_samples_leaf=4, score=0.6596244131455399, total=   0.8s\n",
      "[CV] max_depth=11, min_samples_leaf=4 ................................\n",
      "[CV]  max_depth=11, min_samples_leaf=4, score=0.6556833354869277, total=   0.7s\n",
      "[CV] max_depth=11, min_samples_leaf=4 ................................\n",
      "[CV]  max_depth=11, min_samples_leaf=4, score=0.6592798380497049, total=   0.8s\n",
      "[CV] max_depth=11, min_samples_leaf=4 ................................\n",
      "[CV]  max_depth=11, min_samples_leaf=4, score=0.6576646422879786, total=   0.7s\n",
      "[CV] max_depth=11, min_samples_leaf=4 ................................\n",
      "[CV]  max_depth=11, min_samples_leaf=4, score=0.654434250764526, total=   0.7s\n",
      "[CV] max_depth=12, min_samples_leaf=1 ................................\n",
      "[CV]  max_depth=12, min_samples_leaf=1, score=0.6605935306025758, total=   0.8s\n",
      "[CV] max_depth=12, min_samples_leaf=1 ................................\n",
      "[CV]  max_depth=12, min_samples_leaf=1, score=0.6588921910668907, total=   0.8s\n",
      "[CV] max_depth=12, min_samples_leaf=1 ................................\n",
      "[CV]  max_depth=12, min_samples_leaf=1, score=0.6588706551234009, total=   0.8s\n",
      "[CV] max_depth=12, min_samples_leaf=1 ................................\n",
      "[CV]  max_depth=12, min_samples_leaf=1, score=0.6588921910668907, total=   0.8s\n",
      "[CV] max_depth=12, min_samples_leaf=1 ................................\n",
      "[CV]  max_depth=12, min_samples_leaf=1, score=0.654089675668691, total=   0.8s\n",
      "[CV] max_depth=12, min_samples_leaf=2 ................................\n",
      "[CV]  max_depth=12, min_samples_leaf=2, score=0.660442778998148, total=   0.8s\n",
      "[CV] max_depth=12, min_samples_leaf=2 ................................\n",
      "[CV]  max_depth=12, min_samples_leaf=2, score=0.6593659818236637, total=   0.8s\n",
      "[CV] max_depth=12, min_samples_leaf=2 ................................\n",
      "[CV]  max_depth=12, min_samples_leaf=2, score=0.6592367661627256, total=   0.8s\n",
      "[CV] max_depth=12, min_samples_leaf=2 ................................\n",
      "[CV]  max_depth=12, min_samples_leaf=2, score=0.6595167334280915, total=   0.8s\n",
      "[CV] max_depth=12, min_samples_leaf=2 ................................\n",
      "[CV]  max_depth=12, min_samples_leaf=2, score=0.6543050351035878, total=   0.8s\n",
      "[CV] max_depth=12, min_samples_leaf=3 ................................\n",
      "[CV]  max_depth=12, min_samples_leaf=3, score=0.660162811732782, total=   0.8s\n",
      "[CV] max_depth=12, min_samples_leaf=3 ................................\n",
      "[CV]  max_depth=12, min_samples_leaf=3, score=0.6591506223887669, total=   0.7s\n",
      "[CV] max_depth=12, min_samples_leaf=3 ................................\n",
      "[CV]  max_depth=12, min_samples_leaf=3, score=0.6588060472929319, total=   0.8s\n",
      "[CV] max_depth=12, min_samples_leaf=3 ................................\n",
      "[CV]  max_depth=12, min_samples_leaf=3, score=0.6591075505017875, total=   0.8s\n",
      "[CV] max_depth=12, min_samples_leaf=3 ................................\n",
      "[CV]  max_depth=12, min_samples_leaf=3, score=0.6546280742559332, total=   0.8s\n",
      "[CV] max_depth=12, min_samples_leaf=4 ................................\n",
      "[CV]  max_depth=12, min_samples_leaf=4, score=0.6609381056984106, total=   0.8s\n",
      "[CV] max_depth=12, min_samples_leaf=4 ................................\n",
      "[CV]  max_depth=12, min_samples_leaf=4, score=0.6589783348408493, total=   0.8s\n",
      "[CV] max_depth=12, min_samples_leaf=4 ................................\n"
     ]
    },
    {
     "name": "stdout",
     "output_type": "stream",
     "text": [
      "[CV]  max_depth=12, min_samples_leaf=4, score=0.6587414394624629, total=   0.8s\n",
      "[CV] max_depth=12, min_samples_leaf=4 ................................\n",
      "[CV]  max_depth=12, min_samples_leaf=4, score=0.6593229099366843, total=   0.8s\n",
      "[CV] max_depth=12, min_samples_leaf=4 ................................\n",
      "[CV]  max_depth=12, min_samples_leaf=4, score=0.6549511134082784, total=   0.8s\n",
      "[CV] max_depth=13, min_samples_leaf=1 ................................\n",
      "[CV]  max_depth=13, min_samples_leaf=1, score=0.6581384330447517, total=   0.8s\n",
      "[CV] max_depth=13, min_samples_leaf=1 ................................\n",
      "[CV]  max_depth=13, min_samples_leaf=1, score=0.6576861782314684, total=   0.8s\n",
      "[CV] max_depth=13, min_samples_leaf=1 ................................\n",
      "[CV]  max_depth=13, min_samples_leaf=1, score=0.6588060472929319, total=   0.9s\n",
      "[CV] max_depth=13, min_samples_leaf=1 ................................\n",
      "[CV]  max_depth=13, min_samples_leaf=1, score=0.6604643149416376, total=   0.8s\n",
      "[CV] max_depth=13, min_samples_leaf=1 ................................\n",
      "[CV]  max_depth=13, min_samples_leaf=1, score=0.6570616358702674, total=   0.8s\n",
      "[CV] max_depth=13, min_samples_leaf=2 ................................\n",
      "[CV]  max_depth=13, min_samples_leaf=2, score=0.657772322005427, total=   0.9s\n",
      "[CV] max_depth=13, min_samples_leaf=2 ................................\n",
      "[CV]  max_depth=13, min_samples_leaf=2, score=0.657363139079123, total=   0.9s\n",
      "[CV] max_depth=13, min_samples_leaf=2 ................................\n",
      "[CV]  max_depth=13, min_samples_leaf=2, score=0.6590214067278287, total=   0.9s\n",
      "[CV] max_depth=13, min_samples_leaf=2 ................................\n",
      "[CV]  max_depth=13, min_samples_leaf=2, score=0.6610457854158591, total=   0.8s\n",
      "[CV] max_depth=13, min_samples_leaf=2 ................................\n",
      "[CV]  max_depth=13, min_samples_leaf=2, score=0.6580092173838136, total=   0.9s\n",
      "[CV] max_depth=13, min_samples_leaf=3 ................................\n",
      "[CV]  max_depth=13, min_samples_leaf=3, score=0.6576215704009992, total=   0.8s\n",
      "[CV] max_depth=13, min_samples_leaf=3 ................................\n",
      "[CV]  max_depth=13, min_samples_leaf=3, score=0.6571693155877159, total=   0.9s\n",
      "[CV] max_depth=13, min_samples_leaf=3 ................................\n",
      "[CV]  max_depth=13, min_samples_leaf=3, score=0.6576861782314684, total=   0.8s\n",
      "[CV] max_depth=13, min_samples_leaf=3 ................................\n",
      "[CV]  max_depth=13, min_samples_leaf=3, score=0.6591936942757463, total=   0.8s\n",
      "[CV] max_depth=13, min_samples_leaf=3 ................................\n",
      "[CV]  max_depth=13, min_samples_leaf=3, score=0.6578800017228755, total=   0.8s\n",
      "[CV] max_depth=13, min_samples_leaf=4 ................................\n",
      "[CV]  max_depth=13, min_samples_leaf=4, score=0.6579446095533446, total=   0.8s\n",
      "[CV] max_depth=13, min_samples_leaf=4 ................................\n",
      "[CV]  max_depth=13, min_samples_leaf=4, score=0.6578584657793858, total=   0.9s\n",
      "[CV] max_depth=13, min_samples_leaf=4 ................................\n",
      "[CV]  max_depth=13, min_samples_leaf=4, score=0.6580092173838136, total=   0.8s\n",
      "[CV] max_depth=13, min_samples_leaf=4 ................................\n",
      "[CV]  max_depth=13, min_samples_leaf=4, score=0.6594951974846018, total=   0.8s\n",
      "[CV] max_depth=13, min_samples_leaf=4 ................................\n",
      "[CV]  max_depth=13, min_samples_leaf=4, score=0.6582676487056898, total=   0.8s\n",
      "[CV] max_depth=14, min_samples_leaf=1 ................................\n",
      "[CV]  max_depth=14, min_samples_leaf=1, score=0.6566309170004738, total=   0.9s\n",
      "[CV] max_depth=14, min_samples_leaf=1 ................................\n",
      "[CV]  max_depth=14, min_samples_leaf=1, score=0.6570185639832881, total=   0.8s\n",
      "[CV] max_depth=14, min_samples_leaf=1 ................................\n",
      "[CV]  max_depth=14, min_samples_leaf=1, score=0.6545419304819744, total=   0.8s\n",
      "[CV] max_depth=14, min_samples_leaf=1 ................................\n",
      "[CV]  max_depth=14, min_samples_leaf=1, score=0.6573846750226128, total=   0.8s\n",
      "[CV] max_depth=14, min_samples_leaf=1 ................................\n",
      "[CV]  max_depth=14, min_samples_leaf=1, score=0.6582245768187104, total=   0.9s\n",
      "[CV] max_depth=14, min_samples_leaf=2 ................................\n",
      "[CV]  max_depth=14, min_samples_leaf=2, score=0.656544773226515, total=   0.8s\n",
      "[CV] max_depth=14, min_samples_leaf=2 ................................\n",
      "[CV]  max_depth=14, min_samples_leaf=2, score=0.6571477796442262, total=   0.8s\n",
      "[CV] max_depth=14, min_samples_leaf=2 ................................\n",
      "[CV]  max_depth=14, min_samples_leaf=2, score=0.6550587931257268, total=   0.8s\n",
      "[CV] max_depth=14, min_samples_leaf=2 ................................\n",
      "[CV]  max_depth=14, min_samples_leaf=2, score=0.6579230736098548, total=   0.8s\n",
      "[CV] max_depth=14, min_samples_leaf=2 ................................\n",
      "[CV]  max_depth=14, min_samples_leaf=2, score=0.6590644786148081, total=   0.9s\n",
      "[CV] max_depth=14, min_samples_leaf=3 ................................\n",
      "[CV]  max_depth=14, min_samples_leaf=3, score=0.6566955248309428, total=   0.9s\n",
      "[CV] max_depth=14, min_samples_leaf=3 ................................\n",
      "[CV]  max_depth=14, min_samples_leaf=3, score=0.6559633027522935, total=   0.8s\n",
      "[CV] max_depth=14, min_samples_leaf=3 ................................\n",
      "[CV]  max_depth=14, min_samples_leaf=3, score=0.6551234009561959, total=   0.8s\n",
      "[CV] max_depth=14, min_samples_leaf=3 ................................\n",
      "[CV]  max_depth=14, min_samples_leaf=3, score=0.6578800017228755, total=   0.8s\n",
      "[CV] max_depth=14, min_samples_leaf=3 ................................\n",
      "[CV]  max_depth=14, min_samples_leaf=3, score=0.6582030408752207, total=   0.8s\n",
      "[CV] max_depth=14, min_samples_leaf=4 ................................\n",
      "[CV]  max_depth=14, min_samples_leaf=4, score=0.6576215704009992, total=   0.8s\n",
      "[CV] max_depth=14, min_samples_leaf=4 ................................\n",
      "[CV]  max_depth=14, min_samples_leaf=4, score=0.6565878451134944, total=   0.8s\n",
      "[CV] max_depth=14, min_samples_leaf=4 ................................\n",
      "[CV]  max_depth=14, min_samples_leaf=4, score=0.6560063746392729, total=   0.9s\n",
      "[CV] max_depth=14, min_samples_leaf=4 ................................\n",
      "[CV]  max_depth=14, min_samples_leaf=4, score=0.6574062109661024, total=   0.9s\n",
      "[CV] max_depth=14, min_samples_leaf=4 ................................\n",
      "[CV]  max_depth=14, min_samples_leaf=4, score=0.6578369298358961, total=   0.8s\n"
     ]
    },
    {
     "name": "stderr",
     "output_type": "stream",
     "text": [
      "[Parallel(n_jobs=1)]: Done 100 out of 100 | elapsed:  1.5min finished\n"
     ]
    },
    {
     "data": {
      "text/plain": [
       "GridSearchCV(cv=KFold(n_splits=5, random_state=1234, shuffle=True),\n",
       "       error_score='raise-deprecating',\n",
       "       estimator=DecisionTreeClassifier(class_weight=None, criterion='entropy', max_depth=None,\n",
       "            max_features=None, max_leaf_nodes=None,\n",
       "            min_impurity_decrease=0.0, min_impurity_split=None,\n",
       "            min_samples_leaf=1, min_samples_split=2,\n",
       "            min_weight_fraction_leaf=0.0, presort=False, random_state=1234,\n",
       "            splitter='best'),\n",
       "       fit_params=None, iid='warn', n_jobs=None,\n",
       "       param_grid={'max_depth': range(10, 15), 'min_samples_leaf': range(1, 5)},\n",
       "       pre_dispatch='2*n_jobs', refit=True, return_train_score='warn',\n",
       "       scoring='accuracy', verbose=3)"
      ]
     },
     "execution_count": 14,
     "metadata": {},
     "output_type": "execute_result"
    }
   ],
   "source": [
    "parameters = {'max_depth': range(10, 15), 'min_samples_leaf': range(1, 5)}\n",
    "\n",
    "dtc = DecisionTreeClassifier(criterion='entropy', random_state=1234)\n",
    "grid = GridSearchCV(dtc, param_grid=parameters, \n",
    "                         cv=kf, \n",
    "                         scoring='accuracy', \n",
    "                         verbose=3) \n",
    "\n",
    "grid.fit(X_train, y_train)"
   ]
  },
  {
   "cell_type": "code",
   "execution_count": 15,
   "metadata": {},
   "outputs": [
    {
     "name": "stdout",
     "output_type": "stream",
     "text": [
      "正解率: 0.658\n",
      "Precision: 0.602\n",
      "Recall: 0.455\n",
      "F1: 0.518\n"
     ]
    }
   ],
   "source": [
    "y_pred = grid.predict(X_test)\n",
    "\n",
    "acc = accuracy_score(y_test, y_pred)\n",
    "precision = precision_score(y_test, y_pred)\n",
    "recall = recall_score(y_test, y_pred)\n",
    "f_1 = f1_score(y_test, y_pred)\n",
    "\n",
    "print(f'正解率: {acc:.3}')\n",
    "print(f'Precision: {precision:.3}')\n",
    "print(f'Recall: {recall:.3}')\n",
    "print(f'F1: {f_1:.3}')"
   ]
  },
  {
   "cell_type": "code",
   "execution_count": 16,
   "metadata": {},
   "outputs": [
    {
     "data": {
      "text/plain": [
       "DecisionTreeClassifier(class_weight=None, criterion='entropy', max_depth=13,\n",
       "            max_features=None, max_leaf_nodes=None,\n",
       "            min_impurity_decrease=0.0, min_impurity_split=None,\n",
       "            min_samples_leaf=2, min_samples_split=2,\n",
       "            min_weight_fraction_leaf=0.0, presort=False, random_state=1234,\n",
       "            splitter='best')"
      ]
     },
     "execution_count": 16,
     "metadata": {},
     "output_type": "execute_result"
    }
   ],
   "source": [
    "grid.best_estimator_"
   ]
  },
  {
   "cell_type": "markdown",
   "metadata": {},
   "source": [
    "通常のロジスティック回帰にくらべて性能は良くなった\n",
    "\n",
    "### ランダムフォレスト\n",
    "以下をチューニングしつつ学習．実行に30分ほどかかるので注意する\n",
    "- n_estimators: 弱学習器の数"
   ]
  },
  {
   "cell_type": "code",
   "execution_count": 17,
   "metadata": {
    "scrolled": false
   },
   "outputs": [
    {
     "name": "stdout",
     "output_type": "stream",
     "text": [
      "Fitting 5 folds for each of 5 candidates, totalling 25 fits\n",
      "[CV] n_estimators=50 .................................................\n"
     ]
    },
    {
     "name": "stderr",
     "output_type": "stream",
     "text": [
      "[Parallel(n_jobs=1)]: Using backend SequentialBackend with 1 concurrent workers.\n"
     ]
    },
    {
     "name": "stdout",
     "output_type": "stream",
     "text": [
      "[CV] ........ n_estimators=50, score=0.6296248438644096, total=  12.4s\n",
      "[CV] n_estimators=50 .................................................\n"
     ]
    },
    {
     "name": "stderr",
     "output_type": "stream",
     "text": [
      "[Parallel(n_jobs=1)]: Done   1 out of   1 | elapsed:   15.5s remaining:    0.0s\n"
     ]
    },
    {
     "name": "stdout",
     "output_type": "stream",
     "text": [
      "[CV] ......... n_estimators=50, score=0.633156738596718, total=  12.7s\n",
      "[CV] n_estimators=50 .................................................\n"
     ]
    },
    {
     "name": "stderr",
     "output_type": "stream",
     "text": [
      "[Parallel(n_jobs=1)]: Done   2 out of   2 | elapsed:   31.4s remaining:    0.0s\n"
     ]
    },
    {
     "name": "stdout",
     "output_type": "stream",
     "text": [
      "[CV] ........ n_estimators=50, score=0.6324891243485377, total=  15.1s\n",
      "[CV] n_estimators=50 .................................................\n",
      "[CV] ........ n_estimators=50, score=0.6354180126631348, total=  13.9s\n",
      "[CV] n_estimators=50 .................................................\n",
      "[CV] ........ n_estimators=50, score=0.6336089934100013, total=  13.9s\n",
      "[CV] n_estimators=60 .................................................\n",
      "[CV] ........ n_estimators=60, score=0.6305508894344661, total=  18.8s\n",
      "[CV] n_estimators=60 .................................................\n",
      "[CV] ......... n_estimators=60, score=0.632532196235517, total=  17.1s\n",
      "[CV] n_estimators=60 .................................................\n",
      "[CV] ........ n_estimators=60, score=0.6331352026532282, total=  16.6s\n",
      "[CV] n_estimators=60 .................................................\n",
      "[CV] ......... n_estimators=60, score=0.635267261058707, total=  16.5s\n",
      "[CV] n_estimators=60 .................................................\n",
      "[CV] ........ n_estimators=60, score=0.6346211827540165, total=  16.6s\n",
      "[CV] n_estimators=70 .................................................\n",
      "[CV] ........ n_estimators=70, score=0.6307016410388939, total=  21.3s\n",
      "[CV] n_estimators=70 .................................................\n",
      "[CV] ........ n_estimators=70, score=0.6338243528448981, total=  22.9s\n",
      "[CV] n_estimators=70 .................................................\n",
      "[CV] ........ n_estimators=70, score=0.6331136667097386, total=  22.5s\n",
      "[CV] n_estimators=70 .................................................\n",
      "[CV] ........ n_estimators=70, score=0.6360425550243356, total=  22.2s\n",
      "[CV] n_estimators=70 .................................................\n",
      "[CV] ........ n_estimators=70, score=0.6349011500193823, total=  23.0s\n",
      "[CV] n_estimators=80 .................................................\n",
      "[CV] ........ n_estimators=80, score=0.6302709221691002, total=  26.8s\n",
      "[CV] n_estimators=80 .................................................\n",
      "[CV] ........ n_estimators=80, score=0.6335659215230219, total=  21.4s\n",
      "[CV] n_estimators=80 .................................................\n",
      "[CV] ........ n_estimators=80, score=0.6326398759529654, total=  20.3s\n",
      "[CV] n_estimators=80 .................................................\n",
      "[CV] ........ n_estimators=80, score=0.6356549080415212, total=  19.7s\n",
      "[CV] n_estimators=80 .................................................\n",
      "[CV] ........ n_estimators=80, score=0.6355903002110522, total=  19.8s\n",
      "[CV] n_estimators=90 .................................................\n",
      "[CV] ........ n_estimators=90, score=0.6310892880217083, total=  22.3s\n",
      "[CV] n_estimators=90 .................................................\n",
      "[CV] ........ n_estimators=90, score=0.6328983072748418, total=  29.0s\n",
      "[CV] n_estimators=90 .................................................\n",
      "[CV] ........ n_estimators=90, score=0.6326614118964552, total=  29.4s\n",
      "[CV] n_estimators=90 .................................................\n",
      "[CV] ......... n_estimators=90, score=0.635331868889176, total=  29.3s\n",
      "[CV] n_estimators=90 .................................................\n",
      "[CV] ........ n_estimators=90, score=0.6346427186975061, total=38.0min\n"
     ]
    },
    {
     "name": "stderr",
     "output_type": "stream",
     "text": [
      "[Parallel(n_jobs=1)]: Done  25 out of  25 | elapsed: 48.4min finished\n"
     ]
    },
    {
     "data": {
      "text/plain": [
       "GridSearchCV(cv=KFold(n_splits=5, random_state=1234, shuffle=True),\n",
       "       error_score='raise-deprecating',\n",
       "       estimator=RandomForestClassifier(bootstrap=True, class_weight=None, criterion='entropy',\n",
       "            max_depth=None, max_features='auto', max_leaf_nodes=None,\n",
       "            min_impurity_decrease=0.0, min_impurity_split=None,\n",
       "            min_samples_leaf=1, min_samples_split=2,\n",
       "            min_weight_fraction_leaf=0.0, n_estimators='warn', n_jobs=None,\n",
       "            oob_score=False, random_state=1234, verbose=0,\n",
       "            warm_start=False),\n",
       "       fit_params=None, iid='warn', n_jobs=None,\n",
       "       param_grid={'n_estimators': range(50, 100, 10)},\n",
       "       pre_dispatch='2*n_jobs', refit=True, return_train_score='warn',\n",
       "       scoring='accuracy', verbose=3)"
      ]
     },
     "execution_count": 17,
     "metadata": {},
     "output_type": "execute_result"
    }
   ],
   "source": [
    "parameters = {'n_estimators': range(50, 100, 10)}\n",
    "\n",
    "rfc = RandomForestClassifier(criterion='entropy', random_state=1234)\n",
    "grid = GridSearchCV(rfc, param_grid=parameters, \n",
    "                         cv=kf, \n",
    "                         scoring='accuracy', \n",
    "                         verbose=3) \n",
    "\n",
    "grid.fit(X_train, y_train)"
   ]
  },
  {
   "cell_type": "code",
   "execution_count": 18,
   "metadata": {},
   "outputs": [
    {
     "name": "stdout",
     "output_type": "stream",
     "text": [
      "正解率: 0.63\n",
      "Precision: 0.548\n",
      "Recall: 0.475\n",
      "F1: 0.509\n"
     ]
    }
   ],
   "source": [
    "y_pred = grid.predict(X_test)\n",
    "\n",
    "acc = accuracy_score(y_test, y_pred)\n",
    "precision = precision_score(y_test, y_pred)\n",
    "recall = recall_score(y_test, y_pred)\n",
    "f_1 = f1_score(y_test, y_pred)\n",
    "\n",
    "print(f'正解率: {acc:.3}')\n",
    "print(f'Precision: {precision:.3}')\n",
    "print(f'Recall: {recall:.3}')\n",
    "print(f'F1: {f_1:.3}')"
   ]
  },
  {
   "cell_type": "code",
   "execution_count": 19,
   "metadata": {},
   "outputs": [
    {
     "data": {
      "text/plain": [
       "RandomForestClassifier(bootstrap=True, class_weight=None, criterion='entropy',\n",
       "            max_depth=None, max_features='auto', max_leaf_nodes=None,\n",
       "            min_impurity_decrease=0.0, min_impurity_split=None,\n",
       "            min_samples_leaf=1, min_samples_split=2,\n",
       "            min_weight_fraction_leaf=0.0, n_estimators=70, n_jobs=None,\n",
       "            oob_score=False, random_state=1234, verbose=0,\n",
       "            warm_start=False)"
      ]
     },
     "execution_count": 19,
     "metadata": {},
     "output_type": "execute_result"
    }
   ],
   "source": [
    "grid.best_estimator_"
   ]
  },
  {
   "cell_type": "markdown",
   "metadata": {},
   "source": [
    "- 決定木より精度が落ちてしまった\n",
    "- CV のスコアを見る限り，`n_estimators`に対してロバストであると推察できる\n",
    "\n",
    "### アダブースト\n",
    "決定木を弱学習器としたアダブーストを，以下をチューニングしながら学習\n",
    "- n_estimators: 弱学習器の数"
   ]
  },
  {
   "cell_type": "code",
   "execution_count": 20,
   "metadata": {
    "scrolled": true
   },
   "outputs": [
    {
     "name": "stdout",
     "output_type": "stream",
     "text": [
      "Fitting 5 folds for each of 5 candidates, totalling 25 fits\n",
      "[CV] n_estimators=50 .................................................\n"
     ]
    },
    {
     "name": "stderr",
     "output_type": "stream",
     "text": [
      "[Parallel(n_jobs=1)]: Using backend SequentialBackend with 1 concurrent workers.\n"
     ]
    },
    {
     "name": "stdout",
     "output_type": "stream",
     "text": [
      "[CV] ........ n_estimators=50, score=0.6644053926002498, total=   5.3s\n",
      "[CV] n_estimators=50 .................................................\n"
     ]
    },
    {
     "name": "stderr",
     "output_type": "stream",
     "text": [
      "[Parallel(n_jobs=1)]: Done   1 out of   1 | elapsed:    6.2s remaining:    0.0s\n"
     ]
    },
    {
     "name": "stdout",
     "output_type": "stream",
     "text": [
      "[CV] ........ n_estimators=50, score=0.6660851961924452, total=   5.0s\n",
      "[CV] n_estimators=50 .................................................\n"
     ]
    },
    {
     "name": "stderr",
     "output_type": "stream",
     "text": [
      "[Parallel(n_jobs=1)]: Done   2 out of   2 | elapsed:   12.1s remaining:    0.0s\n"
     ]
    },
    {
     "name": "stdout",
     "output_type": "stream",
     "text": [
      "[CV] ........ n_estimators=50, score=0.6663866994013008, total=   5.0s\n",
      "[CV] n_estimators=50 .................................................\n",
      "[CV] ........ n_estimators=50, score=0.6623594779687298, total=   5.0s\n",
      "[CV] n_estimators=50 .................................................\n",
      "[CV] ........ n_estimators=50, score=0.6663220915708317, total=   5.1s\n",
      "[CV] n_estimators=60 .................................................\n",
      "[CV] ........ n_estimators=60, score=0.6642761769393117, total=   6.4s\n",
      "[CV] n_estimators=60 .................................................\n",
      "[CV] ........ n_estimators=60, score=0.6666235947796872, total=   6.9s\n",
      "[CV] n_estimators=60 .................................................\n",
      "[CV] ......... n_estimators=60, score=0.666300555627342, total=   6.6s\n",
      "[CV] n_estimators=60 .................................................\n",
      "[CV] ........ n_estimators=60, score=0.6632209157083172, total=   6.7s\n",
      "[CV] n_estimators=60 .................................................\n",
      "[CV] ........ n_estimators=60, score=0.6668604901580738, total=   6.0s\n",
      "[CV] n_estimators=70 .................................................\n",
      "[CV] ........ n_estimators=70, score=0.6655467976052031, total=   6.5s\n",
      "[CV] n_estimators=70 .................................................\n",
      "[CV] ........ n_estimators=70, score=0.6669035620450532, total=   6.3s\n",
      "[CV] n_estimators=70 .................................................\n",
      "[CV] ........ n_estimators=70, score=0.6664943791187492, total=   6.3s\n",
      "[CV] n_estimators=70 .................................................\n",
      "[CV] ........ n_estimators=70, score=0.6628548046689926, total=   6.3s\n",
      "[CV] n_estimators=70 .................................................\n",
      "[CV] ........ n_estimators=70, score=0.6674850325192747, total=   6.1s\n",
      "[CV] n_estimators=80 .................................................\n",
      "[CV] ........ n_estimators=80, score=0.6650945427919197, total=   7.1s\n",
      "[CV] n_estimators=80 .................................................\n",
      "[CV] ........ n_estimators=80, score=0.6679372873325581, total=   7.1s\n",
      "[CV] n_estimators=80 .................................................\n",
      "[CV] ........ n_estimators=80, score=0.6672696730843778, total=   6.9s\n",
      "[CV] n_estimators=80 .................................................\n",
      "[CV] ........ n_estimators=80, score=0.6640177456174355, total=   7.0s\n",
      "[CV] n_estimators=80 .................................................\n",
      "[CV] ........ n_estimators=80, score=0.6670327777059913, total=   7.0s\n",
      "[CV] n_estimators=90 .................................................\n",
      "[CV] ........ n_estimators=90, score=0.6653529741137959, total=   7.9s\n",
      "[CV] n_estimators=90 .................................................\n",
      "[CV] ........ n_estimators=90, score=0.6672912090278675, total=   8.0s\n",
      "[CV] n_estimators=90 .................................................\n",
      "[CV] ........ n_estimators=90, score=0.6680449670500065, total=   8.0s\n",
      "[CV] n_estimators=90 .................................................\n",
      "[CV] ........ n_estimators=90, score=0.6644700004307189, total=   7.8s\n",
      "[CV] n_estimators=90 .................................................\n",
      "[CV] ........ n_estimators=90, score=0.6672050652539088, total=   7.9s\n"
     ]
    },
    {
     "name": "stderr",
     "output_type": "stream",
     "text": [
      "[Parallel(n_jobs=1)]: Done  25 out of  25 | elapsed:  3.2min finished\n"
     ]
    },
    {
     "data": {
      "text/plain": [
       "GridSearchCV(cv=KFold(n_splits=5, random_state=1234, shuffle=True),\n",
       "       error_score='raise-deprecating',\n",
       "       estimator=AdaBoostClassifier(algorithm='SAMME.R', base_estimator=None,\n",
       "          learning_rate=1.0, n_estimators=50, random_state=1234),\n",
       "       fit_params=None, iid='warn', n_jobs=None,\n",
       "       param_grid={'n_estimators': range(50, 100, 10)},\n",
       "       pre_dispatch='2*n_jobs', refit=True, return_train_score='warn',\n",
       "       scoring='accuracy', verbose=3)"
      ]
     },
     "execution_count": 20,
     "metadata": {},
     "output_type": "execute_result"
    }
   ],
   "source": [
    "parameters = {'n_estimators': range(50, 100, 10)}\n",
    "\n",
    "abc = AdaBoostClassifier(random_state=1234)\n",
    "grid = GridSearchCV(estimator=abc, param_grid=parameters, \n",
    "                         cv=kf, \n",
    "                         scoring='accuracy', \n",
    "                         verbose=3) \n",
    "\n",
    "grid.fit(X_train, y_train)"
   ]
  },
  {
   "cell_type": "code",
   "execution_count": 21,
   "metadata": {},
   "outputs": [
    {
     "name": "stdout",
     "output_type": "stream",
     "text": [
      "正解率: 0.664\n",
      "Precision: 0.608\n",
      "Recall: 0.471\n",
      "F1: 0.531\n"
     ]
    }
   ],
   "source": [
    "y_pred = grid.predict(X_test)\n",
    "\n",
    "acc = accuracy_score(y_test, y_pred)\n",
    "precision = precision_score(y_test, y_pred)\n",
    "recall = recall_score(y_test, y_pred)\n",
    "f_1 = f1_score(y_test, y_pred)\n",
    "\n",
    "print(f'正解率: {acc:.3}')\n",
    "print(f'Precision: {precision:.3}')\n",
    "print(f'Recall: {recall:.3}')\n",
    "print(f'F1: {f_1:.3}')"
   ]
  },
  {
   "cell_type": "code",
   "execution_count": 22,
   "metadata": {},
   "outputs": [
    {
     "data": {
      "text/plain": [
       "AdaBoostClassifier(algorithm='SAMME.R', base_estimator=None,\n",
       "          learning_rate=1.0, n_estimators=90, random_state=1234)"
      ]
     },
     "execution_count": 22,
     "metadata": {},
     "output_type": "execute_result"
    }
   ],
   "source": [
    "grid.best_estimator_"
   ]
  },
  {
   "cell_type": "markdown",
   "metadata": {},
   "source": [
    "決定木を上回る性能が達成された"
   ]
  },
  {
   "cell_type": "markdown",
   "metadata": {},
   "source": [
    "## ニューラルネットワークの利用\n",
    "- FutureWarning は無視して良い"
   ]
  },
  {
   "cell_type": "code",
   "execution_count": 23,
   "metadata": {},
   "outputs": [],
   "source": [
    "from tensorflow.keras import Sequential, Input\n",
    "from tensorflow.keras.layers import Dense, BatchNormalization\n",
    "from tensorflow.keras.optimizers import SGD, Adam\n",
    "from tensorflow.keras.losses import BinaryCrossentropy\n",
    "from tensorflow.keras.metrics import BinaryAccuracy, Precision, Recall"
   ]
  },
  {
   "cell_type": "code",
   "execution_count": 24,
   "metadata": {},
   "outputs": [
    {
     "name": "stdout",
     "output_type": "stream",
     "text": [
      "WARNING:tensorflow:From /Users/Mayu.T/anaconda3/lib/python3.7/site-packages/tensorflow/python/ops/init_ops.py:1251: calling VarianceScaling.__init__ (from tensorflow.python.ops.init_ops) with dtype is deprecated and will be removed in a future version.\n",
      "Instructions for updating:\n",
      "Call initializer instance with the dtype argument instead of passing it to the constructor\n",
      "WARNING:tensorflow:From /Users/Mayu.T/anaconda3/lib/python3.7/site-packages/tensorflow/python/ops/nn_impl.py:180: add_dispatch_support.<locals>.wrapper (from tensorflow.python.ops.array_ops) is deprecated and will be removed in a future version.\n",
      "Instructions for updating:\n",
      "Use tf.where in 2.0, which has the same broadcast rule as np.where\n"
     ]
    }
   ],
   "source": [
    "model = Sequential()\n",
    "model.add(Input(shape=(len(X_train.columns),)))\n",
    "model.add(Dense(100, activation='relu'))\n",
    "model.add(BatchNormalization())\n",
    "model.add(Dense(100, activation='relu'))\n",
    "model.add(BatchNormalization())\n",
    "model.add(Dense(100, activation='relu'))\n",
    "model.add(BatchNormalization())\n",
    "model.add(Dense(100, activation='relu'))\n",
    "model.add(BatchNormalization())\n",
    "model.add(Dense(1, activation='sigmoid'))\n",
    "\n",
    "model.compile(\n",
    "    optimizer=Adam(),\n",
    "    loss=BinaryCrossentropy(),\n",
    "    metrics=[BinaryAccuracy(), Precision(), Recall()],\n",
    ")"
   ]
  },
  {
   "cell_type": "code",
   "execution_count": 25,
   "metadata": {},
   "outputs": [
    {
     "name": "stdout",
     "output_type": "stream",
     "text": [
      "Train on 232170 samples, validate on 99502 samples\n",
      "Epoch 1/10\n",
      "232170/232170 [==============================] - 7s 32us/sample - loss: 0.6180 - binary_accuracy: 0.6504 - precision: 0.5859 - recall: 0.4578 - val_loss: 0.6116 - val_binary_accuracy: 0.6575 - val_precision: 0.6093 - val_recall: 0.4244\n",
      "Epoch 2/10\n",
      "232170/232170 [==============================] - 7s 32us/sample - loss: 0.6083 - binary_accuracy: 0.6597 - precision: 0.6015 - recall: 0.4661 - val_loss: 0.6059 - val_binary_accuracy: 0.6635 - val_precision: 0.6052 - val_recall: 0.4802\n",
      "Epoch 3/10\n",
      "232170/232170 [==============================] - 7s 30us/sample - loss: 0.6055 - binary_accuracy: 0.6623 - precision: 0.6043 - recall: 0.4744 - val_loss: 0.6048 - val_binary_accuracy: 0.6615 - val_precision: 0.6148 - val_recall: 0.4341\n",
      "Epoch 4/10\n",
      "232170/232170 [==============================] - 7s 31us/sample - loss: 0.6033 - binary_accuracy: 0.6643 - precision: 0.6071 - recall: 0.4784 - val_loss: 0.6030 - val_binary_accuracy: 0.6661 - val_precision: 0.6100 - val_recall: 0.4812\n",
      "Epoch 5/10\n",
      "232170/232170 [==============================] - 7s 31us/sample - loss: 0.6017 - binary_accuracy: 0.6657 - precision: 0.6084 - recall: 0.4831 - val_loss: 0.6033 - val_binary_accuracy: 0.6617 - val_precision: 0.6138 - val_recall: 0.4385\n",
      "Epoch 6/10\n",
      "232170/232170 [==============================] - 8s 33us/sample - loss: 0.6005 - binary_accuracy: 0.6669 - precision: 0.6102 - recall: 0.4848 - val_loss: 0.6011 - val_binary_accuracy: 0.6659 - val_precision: 0.6013 - val_recall: 0.5133\n",
      "Epoch 7/10\n",
      "232170/232170 [==============================] - 8s 35us/sample - loss: 0.5992 - binary_accuracy: 0.6688 - precision: 0.6125 - recall: 0.4897 - val_loss: 0.5992 - val_binary_accuracy: 0.6681 - val_precision: 0.6114 - val_recall: 0.4894\n",
      "Epoch 8/10\n",
      "232170/232170 [==============================] - 8s 35us/sample - loss: 0.5983 - binary_accuracy: 0.6695 - precision: 0.6143 - recall: 0.4879 - val_loss: 0.6005 - val_binary_accuracy: 0.6659 - val_precision: 0.6016 - val_recall: 0.5124\n",
      "Epoch 9/10\n",
      "232170/232170 [==============================] - 8s 33us/sample - loss: 0.5977 - binary_accuracy: 0.6699 - precision: 0.6146 - recall: 0.4898 - val_loss: 0.5994 - val_binary_accuracy: 0.6669 - val_precision: 0.6100 - val_recall: 0.4860\n",
      "Epoch 10/10\n",
      "232170/232170 [==============================] - 8s 34us/sample - loss: 0.5970 - binary_accuracy: 0.6702 - precision: 0.6144 - recall: 0.4925 - val_loss: 0.5982 - val_binary_accuracy: 0.6698 - val_precision: 0.6136 - val_recall: 0.4934\n"
     ]
    }
   ],
   "source": [
    "history = model.fit(\n",
    "    X_train,\n",
    "    y_train,\n",
    "    batch_size=128,\n",
    "    epochs=10,\n",
    "    validation_data=(X_test, y_test),\n",
    ")"
   ]
  },
  {
   "cell_type": "markdown",
   "metadata": {},
   "source": [
    "Adaboost と同等の性能が得られた"
   ]
  },
  {
   "cell_type": "code",
   "execution_count": null,
   "metadata": {},
   "outputs": [],
   "source": []
  }
 ],
 "metadata": {
  "kernelspec": {
   "display_name": "Python 3",
   "language": "python",
   "name": "python3"
  },
  "language_info": {
   "codemirror_mode": {
    "name": "ipython",
    "version": 3
   },
   "file_extension": ".py",
   "mimetype": "text/x-python",
   "name": "python",
   "nbconvert_exporter": "python",
   "pygments_lexer": "ipython3",
   "version": "3.7.3"
  }
 },
 "nbformat": 4,
 "nbformat_minor": 2
}
